{
 "cells": [
  {
   "cell_type": "code",
   "execution_count": 1,
   "metadata": {},
   "outputs": [
    {
     "name": "stderr",
     "output_type": "stream",
     "text": [
      "/Users/a1/.pyenv/versions/anaconda3-5.2.0/lib/python3.6/site-packages/h5py/__init__.py:36: FutureWarning: Conversion of the second argument of issubdtype from `float` to `np.floating` is deprecated. In future, it will be treated as `np.float64 == np.dtype(float).type`.\n",
      "  from ._conv import register_converters as _register_converters\n"
     ]
    }
   ],
   "source": [
    "import tensorflow as tf"
   ]
  },
  {
   "cell_type": "code",
   "execution_count": 2,
   "metadata": {},
   "outputs": [],
   "source": [
    "node1 = tf.constant(3.0, tf.float32)\n",
    "node2 = tf.constant(4.0)\n",
    "node3 = tf.add(node1, node2)\n"
   ]
  },
  {
   "cell_type": "code",
   "execution_count": 3,
   "metadata": {},
   "outputs": [
    {
     "name": "stdout",
     "output_type": "stream",
     "text": [
      "node1: Tensor(\"Const:0\", shape=(), dtype=float32) node2: Tensor(\"Const_1:0\", shape=(), dtype=float32)\n",
      "node3:  Tensor(\"Add:0\", shape=(), dtype=float32)\n"
     ]
    }
   ],
   "source": [
    "print(\"node1:\", node1, \"node2:\", node2)\n",
    "print(\"node3: \", node3)"
   ]
  },
  {
   "cell_type": "code",
   "execution_count": 4,
   "metadata": {},
   "outputs": [
    {
     "ename": "NameError",
     "evalue": "name 'node' is not defined",
     "output_type": "error",
     "traceback": [
      "\u001b[0;31m---------------------------------------------------------------------------\u001b[0m",
      "\u001b[0;31mNameError\u001b[0m                                 Traceback (most recent call last)",
      "\u001b[0;32m<ipython-input-4-87d21a6f42b6>\u001b[0m in \u001b[0;36m<module>\u001b[0;34m()\u001b[0m\n\u001b[1;32m      1\u001b[0m \u001b[0msess\u001b[0m \u001b[0;34m=\u001b[0m \u001b[0mtf\u001b[0m\u001b[0;34m.\u001b[0m\u001b[0mSession\u001b[0m\u001b[0;34m(\u001b[0m\u001b[0;34m)\u001b[0m\u001b[0;34m\u001b[0m\u001b[0m\n\u001b[0;32m----> 2\u001b[0;31m \u001b[0mprint\u001b[0m\u001b[0;34m(\u001b[0m\u001b[0msess\u001b[0m\u001b[0;34m.\u001b[0m\u001b[0mrun\u001b[0m\u001b[0;34m(\u001b[0m\u001b[0;34m[\u001b[0m\u001b[0mnode1\u001b[0m\u001b[0;34m,\u001b[0m \u001b[0mnode\u001b[0m\u001b[0;34m]\u001b[0m\u001b[0;34m)\u001b[0m\u001b[0;34m)\u001b[0m\u001b[0;34m\u001b[0m\u001b[0m\n\u001b[0m",
      "\u001b[0;31mNameError\u001b[0m: name 'node' is not defined"
     ]
    }
   ],
   "source": [
    "sess = tf.Session()\n",
    "print(sess.run([node1, node]))"
   ]
  },
  {
   "cell_type": "code",
   "execution_count": 5,
   "metadata": {},
   "outputs": [
    {
     "name": "stdout",
     "output_type": "stream",
     "text": [
      "[3.0, 4.0]\n"
     ]
    }
   ],
   "source": [
    "print(sess.run([node1, node2]))"
   ]
  },
  {
   "cell_type": "code",
   "execution_count": 6,
   "metadata": {},
   "outputs": [
    {
     "ename": "TypeError",
     "evalue": "'method' object is not subscriptable",
     "output_type": "error",
     "traceback": [
      "\u001b[0;31m---------------------------------------------------------------------------\u001b[0m",
      "\u001b[0;31mTypeError\u001b[0m                                 Traceback (most recent call last)",
      "\u001b[0;32m<ipython-input-6-ba206579efc1>\u001b[0m in \u001b[0;36m<module>\u001b[0;34m()\u001b[0m\n\u001b[0;32m----> 1\u001b[0;31m \u001b[0mprint\u001b[0m\u001b[0;34m(\u001b[0m\u001b[0msess\u001b[0m\u001b[0;34m.\u001b[0m\u001b[0mrun\u001b[0m\u001b[0;34m[\u001b[0m\u001b[0mnode1\u001b[0m\u001b[0;34m]\u001b[0m\u001b[0;34m)\u001b[0m\u001b[0;34m\u001b[0m\u001b[0m\n\u001b[0m",
      "\u001b[0;31mTypeError\u001b[0m: 'method' object is not subscriptable"
     ]
    }
   ],
   "source": [
    "print(sess.run[node1])"
   ]
  },
  {
   "cell_type": "code",
   "execution_count": null,
   "metadata": {},
   "outputs": [],
   "source": []
  },
  {
   "cell_type": "code",
   "execution_count": 7,
   "metadata": {},
   "outputs": [
    {
     "name": "stdout",
     "output_type": "stream",
     "text": [
      "3.0\n"
     ]
    }
   ],
   "source": [
    "print(sess.run(node1))"
   ]
  },
  {
   "cell_type": "code",
   "execution_count": 8,
   "metadata": {},
   "outputs": [
    {
     "name": "stdout",
     "output_type": "stream",
     "text": [
      "7.0\n"
     ]
    }
   ],
   "source": [
    "print(sess.run(node3))"
   ]
  },
  {
   "cell_type": "code",
   "execution_count": 9,
   "metadata": {},
   "outputs": [
    {
     "ename": "NameError",
     "evalue": "name 'adder_nod' is not defined",
     "output_type": "error",
     "traceback": [
      "\u001b[0;31m---------------------------------------------------------------------------\u001b[0m",
      "\u001b[0;31mNameError\u001b[0m                                 Traceback (most recent call last)",
      "\u001b[0;32m<ipython-input-9-e3b07d06023c>\u001b[0m in \u001b[0;36m<module>\u001b[0;34m()\u001b[0m\n\u001b[1;32m      3\u001b[0m \u001b[0madder_node\u001b[0m \u001b[0;34m=\u001b[0m \u001b[0ma\u001b[0m\u001b[0;34m+\u001b[0m\u001b[0mb\u001b[0m\u001b[0;34m\u001b[0m\u001b[0m\n\u001b[1;32m      4\u001b[0m \u001b[0;34m\u001b[0m\u001b[0m\n\u001b[0;32m----> 5\u001b[0;31m \u001b[0mprint\u001b[0m\u001b[0;34m(\u001b[0m\u001b[0msess\u001b[0m\u001b[0;34m.\u001b[0m\u001b[0mrun\u001b[0m\u001b[0;34m(\u001b[0m\u001b[0madder_nod\u001b[0m\u001b[0;34m,\u001b[0m \u001b[0mfeed_dict\u001b[0m\u001b[0;34m=\u001b[0m\u001b[0;34m{\u001b[0m\u001b[0ma\u001b[0m\u001b[0;34m:\u001b[0m\u001b[0;36m3\u001b[0m\u001b[0;34m,\u001b[0m \u001b[0mb\u001b[0m\u001b[0;34m:\u001b[0m\u001b[0;36m4.5\u001b[0m\u001b[0;34m}\u001b[0m\u001b[0;34m)\u001b[0m\u001b[0;34m)\u001b[0m\u001b[0;34m\u001b[0m\u001b[0m\n\u001b[0m",
      "\u001b[0;31mNameError\u001b[0m: name 'adder_nod' is not defined"
     ]
    }
   ],
   "source": [
    "a = tf.placeholder(tf.float32)\n",
    "b=tf.placeholder(tf.float32)\n",
    "adder_node = a+b\n",
    "\n",
    "print(sess.run(adder_nod, feed_dict={a:3, b:4.5}))"
   ]
  },
  {
   "cell_type": "code",
   "execution_count": 10,
   "metadata": {},
   "outputs": [
    {
     "ename": "NameError",
     "evalue": "name 'adder_nod' is not defined",
     "output_type": "error",
     "traceback": [
      "\u001b[0;31m---------------------------------------------------------------------------\u001b[0m",
      "\u001b[0;31mNameError\u001b[0m                                 Traceback (most recent call last)",
      "\u001b[0;32m<ipython-input-10-078d75eaeaf4>\u001b[0m in \u001b[0;36m<module>\u001b[0;34m()\u001b[0m\n\u001b[0;32m----> 1\u001b[0;31m \u001b[0mprint\u001b[0m\u001b[0;34m(\u001b[0m\u001b[0msess\u001b[0m\u001b[0;34m.\u001b[0m\u001b[0mrun\u001b[0m\u001b[0;34m(\u001b[0m\u001b[0madder_nod\u001b[0m\u001b[0;34m,\u001b[0m \u001b[0mfeed_dict\u001b[0m\u001b[0;34m=\u001b[0m\u001b[0;34m{\u001b[0m\u001b[0ma\u001b[0m\u001b[0;34m:\u001b[0m\u001b[0;36m3\u001b[0m\u001b[0;34m,\u001b[0m \u001b[0mb\u001b[0m\u001b[0;34m:\u001b[0m\u001b[0;36m4.5\u001b[0m\u001b[0;34m}\u001b[0m\u001b[0;34m)\u001b[0m\u001b[0;34m)\u001b[0m\u001b[0;34m\u001b[0m\u001b[0m\n\u001b[0m",
      "\u001b[0;31mNameError\u001b[0m: name 'adder_nod' is not defined"
     ]
    }
   ],
   "source": [
    "print(sess.run(adder_nod, feed_dict={a:3, b:4.5}))"
   ]
  },
  {
   "cell_type": "code",
   "execution_count": 11,
   "metadata": {},
   "outputs": [
    {
     "name": "stdout",
     "output_type": "stream",
     "text": [
      "7.5\n"
     ]
    }
   ],
   "source": [
    "print(sess.run(adder_node, feed_dict={a:3, b:4.5}))"
   ]
  },
  {
   "cell_type": "code",
   "execution_count": 12,
   "metadata": {},
   "outputs": [
    {
     "name": "stdout",
     "output_type": "stream",
     "text": [
      "[3. 7.]\n"
     ]
    }
   ],
   "source": [
    "print(sess.run(adder_node, feed_dict={a:[1, 3], b:[2, 4]}))"
   ]
  },
  {
   "cell_type": "code",
   "execution_count": 13,
   "metadata": {},
   "outputs": [
    {
     "name": "stdout",
     "output_type": "stream",
     "text": [
      "WARNING:tensorflow:From /Users/a1/.pyenv/versions/anaconda3-5.2.0/lib/python3.6/site-packages/tensorflow/python/framework/op_def_library.py:263: colocate_with (from tensorflow.python.framework.ops) is deprecated and will be removed in a future version.\n",
      "Instructions for updating:\n",
      "Colocations handled automatically by placer.\n"
     ]
    }
   ],
   "source": [
    "# X and Y data\n",
    "x_train = [1, 2, 3]\n",
    "y_train = [1, 2, 3]\n",
    "\n",
    "# Try to find values for W and b to compute y_data = x_data * W + b\n",
    "# We know that W should be 1 and b should be 0\n",
    "# But let TensorFlow figure it out\n",
    "W = tf.Variable(tf.random_normal([1]), name=\"weight\")\n",
    "b = tf.Variable(tf.random_normal([1]), name=\"bias\")\n",
    "\n",
    "# Our hypothesis XW+b\n",
    "hypothesis = x_train * W + b\n"
   ]
  },
  {
   "cell_type": "code",
   "execution_count": 14,
   "metadata": {},
   "outputs": [],
   "source": [
    "cost = tf.reduce_mean(tf.square(hypothesis - y_train))\n"
   ]
  },
  {
   "cell_type": "code",
   "execution_count": 15,
   "metadata": {},
   "outputs": [
    {
     "ename": "NameError",
     "evalue": "name 'pirnt' is not defined",
     "output_type": "error",
     "traceback": [
      "\u001b[0;31m---------------------------------------------------------------------------\u001b[0m",
      "\u001b[0;31mNameError\u001b[0m                                 Traceback (most recent call last)",
      "\u001b[0;32m<ipython-input-15-a3efdb2ae8b3>\u001b[0m in \u001b[0;36m<module>\u001b[0;34m()\u001b[0m\n\u001b[0;32m----> 1\u001b[0;31m \u001b[0mpirnt\u001b[0m\u001b[0;34m(\u001b[0m\u001b[0mcost\u001b[0m\u001b[0;34m)\u001b[0m\u001b[0;34m\u001b[0m\u001b[0m\n\u001b[0m",
      "\u001b[0;31mNameError\u001b[0m: name 'pirnt' is not defined"
     ]
    }
   ],
   "source": [
    "pirnt(cost)"
   ]
  },
  {
   "cell_type": "code",
   "execution_count": 16,
   "metadata": {},
   "outputs": [
    {
     "name": "stdout",
     "output_type": "stream",
     "text": [
      "Tensor(\"Mean:0\", shape=(), dtype=float32)\n"
     ]
    }
   ],
   "source": [
    "print(cost)"
   ]
  },
  {
   "cell_type": "code",
   "execution_count": 17,
   "metadata": {},
   "outputs": [
    {
     "ename": "FailedPreconditionError",
     "evalue": "Attempting to use uninitialized value bias\n\t [[node bias/read (defined at <ipython-input-13-ca6d0940d795>:9) ]]\n\nCaused by op 'bias/read', defined at:\n  File \"/Users/a1/.pyenv/versions/anaconda3-5.2.0/lib/python3.6/runpy.py\", line 193, in _run_module_as_main\n    \"__main__\", mod_spec)\n  File \"/Users/a1/.pyenv/versions/anaconda3-5.2.0/lib/python3.6/runpy.py\", line 85, in _run_code\n    exec(code, run_globals)\n  File \"/Users/a1/.pyenv/versions/anaconda3-5.2.0/lib/python3.6/site-packages/ipykernel_launcher.py\", line 16, in <module>\n    app.launch_new_instance()\n  File \"/Users/a1/.pyenv/versions/anaconda3-5.2.0/lib/python3.6/site-packages/traitlets/config/application.py\", line 658, in launch_instance\n    app.start()\n  File \"/Users/a1/.pyenv/versions/anaconda3-5.2.0/lib/python3.6/site-packages/ipykernel/kernelapp.py\", line 486, in start\n    self.io_loop.start()\n  File \"/Users/a1/.pyenv/versions/anaconda3-5.2.0/lib/python3.6/site-packages/tornado/platform/asyncio.py\", line 127, in start\n    self.asyncio_loop.run_forever()\n  File \"/Users/a1/.pyenv/versions/anaconda3-5.2.0/lib/python3.6/asyncio/base_events.py\", line 421, in run_forever\n    self._run_once()\n  File \"/Users/a1/.pyenv/versions/anaconda3-5.2.0/lib/python3.6/asyncio/base_events.py\", line 1425, in _run_once\n    handle._run()\n  File \"/Users/a1/.pyenv/versions/anaconda3-5.2.0/lib/python3.6/asyncio/events.py\", line 126, in _run\n    self._callback(*self._args)\n  File \"/Users/a1/.pyenv/versions/anaconda3-5.2.0/lib/python3.6/site-packages/tornado/platform/asyncio.py\", line 117, in _handle_events\n    handler_func(fileobj, events)\n  File \"/Users/a1/.pyenv/versions/anaconda3-5.2.0/lib/python3.6/site-packages/tornado/stack_context.py\", line 276, in null_wrapper\n    return fn(*args, **kwargs)\n  File \"/Users/a1/.pyenv/versions/anaconda3-5.2.0/lib/python3.6/site-packages/zmq/eventloop/zmqstream.py\", line 450, in _handle_events\n    self._handle_recv()\n  File \"/Users/a1/.pyenv/versions/anaconda3-5.2.0/lib/python3.6/site-packages/zmq/eventloop/zmqstream.py\", line 480, in _handle_recv\n    self._run_callback(callback, msg)\n  File \"/Users/a1/.pyenv/versions/anaconda3-5.2.0/lib/python3.6/site-packages/zmq/eventloop/zmqstream.py\", line 432, in _run_callback\n    callback(*args, **kwargs)\n  File \"/Users/a1/.pyenv/versions/anaconda3-5.2.0/lib/python3.6/site-packages/tornado/stack_context.py\", line 276, in null_wrapper\n    return fn(*args, **kwargs)\n  File \"/Users/a1/.pyenv/versions/anaconda3-5.2.0/lib/python3.6/site-packages/ipykernel/kernelbase.py\", line 283, in dispatcher\n    return self.dispatch_shell(stream, msg)\n  File \"/Users/a1/.pyenv/versions/anaconda3-5.2.0/lib/python3.6/site-packages/ipykernel/kernelbase.py\", line 233, in dispatch_shell\n    handler(stream, idents, msg)\n  File \"/Users/a1/.pyenv/versions/anaconda3-5.2.0/lib/python3.6/site-packages/ipykernel/kernelbase.py\", line 399, in execute_request\n    user_expressions, allow_stdin)\n  File \"/Users/a1/.pyenv/versions/anaconda3-5.2.0/lib/python3.6/site-packages/ipykernel/ipkernel.py\", line 208, in do_execute\n    res = shell.run_cell(code, store_history=store_history, silent=silent)\n  File \"/Users/a1/.pyenv/versions/anaconda3-5.2.0/lib/python3.6/site-packages/ipykernel/zmqshell.py\", line 537, in run_cell\n    return super(ZMQInteractiveShell, self).run_cell(*args, **kwargs)\n  File \"/Users/a1/.pyenv/versions/anaconda3-5.2.0/lib/python3.6/site-packages/IPython/core/interactiveshell.py\", line 2662, in run_cell\n    raw_cell, store_history, silent, shell_futures)\n  File \"/Users/a1/.pyenv/versions/anaconda3-5.2.0/lib/python3.6/site-packages/IPython/core/interactiveshell.py\", line 2785, in _run_cell\n    interactivity=interactivity, compiler=compiler, result=result)\n  File \"/Users/a1/.pyenv/versions/anaconda3-5.2.0/lib/python3.6/site-packages/IPython/core/interactiveshell.py\", line 2903, in run_ast_nodes\n    if self.run_code(code, result):\n  File \"/Users/a1/.pyenv/versions/anaconda3-5.2.0/lib/python3.6/site-packages/IPython/core/interactiveshell.py\", line 2963, in run_code\n    exec(code_obj, self.user_global_ns, self.user_ns)\n  File \"<ipython-input-13-ca6d0940d795>\", line 9, in <module>\n    b = tf.Variable(tf.random_normal([1]), name=\"bias\")\n  File \"/Users/a1/.pyenv/versions/anaconda3-5.2.0/lib/python3.6/site-packages/tensorflow/python/ops/variables.py\", line 213, in __call__\n    return cls._variable_v1_call(*args, **kwargs)\n  File \"/Users/a1/.pyenv/versions/anaconda3-5.2.0/lib/python3.6/site-packages/tensorflow/python/ops/variables.py\", line 176, in _variable_v1_call\n    aggregation=aggregation)\n  File \"/Users/a1/.pyenv/versions/anaconda3-5.2.0/lib/python3.6/site-packages/tensorflow/python/ops/variables.py\", line 155, in <lambda>\n    previous_getter = lambda **kwargs: default_variable_creator(None, **kwargs)\n  File \"/Users/a1/.pyenv/versions/anaconda3-5.2.0/lib/python3.6/site-packages/tensorflow/python/ops/variable_scope.py\", line 2495, in default_variable_creator\n    expected_shape=expected_shape, import_scope=import_scope)\n  File \"/Users/a1/.pyenv/versions/anaconda3-5.2.0/lib/python3.6/site-packages/tensorflow/python/ops/variables.py\", line 217, in __call__\n    return super(VariableMetaclass, cls).__call__(*args, **kwargs)\n  File \"/Users/a1/.pyenv/versions/anaconda3-5.2.0/lib/python3.6/site-packages/tensorflow/python/ops/variables.py\", line 1395, in __init__\n    constraint=constraint)\n  File \"/Users/a1/.pyenv/versions/anaconda3-5.2.0/lib/python3.6/site-packages/tensorflow/python/ops/variables.py\", line 1557, in _init_from_args\n    self._snapshot = array_ops.identity(self._variable, name=\"read\")\n  File \"/Users/a1/.pyenv/versions/anaconda3-5.2.0/lib/python3.6/site-packages/tensorflow/python/util/dispatch.py\", line 180, in wrapper\n    return target(*args, **kwargs)\n  File \"/Users/a1/.pyenv/versions/anaconda3-5.2.0/lib/python3.6/site-packages/tensorflow/python/ops/array_ops.py\", line 81, in identity\n    ret = gen_array_ops.identity(input, name=name)\n  File \"/Users/a1/.pyenv/versions/anaconda3-5.2.0/lib/python3.6/site-packages/tensorflow/python/ops/gen_array_ops.py\", line 3890, in identity\n    \"Identity\", input=input, name=name)\n  File \"/Users/a1/.pyenv/versions/anaconda3-5.2.0/lib/python3.6/site-packages/tensorflow/python/framework/op_def_library.py\", line 788, in _apply_op_helper\n    op_def=op_def)\n  File \"/Users/a1/.pyenv/versions/anaconda3-5.2.0/lib/python3.6/site-packages/tensorflow/python/util/deprecation.py\", line 507, in new_func\n    return func(*args, **kwargs)\n  File \"/Users/a1/.pyenv/versions/anaconda3-5.2.0/lib/python3.6/site-packages/tensorflow/python/framework/ops.py\", line 3300, in create_op\n    op_def=op_def)\n  File \"/Users/a1/.pyenv/versions/anaconda3-5.2.0/lib/python3.6/site-packages/tensorflow/python/framework/ops.py\", line 1801, in __init__\n    self._traceback = tf_stack.extract_stack()\n\nFailedPreconditionError (see above for traceback): Attempting to use uninitialized value bias\n\t [[node bias/read (defined at <ipython-input-13-ca6d0940d795>:9) ]]\n",
     "output_type": "error",
     "traceback": [
      "\u001b[0;31m---------------------------------------------------------------------------\u001b[0m",
      "\u001b[0;31mFailedPreconditionError\u001b[0m                   Traceback (most recent call last)",
      "\u001b[0;32m~/.pyenv/versions/anaconda3-5.2.0/lib/python3.6/site-packages/tensorflow/python/client/session.py\u001b[0m in \u001b[0;36m_do_call\u001b[0;34m(self, fn, *args)\u001b[0m\n\u001b[1;32m   1333\u001b[0m     \u001b[0;32mtry\u001b[0m\u001b[0;34m:\u001b[0m\u001b[0;34m\u001b[0m\u001b[0m\n\u001b[0;32m-> 1334\u001b[0;31m       \u001b[0;32mreturn\u001b[0m \u001b[0mfn\u001b[0m\u001b[0;34m(\u001b[0m\u001b[0;34m*\u001b[0m\u001b[0margs\u001b[0m\u001b[0;34m)\u001b[0m\u001b[0;34m\u001b[0m\u001b[0m\n\u001b[0m\u001b[1;32m   1335\u001b[0m     \u001b[0;32mexcept\u001b[0m \u001b[0merrors\u001b[0m\u001b[0;34m.\u001b[0m\u001b[0mOpError\u001b[0m \u001b[0;32mas\u001b[0m \u001b[0me\u001b[0m\u001b[0;34m:\u001b[0m\u001b[0;34m\u001b[0m\u001b[0m\n",
      "\u001b[0;32m~/.pyenv/versions/anaconda3-5.2.0/lib/python3.6/site-packages/tensorflow/python/client/session.py\u001b[0m in \u001b[0;36m_run_fn\u001b[0;34m(feed_dict, fetch_list, target_list, options, run_metadata)\u001b[0m\n\u001b[1;32m   1318\u001b[0m       return self._call_tf_sessionrun(\n\u001b[0;32m-> 1319\u001b[0;31m           options, feed_dict, fetch_list, target_list, run_metadata)\n\u001b[0m\u001b[1;32m   1320\u001b[0m \u001b[0;34m\u001b[0m\u001b[0m\n",
      "\u001b[0;32m~/.pyenv/versions/anaconda3-5.2.0/lib/python3.6/site-packages/tensorflow/python/client/session.py\u001b[0m in \u001b[0;36m_call_tf_sessionrun\u001b[0;34m(self, options, feed_dict, fetch_list, target_list, run_metadata)\u001b[0m\n\u001b[1;32m   1406\u001b[0m         \u001b[0mself\u001b[0m\u001b[0;34m.\u001b[0m\u001b[0m_session\u001b[0m\u001b[0;34m,\u001b[0m \u001b[0moptions\u001b[0m\u001b[0;34m,\u001b[0m \u001b[0mfeed_dict\u001b[0m\u001b[0;34m,\u001b[0m \u001b[0mfetch_list\u001b[0m\u001b[0;34m,\u001b[0m \u001b[0mtarget_list\u001b[0m\u001b[0;34m,\u001b[0m\u001b[0;34m\u001b[0m\u001b[0m\n\u001b[0;32m-> 1407\u001b[0;31m         run_metadata)\n\u001b[0m\u001b[1;32m   1408\u001b[0m \u001b[0;34m\u001b[0m\u001b[0m\n",
      "\u001b[0;31mFailedPreconditionError\u001b[0m: Attempting to use uninitialized value bias\n\t [[{{node bias/read}}]]",
      "\nDuring handling of the above exception, another exception occurred:\n",
      "\u001b[0;31mFailedPreconditionError\u001b[0m                   Traceback (most recent call last)",
      "\u001b[0;32m<ipython-input-17-4a72ddbc6f27>\u001b[0m in \u001b[0;36m<module>\u001b[0;34m()\u001b[0m\n\u001b[0;32m----> 1\u001b[0;31m \u001b[0msess\u001b[0m\u001b[0;34m.\u001b[0m\u001b[0mrun\u001b[0m\u001b[0;34m(\u001b[0m\u001b[0mcost\u001b[0m\u001b[0;34m)\u001b[0m\u001b[0;34m\u001b[0m\u001b[0m\n\u001b[0m",
      "\u001b[0;32m~/.pyenv/versions/anaconda3-5.2.0/lib/python3.6/site-packages/tensorflow/python/client/session.py\u001b[0m in \u001b[0;36mrun\u001b[0;34m(self, fetches, feed_dict, options, run_metadata)\u001b[0m\n\u001b[1;32m    927\u001b[0m     \u001b[0;32mtry\u001b[0m\u001b[0;34m:\u001b[0m\u001b[0;34m\u001b[0m\u001b[0m\n\u001b[1;32m    928\u001b[0m       result = self._run(None, fetches, feed_dict, options_ptr,\n\u001b[0;32m--> 929\u001b[0;31m                          run_metadata_ptr)\n\u001b[0m\u001b[1;32m    930\u001b[0m       \u001b[0;32mif\u001b[0m \u001b[0mrun_metadata\u001b[0m\u001b[0;34m:\u001b[0m\u001b[0;34m\u001b[0m\u001b[0m\n\u001b[1;32m    931\u001b[0m         \u001b[0mproto_data\u001b[0m \u001b[0;34m=\u001b[0m \u001b[0mtf_session\u001b[0m\u001b[0;34m.\u001b[0m\u001b[0mTF_GetBuffer\u001b[0m\u001b[0;34m(\u001b[0m\u001b[0mrun_metadata_ptr\u001b[0m\u001b[0;34m)\u001b[0m\u001b[0;34m\u001b[0m\u001b[0m\n",
      "\u001b[0;32m~/.pyenv/versions/anaconda3-5.2.0/lib/python3.6/site-packages/tensorflow/python/client/session.py\u001b[0m in \u001b[0;36m_run\u001b[0;34m(self, handle, fetches, feed_dict, options, run_metadata)\u001b[0m\n\u001b[1;32m   1150\u001b[0m     \u001b[0;32mif\u001b[0m \u001b[0mfinal_fetches\u001b[0m \u001b[0;32mor\u001b[0m \u001b[0mfinal_targets\u001b[0m \u001b[0;32mor\u001b[0m \u001b[0;34m(\u001b[0m\u001b[0mhandle\u001b[0m \u001b[0;32mand\u001b[0m \u001b[0mfeed_dict_tensor\u001b[0m\u001b[0;34m)\u001b[0m\u001b[0;34m:\u001b[0m\u001b[0;34m\u001b[0m\u001b[0m\n\u001b[1;32m   1151\u001b[0m       results = self._do_run(handle, final_targets, final_fetches,\n\u001b[0;32m-> 1152\u001b[0;31m                              feed_dict_tensor, options, run_metadata)\n\u001b[0m\u001b[1;32m   1153\u001b[0m     \u001b[0;32melse\u001b[0m\u001b[0;34m:\u001b[0m\u001b[0;34m\u001b[0m\u001b[0m\n\u001b[1;32m   1154\u001b[0m       \u001b[0mresults\u001b[0m \u001b[0;34m=\u001b[0m \u001b[0;34m[\u001b[0m\u001b[0;34m]\u001b[0m\u001b[0;34m\u001b[0m\u001b[0m\n",
      "\u001b[0;32m~/.pyenv/versions/anaconda3-5.2.0/lib/python3.6/site-packages/tensorflow/python/client/session.py\u001b[0m in \u001b[0;36m_do_run\u001b[0;34m(self, handle, target_list, fetch_list, feed_dict, options, run_metadata)\u001b[0m\n\u001b[1;32m   1326\u001b[0m     \u001b[0;32mif\u001b[0m \u001b[0mhandle\u001b[0m \u001b[0;32mis\u001b[0m \u001b[0;32mNone\u001b[0m\u001b[0;34m:\u001b[0m\u001b[0;34m\u001b[0m\u001b[0m\n\u001b[1;32m   1327\u001b[0m       return self._do_call(_run_fn, feeds, fetches, targets, options,\n\u001b[0;32m-> 1328\u001b[0;31m                            run_metadata)\n\u001b[0m\u001b[1;32m   1329\u001b[0m     \u001b[0;32melse\u001b[0m\u001b[0;34m:\u001b[0m\u001b[0;34m\u001b[0m\u001b[0m\n\u001b[1;32m   1330\u001b[0m       \u001b[0;32mreturn\u001b[0m \u001b[0mself\u001b[0m\u001b[0;34m.\u001b[0m\u001b[0m_do_call\u001b[0m\u001b[0;34m(\u001b[0m\u001b[0m_prun_fn\u001b[0m\u001b[0;34m,\u001b[0m \u001b[0mhandle\u001b[0m\u001b[0;34m,\u001b[0m \u001b[0mfeeds\u001b[0m\u001b[0;34m,\u001b[0m \u001b[0mfetches\u001b[0m\u001b[0;34m)\u001b[0m\u001b[0;34m\u001b[0m\u001b[0m\n",
      "\u001b[0;32m~/.pyenv/versions/anaconda3-5.2.0/lib/python3.6/site-packages/tensorflow/python/client/session.py\u001b[0m in \u001b[0;36m_do_call\u001b[0;34m(self, fn, *args)\u001b[0m\n\u001b[1;32m   1346\u001b[0m           \u001b[0;32mpass\u001b[0m\u001b[0;34m\u001b[0m\u001b[0m\n\u001b[1;32m   1347\u001b[0m       \u001b[0mmessage\u001b[0m \u001b[0;34m=\u001b[0m \u001b[0merror_interpolation\u001b[0m\u001b[0;34m.\u001b[0m\u001b[0minterpolate\u001b[0m\u001b[0;34m(\u001b[0m\u001b[0mmessage\u001b[0m\u001b[0;34m,\u001b[0m \u001b[0mself\u001b[0m\u001b[0;34m.\u001b[0m\u001b[0m_graph\u001b[0m\u001b[0;34m)\u001b[0m\u001b[0;34m\u001b[0m\u001b[0m\n\u001b[0;32m-> 1348\u001b[0;31m       \u001b[0;32mraise\u001b[0m \u001b[0mtype\u001b[0m\u001b[0;34m(\u001b[0m\u001b[0me\u001b[0m\u001b[0;34m)\u001b[0m\u001b[0;34m(\u001b[0m\u001b[0mnode_def\u001b[0m\u001b[0;34m,\u001b[0m \u001b[0mop\u001b[0m\u001b[0;34m,\u001b[0m \u001b[0mmessage\u001b[0m\u001b[0;34m)\u001b[0m\u001b[0;34m\u001b[0m\u001b[0m\n\u001b[0m\u001b[1;32m   1349\u001b[0m \u001b[0;34m\u001b[0m\u001b[0m\n\u001b[1;32m   1350\u001b[0m   \u001b[0;32mdef\u001b[0m \u001b[0m_extend_graph\u001b[0m\u001b[0;34m(\u001b[0m\u001b[0mself\u001b[0m\u001b[0;34m)\u001b[0m\u001b[0;34m:\u001b[0m\u001b[0;34m\u001b[0m\u001b[0m\n",
      "\u001b[0;31mFailedPreconditionError\u001b[0m: Attempting to use uninitialized value bias\n\t [[node bias/read (defined at <ipython-input-13-ca6d0940d795>:9) ]]\n\nCaused by op 'bias/read', defined at:\n  File \"/Users/a1/.pyenv/versions/anaconda3-5.2.0/lib/python3.6/runpy.py\", line 193, in _run_module_as_main\n    \"__main__\", mod_spec)\n  File \"/Users/a1/.pyenv/versions/anaconda3-5.2.0/lib/python3.6/runpy.py\", line 85, in _run_code\n    exec(code, run_globals)\n  File \"/Users/a1/.pyenv/versions/anaconda3-5.2.0/lib/python3.6/site-packages/ipykernel_launcher.py\", line 16, in <module>\n    app.launch_new_instance()\n  File \"/Users/a1/.pyenv/versions/anaconda3-5.2.0/lib/python3.6/site-packages/traitlets/config/application.py\", line 658, in launch_instance\n    app.start()\n  File \"/Users/a1/.pyenv/versions/anaconda3-5.2.0/lib/python3.6/site-packages/ipykernel/kernelapp.py\", line 486, in start\n    self.io_loop.start()\n  File \"/Users/a1/.pyenv/versions/anaconda3-5.2.0/lib/python3.6/site-packages/tornado/platform/asyncio.py\", line 127, in start\n    self.asyncio_loop.run_forever()\n  File \"/Users/a1/.pyenv/versions/anaconda3-5.2.0/lib/python3.6/asyncio/base_events.py\", line 421, in run_forever\n    self._run_once()\n  File \"/Users/a1/.pyenv/versions/anaconda3-5.2.0/lib/python3.6/asyncio/base_events.py\", line 1425, in _run_once\n    handle._run()\n  File \"/Users/a1/.pyenv/versions/anaconda3-5.2.0/lib/python3.6/asyncio/events.py\", line 126, in _run\n    self._callback(*self._args)\n  File \"/Users/a1/.pyenv/versions/anaconda3-5.2.0/lib/python3.6/site-packages/tornado/platform/asyncio.py\", line 117, in _handle_events\n    handler_func(fileobj, events)\n  File \"/Users/a1/.pyenv/versions/anaconda3-5.2.0/lib/python3.6/site-packages/tornado/stack_context.py\", line 276, in null_wrapper\n    return fn(*args, **kwargs)\n  File \"/Users/a1/.pyenv/versions/anaconda3-5.2.0/lib/python3.6/site-packages/zmq/eventloop/zmqstream.py\", line 450, in _handle_events\n    self._handle_recv()\n  File \"/Users/a1/.pyenv/versions/anaconda3-5.2.0/lib/python3.6/site-packages/zmq/eventloop/zmqstream.py\", line 480, in _handle_recv\n    self._run_callback(callback, msg)\n  File \"/Users/a1/.pyenv/versions/anaconda3-5.2.0/lib/python3.6/site-packages/zmq/eventloop/zmqstream.py\", line 432, in _run_callback\n    callback(*args, **kwargs)\n  File \"/Users/a1/.pyenv/versions/anaconda3-5.2.0/lib/python3.6/site-packages/tornado/stack_context.py\", line 276, in null_wrapper\n    return fn(*args, **kwargs)\n  File \"/Users/a1/.pyenv/versions/anaconda3-5.2.0/lib/python3.6/site-packages/ipykernel/kernelbase.py\", line 283, in dispatcher\n    return self.dispatch_shell(stream, msg)\n  File \"/Users/a1/.pyenv/versions/anaconda3-5.2.0/lib/python3.6/site-packages/ipykernel/kernelbase.py\", line 233, in dispatch_shell\n    handler(stream, idents, msg)\n  File \"/Users/a1/.pyenv/versions/anaconda3-5.2.0/lib/python3.6/site-packages/ipykernel/kernelbase.py\", line 399, in execute_request\n    user_expressions, allow_stdin)\n  File \"/Users/a1/.pyenv/versions/anaconda3-5.2.0/lib/python3.6/site-packages/ipykernel/ipkernel.py\", line 208, in do_execute\n    res = shell.run_cell(code, store_history=store_history, silent=silent)\n  File \"/Users/a1/.pyenv/versions/anaconda3-5.2.0/lib/python3.6/site-packages/ipykernel/zmqshell.py\", line 537, in run_cell\n    return super(ZMQInteractiveShell, self).run_cell(*args, **kwargs)\n  File \"/Users/a1/.pyenv/versions/anaconda3-5.2.0/lib/python3.6/site-packages/IPython/core/interactiveshell.py\", line 2662, in run_cell\n    raw_cell, store_history, silent, shell_futures)\n  File \"/Users/a1/.pyenv/versions/anaconda3-5.2.0/lib/python3.6/site-packages/IPython/core/interactiveshell.py\", line 2785, in _run_cell\n    interactivity=interactivity, compiler=compiler, result=result)\n  File \"/Users/a1/.pyenv/versions/anaconda3-5.2.0/lib/python3.6/site-packages/IPython/core/interactiveshell.py\", line 2903, in run_ast_nodes\n    if self.run_code(code, result):\n  File \"/Users/a1/.pyenv/versions/anaconda3-5.2.0/lib/python3.6/site-packages/IPython/core/interactiveshell.py\", line 2963, in run_code\n    exec(code_obj, self.user_global_ns, self.user_ns)\n  File \"<ipython-input-13-ca6d0940d795>\", line 9, in <module>\n    b = tf.Variable(tf.random_normal([1]), name=\"bias\")\n  File \"/Users/a1/.pyenv/versions/anaconda3-5.2.0/lib/python3.6/site-packages/tensorflow/python/ops/variables.py\", line 213, in __call__\n    return cls._variable_v1_call(*args, **kwargs)\n  File \"/Users/a1/.pyenv/versions/anaconda3-5.2.0/lib/python3.6/site-packages/tensorflow/python/ops/variables.py\", line 176, in _variable_v1_call\n    aggregation=aggregation)\n  File \"/Users/a1/.pyenv/versions/anaconda3-5.2.0/lib/python3.6/site-packages/tensorflow/python/ops/variables.py\", line 155, in <lambda>\n    previous_getter = lambda **kwargs: default_variable_creator(None, **kwargs)\n  File \"/Users/a1/.pyenv/versions/anaconda3-5.2.0/lib/python3.6/site-packages/tensorflow/python/ops/variable_scope.py\", line 2495, in default_variable_creator\n    expected_shape=expected_shape, import_scope=import_scope)\n  File \"/Users/a1/.pyenv/versions/anaconda3-5.2.0/lib/python3.6/site-packages/tensorflow/python/ops/variables.py\", line 217, in __call__\n    return super(VariableMetaclass, cls).__call__(*args, **kwargs)\n  File \"/Users/a1/.pyenv/versions/anaconda3-5.2.0/lib/python3.6/site-packages/tensorflow/python/ops/variables.py\", line 1395, in __init__\n    constraint=constraint)\n  File \"/Users/a1/.pyenv/versions/anaconda3-5.2.0/lib/python3.6/site-packages/tensorflow/python/ops/variables.py\", line 1557, in _init_from_args\n    self._snapshot = array_ops.identity(self._variable, name=\"read\")\n  File \"/Users/a1/.pyenv/versions/anaconda3-5.2.0/lib/python3.6/site-packages/tensorflow/python/util/dispatch.py\", line 180, in wrapper\n    return target(*args, **kwargs)\n  File \"/Users/a1/.pyenv/versions/anaconda3-5.2.0/lib/python3.6/site-packages/tensorflow/python/ops/array_ops.py\", line 81, in identity\n    ret = gen_array_ops.identity(input, name=name)\n  File \"/Users/a1/.pyenv/versions/anaconda3-5.2.0/lib/python3.6/site-packages/tensorflow/python/ops/gen_array_ops.py\", line 3890, in identity\n    \"Identity\", input=input, name=name)\n  File \"/Users/a1/.pyenv/versions/anaconda3-5.2.0/lib/python3.6/site-packages/tensorflow/python/framework/op_def_library.py\", line 788, in _apply_op_helper\n    op_def=op_def)\n  File \"/Users/a1/.pyenv/versions/anaconda3-5.2.0/lib/python3.6/site-packages/tensorflow/python/util/deprecation.py\", line 507, in new_func\n    return func(*args, **kwargs)\n  File \"/Users/a1/.pyenv/versions/anaconda3-5.2.0/lib/python3.6/site-packages/tensorflow/python/framework/ops.py\", line 3300, in create_op\n    op_def=op_def)\n  File \"/Users/a1/.pyenv/versions/anaconda3-5.2.0/lib/python3.6/site-packages/tensorflow/python/framework/ops.py\", line 1801, in __init__\n    self._traceback = tf_stack.extract_stack()\n\nFailedPreconditionError (see above for traceback): Attempting to use uninitialized value bias\n\t [[node bias/read (defined at <ipython-input-13-ca6d0940d795>:9) ]]\n"
     ]
    }
   ],
   "source": [
    "sess.run(cost)"
   ]
  },
  {
   "cell_type": "code",
   "execution_count": 18,
   "metadata": {},
   "outputs": [
    {
     "ename": "FailedPreconditionError",
     "evalue": "Attempting to use uninitialized value bias\n\t [[node bias/read (defined at <ipython-input-13-ca6d0940d795>:9) ]]\n\nCaused by op 'bias/read', defined at:\n  File \"/Users/a1/.pyenv/versions/anaconda3-5.2.0/lib/python3.6/runpy.py\", line 193, in _run_module_as_main\n    \"__main__\", mod_spec)\n  File \"/Users/a1/.pyenv/versions/anaconda3-5.2.0/lib/python3.6/runpy.py\", line 85, in _run_code\n    exec(code, run_globals)\n  File \"/Users/a1/.pyenv/versions/anaconda3-5.2.0/lib/python3.6/site-packages/ipykernel_launcher.py\", line 16, in <module>\n    app.launch_new_instance()\n  File \"/Users/a1/.pyenv/versions/anaconda3-5.2.0/lib/python3.6/site-packages/traitlets/config/application.py\", line 658, in launch_instance\n    app.start()\n  File \"/Users/a1/.pyenv/versions/anaconda3-5.2.0/lib/python3.6/site-packages/ipykernel/kernelapp.py\", line 486, in start\n    self.io_loop.start()\n  File \"/Users/a1/.pyenv/versions/anaconda3-5.2.0/lib/python3.6/site-packages/tornado/platform/asyncio.py\", line 127, in start\n    self.asyncio_loop.run_forever()\n  File \"/Users/a1/.pyenv/versions/anaconda3-5.2.0/lib/python3.6/asyncio/base_events.py\", line 421, in run_forever\n    self._run_once()\n  File \"/Users/a1/.pyenv/versions/anaconda3-5.2.0/lib/python3.6/asyncio/base_events.py\", line 1425, in _run_once\n    handle._run()\n  File \"/Users/a1/.pyenv/versions/anaconda3-5.2.0/lib/python3.6/asyncio/events.py\", line 126, in _run\n    self._callback(*self._args)\n  File \"/Users/a1/.pyenv/versions/anaconda3-5.2.0/lib/python3.6/site-packages/tornado/platform/asyncio.py\", line 117, in _handle_events\n    handler_func(fileobj, events)\n  File \"/Users/a1/.pyenv/versions/anaconda3-5.2.0/lib/python3.6/site-packages/tornado/stack_context.py\", line 276, in null_wrapper\n    return fn(*args, **kwargs)\n  File \"/Users/a1/.pyenv/versions/anaconda3-5.2.0/lib/python3.6/site-packages/zmq/eventloop/zmqstream.py\", line 450, in _handle_events\n    self._handle_recv()\n  File \"/Users/a1/.pyenv/versions/anaconda3-5.2.0/lib/python3.6/site-packages/zmq/eventloop/zmqstream.py\", line 480, in _handle_recv\n    self._run_callback(callback, msg)\n  File \"/Users/a1/.pyenv/versions/anaconda3-5.2.0/lib/python3.6/site-packages/zmq/eventloop/zmqstream.py\", line 432, in _run_callback\n    callback(*args, **kwargs)\n  File \"/Users/a1/.pyenv/versions/anaconda3-5.2.0/lib/python3.6/site-packages/tornado/stack_context.py\", line 276, in null_wrapper\n    return fn(*args, **kwargs)\n  File \"/Users/a1/.pyenv/versions/anaconda3-5.2.0/lib/python3.6/site-packages/ipykernel/kernelbase.py\", line 283, in dispatcher\n    return self.dispatch_shell(stream, msg)\n  File \"/Users/a1/.pyenv/versions/anaconda3-5.2.0/lib/python3.6/site-packages/ipykernel/kernelbase.py\", line 233, in dispatch_shell\n    handler(stream, idents, msg)\n  File \"/Users/a1/.pyenv/versions/anaconda3-5.2.0/lib/python3.6/site-packages/ipykernel/kernelbase.py\", line 399, in execute_request\n    user_expressions, allow_stdin)\n  File \"/Users/a1/.pyenv/versions/anaconda3-5.2.0/lib/python3.6/site-packages/ipykernel/ipkernel.py\", line 208, in do_execute\n    res = shell.run_cell(code, store_history=store_history, silent=silent)\n  File \"/Users/a1/.pyenv/versions/anaconda3-5.2.0/lib/python3.6/site-packages/ipykernel/zmqshell.py\", line 537, in run_cell\n    return super(ZMQInteractiveShell, self).run_cell(*args, **kwargs)\n  File \"/Users/a1/.pyenv/versions/anaconda3-5.2.0/lib/python3.6/site-packages/IPython/core/interactiveshell.py\", line 2662, in run_cell\n    raw_cell, store_history, silent, shell_futures)\n  File \"/Users/a1/.pyenv/versions/anaconda3-5.2.0/lib/python3.6/site-packages/IPython/core/interactiveshell.py\", line 2785, in _run_cell\n    interactivity=interactivity, compiler=compiler, result=result)\n  File \"/Users/a1/.pyenv/versions/anaconda3-5.2.0/lib/python3.6/site-packages/IPython/core/interactiveshell.py\", line 2903, in run_ast_nodes\n    if self.run_code(code, result):\n  File \"/Users/a1/.pyenv/versions/anaconda3-5.2.0/lib/python3.6/site-packages/IPython/core/interactiveshell.py\", line 2963, in run_code\n    exec(code_obj, self.user_global_ns, self.user_ns)\n  File \"<ipython-input-13-ca6d0940d795>\", line 9, in <module>\n    b = tf.Variable(tf.random_normal([1]), name=\"bias\")\n  File \"/Users/a1/.pyenv/versions/anaconda3-5.2.0/lib/python3.6/site-packages/tensorflow/python/ops/variables.py\", line 213, in __call__\n    return cls._variable_v1_call(*args, **kwargs)\n  File \"/Users/a1/.pyenv/versions/anaconda3-5.2.0/lib/python3.6/site-packages/tensorflow/python/ops/variables.py\", line 176, in _variable_v1_call\n    aggregation=aggregation)\n  File \"/Users/a1/.pyenv/versions/anaconda3-5.2.0/lib/python3.6/site-packages/tensorflow/python/ops/variables.py\", line 155, in <lambda>\n    previous_getter = lambda **kwargs: default_variable_creator(None, **kwargs)\n  File \"/Users/a1/.pyenv/versions/anaconda3-5.2.0/lib/python3.6/site-packages/tensorflow/python/ops/variable_scope.py\", line 2495, in default_variable_creator\n    expected_shape=expected_shape, import_scope=import_scope)\n  File \"/Users/a1/.pyenv/versions/anaconda3-5.2.0/lib/python3.6/site-packages/tensorflow/python/ops/variables.py\", line 217, in __call__\n    return super(VariableMetaclass, cls).__call__(*args, **kwargs)\n  File \"/Users/a1/.pyenv/versions/anaconda3-5.2.0/lib/python3.6/site-packages/tensorflow/python/ops/variables.py\", line 1395, in __init__\n    constraint=constraint)\n  File \"/Users/a1/.pyenv/versions/anaconda3-5.2.0/lib/python3.6/site-packages/tensorflow/python/ops/variables.py\", line 1557, in _init_from_args\n    self._snapshot = array_ops.identity(self._variable, name=\"read\")\n  File \"/Users/a1/.pyenv/versions/anaconda3-5.2.0/lib/python3.6/site-packages/tensorflow/python/util/dispatch.py\", line 180, in wrapper\n    return target(*args, **kwargs)\n  File \"/Users/a1/.pyenv/versions/anaconda3-5.2.0/lib/python3.6/site-packages/tensorflow/python/ops/array_ops.py\", line 81, in identity\n    ret = gen_array_ops.identity(input, name=name)\n  File \"/Users/a1/.pyenv/versions/anaconda3-5.2.0/lib/python3.6/site-packages/tensorflow/python/ops/gen_array_ops.py\", line 3890, in identity\n    \"Identity\", input=input, name=name)\n  File \"/Users/a1/.pyenv/versions/anaconda3-5.2.0/lib/python3.6/site-packages/tensorflow/python/framework/op_def_library.py\", line 788, in _apply_op_helper\n    op_def=op_def)\n  File \"/Users/a1/.pyenv/versions/anaconda3-5.2.0/lib/python3.6/site-packages/tensorflow/python/util/deprecation.py\", line 507, in new_func\n    return func(*args, **kwargs)\n  File \"/Users/a1/.pyenv/versions/anaconda3-5.2.0/lib/python3.6/site-packages/tensorflow/python/framework/ops.py\", line 3300, in create_op\n    op_def=op_def)\n  File \"/Users/a1/.pyenv/versions/anaconda3-5.2.0/lib/python3.6/site-packages/tensorflow/python/framework/ops.py\", line 1801, in __init__\n    self._traceback = tf_stack.extract_stack()\n\nFailedPreconditionError (see above for traceback): Attempting to use uninitialized value bias\n\t [[node bias/read (defined at <ipython-input-13-ca6d0940d795>:9) ]]\n",
     "output_type": "error",
     "traceback": [
      "\u001b[0;31m---------------------------------------------------------------------------\u001b[0m",
      "\u001b[0;31mFailedPreconditionError\u001b[0m                   Traceback (most recent call last)",
      "\u001b[0;32m~/.pyenv/versions/anaconda3-5.2.0/lib/python3.6/site-packages/tensorflow/python/client/session.py\u001b[0m in \u001b[0;36m_do_call\u001b[0;34m(self, fn, *args)\u001b[0m\n\u001b[1;32m   1333\u001b[0m     \u001b[0;32mtry\u001b[0m\u001b[0;34m:\u001b[0m\u001b[0;34m\u001b[0m\u001b[0m\n\u001b[0;32m-> 1334\u001b[0;31m       \u001b[0;32mreturn\u001b[0m \u001b[0mfn\u001b[0m\u001b[0;34m(\u001b[0m\u001b[0;34m*\u001b[0m\u001b[0margs\u001b[0m\u001b[0;34m)\u001b[0m\u001b[0;34m\u001b[0m\u001b[0m\n\u001b[0m\u001b[1;32m   1335\u001b[0m     \u001b[0;32mexcept\u001b[0m \u001b[0merrors\u001b[0m\u001b[0;34m.\u001b[0m\u001b[0mOpError\u001b[0m \u001b[0;32mas\u001b[0m \u001b[0me\u001b[0m\u001b[0;34m:\u001b[0m\u001b[0;34m\u001b[0m\u001b[0m\n",
      "\u001b[0;32m~/.pyenv/versions/anaconda3-5.2.0/lib/python3.6/site-packages/tensorflow/python/client/session.py\u001b[0m in \u001b[0;36m_run_fn\u001b[0;34m(feed_dict, fetch_list, target_list, options, run_metadata)\u001b[0m\n\u001b[1;32m   1318\u001b[0m       return self._call_tf_sessionrun(\n\u001b[0;32m-> 1319\u001b[0;31m           options, feed_dict, fetch_list, target_list, run_metadata)\n\u001b[0m\u001b[1;32m   1320\u001b[0m \u001b[0;34m\u001b[0m\u001b[0m\n",
      "\u001b[0;32m~/.pyenv/versions/anaconda3-5.2.0/lib/python3.6/site-packages/tensorflow/python/client/session.py\u001b[0m in \u001b[0;36m_call_tf_sessionrun\u001b[0;34m(self, options, feed_dict, fetch_list, target_list, run_metadata)\u001b[0m\n\u001b[1;32m   1406\u001b[0m         \u001b[0mself\u001b[0m\u001b[0;34m.\u001b[0m\u001b[0m_session\u001b[0m\u001b[0;34m,\u001b[0m \u001b[0moptions\u001b[0m\u001b[0;34m,\u001b[0m \u001b[0mfeed_dict\u001b[0m\u001b[0;34m,\u001b[0m \u001b[0mfetch_list\u001b[0m\u001b[0;34m,\u001b[0m \u001b[0mtarget_list\u001b[0m\u001b[0;34m,\u001b[0m\u001b[0;34m\u001b[0m\u001b[0m\n\u001b[0;32m-> 1407\u001b[0;31m         run_metadata)\n\u001b[0m\u001b[1;32m   1408\u001b[0m \u001b[0;34m\u001b[0m\u001b[0m\n",
      "\u001b[0;31mFailedPreconditionError\u001b[0m: Attempting to use uninitialized value bias\n\t [[{{node bias/read}}]]",
      "\nDuring handling of the above exception, another exception occurred:\n",
      "\u001b[0;31mFailedPreconditionError\u001b[0m                   Traceback (most recent call last)",
      "\u001b[0;32m<ipython-input-18-b049e39e5da2>\u001b[0m in \u001b[0;36m<module>\u001b[0;34m()\u001b[0m\n\u001b[0;32m----> 1\u001b[0;31m \u001b[0mprint\u001b[0m\u001b[0;34m(\u001b[0m\u001b[0msess\u001b[0m\u001b[0;34m.\u001b[0m\u001b[0mrun\u001b[0m\u001b[0;34m(\u001b[0m\u001b[0mcost\u001b[0m\u001b[0;34m)\u001b[0m\u001b[0;34m)\u001b[0m\u001b[0;34m\u001b[0m\u001b[0m\n\u001b[0m",
      "\u001b[0;32m~/.pyenv/versions/anaconda3-5.2.0/lib/python3.6/site-packages/tensorflow/python/client/session.py\u001b[0m in \u001b[0;36mrun\u001b[0;34m(self, fetches, feed_dict, options, run_metadata)\u001b[0m\n\u001b[1;32m    927\u001b[0m     \u001b[0;32mtry\u001b[0m\u001b[0;34m:\u001b[0m\u001b[0;34m\u001b[0m\u001b[0m\n\u001b[1;32m    928\u001b[0m       result = self._run(None, fetches, feed_dict, options_ptr,\n\u001b[0;32m--> 929\u001b[0;31m                          run_metadata_ptr)\n\u001b[0m\u001b[1;32m    930\u001b[0m       \u001b[0;32mif\u001b[0m \u001b[0mrun_metadata\u001b[0m\u001b[0;34m:\u001b[0m\u001b[0;34m\u001b[0m\u001b[0m\n\u001b[1;32m    931\u001b[0m         \u001b[0mproto_data\u001b[0m \u001b[0;34m=\u001b[0m \u001b[0mtf_session\u001b[0m\u001b[0;34m.\u001b[0m\u001b[0mTF_GetBuffer\u001b[0m\u001b[0;34m(\u001b[0m\u001b[0mrun_metadata_ptr\u001b[0m\u001b[0;34m)\u001b[0m\u001b[0;34m\u001b[0m\u001b[0m\n",
      "\u001b[0;32m~/.pyenv/versions/anaconda3-5.2.0/lib/python3.6/site-packages/tensorflow/python/client/session.py\u001b[0m in \u001b[0;36m_run\u001b[0;34m(self, handle, fetches, feed_dict, options, run_metadata)\u001b[0m\n\u001b[1;32m   1150\u001b[0m     \u001b[0;32mif\u001b[0m \u001b[0mfinal_fetches\u001b[0m \u001b[0;32mor\u001b[0m \u001b[0mfinal_targets\u001b[0m \u001b[0;32mor\u001b[0m \u001b[0;34m(\u001b[0m\u001b[0mhandle\u001b[0m \u001b[0;32mand\u001b[0m \u001b[0mfeed_dict_tensor\u001b[0m\u001b[0;34m)\u001b[0m\u001b[0;34m:\u001b[0m\u001b[0;34m\u001b[0m\u001b[0m\n\u001b[1;32m   1151\u001b[0m       results = self._do_run(handle, final_targets, final_fetches,\n\u001b[0;32m-> 1152\u001b[0;31m                              feed_dict_tensor, options, run_metadata)\n\u001b[0m\u001b[1;32m   1153\u001b[0m     \u001b[0;32melse\u001b[0m\u001b[0;34m:\u001b[0m\u001b[0;34m\u001b[0m\u001b[0m\n\u001b[1;32m   1154\u001b[0m       \u001b[0mresults\u001b[0m \u001b[0;34m=\u001b[0m \u001b[0;34m[\u001b[0m\u001b[0;34m]\u001b[0m\u001b[0;34m\u001b[0m\u001b[0m\n",
      "\u001b[0;32m~/.pyenv/versions/anaconda3-5.2.0/lib/python3.6/site-packages/tensorflow/python/client/session.py\u001b[0m in \u001b[0;36m_do_run\u001b[0;34m(self, handle, target_list, fetch_list, feed_dict, options, run_metadata)\u001b[0m\n\u001b[1;32m   1326\u001b[0m     \u001b[0;32mif\u001b[0m \u001b[0mhandle\u001b[0m \u001b[0;32mis\u001b[0m \u001b[0;32mNone\u001b[0m\u001b[0;34m:\u001b[0m\u001b[0;34m\u001b[0m\u001b[0m\n\u001b[1;32m   1327\u001b[0m       return self._do_call(_run_fn, feeds, fetches, targets, options,\n\u001b[0;32m-> 1328\u001b[0;31m                            run_metadata)\n\u001b[0m\u001b[1;32m   1329\u001b[0m     \u001b[0;32melse\u001b[0m\u001b[0;34m:\u001b[0m\u001b[0;34m\u001b[0m\u001b[0m\n\u001b[1;32m   1330\u001b[0m       \u001b[0;32mreturn\u001b[0m \u001b[0mself\u001b[0m\u001b[0;34m.\u001b[0m\u001b[0m_do_call\u001b[0m\u001b[0;34m(\u001b[0m\u001b[0m_prun_fn\u001b[0m\u001b[0;34m,\u001b[0m \u001b[0mhandle\u001b[0m\u001b[0;34m,\u001b[0m \u001b[0mfeeds\u001b[0m\u001b[0;34m,\u001b[0m \u001b[0mfetches\u001b[0m\u001b[0;34m)\u001b[0m\u001b[0;34m\u001b[0m\u001b[0m\n",
      "\u001b[0;32m~/.pyenv/versions/anaconda3-5.2.0/lib/python3.6/site-packages/tensorflow/python/client/session.py\u001b[0m in \u001b[0;36m_do_call\u001b[0;34m(self, fn, *args)\u001b[0m\n\u001b[1;32m   1346\u001b[0m           \u001b[0;32mpass\u001b[0m\u001b[0;34m\u001b[0m\u001b[0m\n\u001b[1;32m   1347\u001b[0m       \u001b[0mmessage\u001b[0m \u001b[0;34m=\u001b[0m \u001b[0merror_interpolation\u001b[0m\u001b[0;34m.\u001b[0m\u001b[0minterpolate\u001b[0m\u001b[0;34m(\u001b[0m\u001b[0mmessage\u001b[0m\u001b[0;34m,\u001b[0m \u001b[0mself\u001b[0m\u001b[0;34m.\u001b[0m\u001b[0m_graph\u001b[0m\u001b[0;34m)\u001b[0m\u001b[0;34m\u001b[0m\u001b[0m\n\u001b[0;32m-> 1348\u001b[0;31m       \u001b[0;32mraise\u001b[0m \u001b[0mtype\u001b[0m\u001b[0;34m(\u001b[0m\u001b[0me\u001b[0m\u001b[0;34m)\u001b[0m\u001b[0;34m(\u001b[0m\u001b[0mnode_def\u001b[0m\u001b[0;34m,\u001b[0m \u001b[0mop\u001b[0m\u001b[0;34m,\u001b[0m \u001b[0mmessage\u001b[0m\u001b[0;34m)\u001b[0m\u001b[0;34m\u001b[0m\u001b[0m\n\u001b[0m\u001b[1;32m   1349\u001b[0m \u001b[0;34m\u001b[0m\u001b[0m\n\u001b[1;32m   1350\u001b[0m   \u001b[0;32mdef\u001b[0m \u001b[0m_extend_graph\u001b[0m\u001b[0;34m(\u001b[0m\u001b[0mself\u001b[0m\u001b[0;34m)\u001b[0m\u001b[0;34m:\u001b[0m\u001b[0;34m\u001b[0m\u001b[0m\n",
      "\u001b[0;31mFailedPreconditionError\u001b[0m: Attempting to use uninitialized value bias\n\t [[node bias/read (defined at <ipython-input-13-ca6d0940d795>:9) ]]\n\nCaused by op 'bias/read', defined at:\n  File \"/Users/a1/.pyenv/versions/anaconda3-5.2.0/lib/python3.6/runpy.py\", line 193, in _run_module_as_main\n    \"__main__\", mod_spec)\n  File \"/Users/a1/.pyenv/versions/anaconda3-5.2.0/lib/python3.6/runpy.py\", line 85, in _run_code\n    exec(code, run_globals)\n  File \"/Users/a1/.pyenv/versions/anaconda3-5.2.0/lib/python3.6/site-packages/ipykernel_launcher.py\", line 16, in <module>\n    app.launch_new_instance()\n  File \"/Users/a1/.pyenv/versions/anaconda3-5.2.0/lib/python3.6/site-packages/traitlets/config/application.py\", line 658, in launch_instance\n    app.start()\n  File \"/Users/a1/.pyenv/versions/anaconda3-5.2.0/lib/python3.6/site-packages/ipykernel/kernelapp.py\", line 486, in start\n    self.io_loop.start()\n  File \"/Users/a1/.pyenv/versions/anaconda3-5.2.0/lib/python3.6/site-packages/tornado/platform/asyncio.py\", line 127, in start\n    self.asyncio_loop.run_forever()\n  File \"/Users/a1/.pyenv/versions/anaconda3-5.2.0/lib/python3.6/asyncio/base_events.py\", line 421, in run_forever\n    self._run_once()\n  File \"/Users/a1/.pyenv/versions/anaconda3-5.2.0/lib/python3.6/asyncio/base_events.py\", line 1425, in _run_once\n    handle._run()\n  File \"/Users/a1/.pyenv/versions/anaconda3-5.2.0/lib/python3.6/asyncio/events.py\", line 126, in _run\n    self._callback(*self._args)\n  File \"/Users/a1/.pyenv/versions/anaconda3-5.2.0/lib/python3.6/site-packages/tornado/platform/asyncio.py\", line 117, in _handle_events\n    handler_func(fileobj, events)\n  File \"/Users/a1/.pyenv/versions/anaconda3-5.2.0/lib/python3.6/site-packages/tornado/stack_context.py\", line 276, in null_wrapper\n    return fn(*args, **kwargs)\n  File \"/Users/a1/.pyenv/versions/anaconda3-5.2.0/lib/python3.6/site-packages/zmq/eventloop/zmqstream.py\", line 450, in _handle_events\n    self._handle_recv()\n  File \"/Users/a1/.pyenv/versions/anaconda3-5.2.0/lib/python3.6/site-packages/zmq/eventloop/zmqstream.py\", line 480, in _handle_recv\n    self._run_callback(callback, msg)\n  File \"/Users/a1/.pyenv/versions/anaconda3-5.2.0/lib/python3.6/site-packages/zmq/eventloop/zmqstream.py\", line 432, in _run_callback\n    callback(*args, **kwargs)\n  File \"/Users/a1/.pyenv/versions/anaconda3-5.2.0/lib/python3.6/site-packages/tornado/stack_context.py\", line 276, in null_wrapper\n    return fn(*args, **kwargs)\n  File \"/Users/a1/.pyenv/versions/anaconda3-5.2.0/lib/python3.6/site-packages/ipykernel/kernelbase.py\", line 283, in dispatcher\n    return self.dispatch_shell(stream, msg)\n  File \"/Users/a1/.pyenv/versions/anaconda3-5.2.0/lib/python3.6/site-packages/ipykernel/kernelbase.py\", line 233, in dispatch_shell\n    handler(stream, idents, msg)\n  File \"/Users/a1/.pyenv/versions/anaconda3-5.2.0/lib/python3.6/site-packages/ipykernel/kernelbase.py\", line 399, in execute_request\n    user_expressions, allow_stdin)\n  File \"/Users/a1/.pyenv/versions/anaconda3-5.2.0/lib/python3.6/site-packages/ipykernel/ipkernel.py\", line 208, in do_execute\n    res = shell.run_cell(code, store_history=store_history, silent=silent)\n  File \"/Users/a1/.pyenv/versions/anaconda3-5.2.0/lib/python3.6/site-packages/ipykernel/zmqshell.py\", line 537, in run_cell\n    return super(ZMQInteractiveShell, self).run_cell(*args, **kwargs)\n  File \"/Users/a1/.pyenv/versions/anaconda3-5.2.0/lib/python3.6/site-packages/IPython/core/interactiveshell.py\", line 2662, in run_cell\n    raw_cell, store_history, silent, shell_futures)\n  File \"/Users/a1/.pyenv/versions/anaconda3-5.2.0/lib/python3.6/site-packages/IPython/core/interactiveshell.py\", line 2785, in _run_cell\n    interactivity=interactivity, compiler=compiler, result=result)\n  File \"/Users/a1/.pyenv/versions/anaconda3-5.2.0/lib/python3.6/site-packages/IPython/core/interactiveshell.py\", line 2903, in run_ast_nodes\n    if self.run_code(code, result):\n  File \"/Users/a1/.pyenv/versions/anaconda3-5.2.0/lib/python3.6/site-packages/IPython/core/interactiveshell.py\", line 2963, in run_code\n    exec(code_obj, self.user_global_ns, self.user_ns)\n  File \"<ipython-input-13-ca6d0940d795>\", line 9, in <module>\n    b = tf.Variable(tf.random_normal([1]), name=\"bias\")\n  File \"/Users/a1/.pyenv/versions/anaconda3-5.2.0/lib/python3.6/site-packages/tensorflow/python/ops/variables.py\", line 213, in __call__\n    return cls._variable_v1_call(*args, **kwargs)\n  File \"/Users/a1/.pyenv/versions/anaconda3-5.2.0/lib/python3.6/site-packages/tensorflow/python/ops/variables.py\", line 176, in _variable_v1_call\n    aggregation=aggregation)\n  File \"/Users/a1/.pyenv/versions/anaconda3-5.2.0/lib/python3.6/site-packages/tensorflow/python/ops/variables.py\", line 155, in <lambda>\n    previous_getter = lambda **kwargs: default_variable_creator(None, **kwargs)\n  File \"/Users/a1/.pyenv/versions/anaconda3-5.2.0/lib/python3.6/site-packages/tensorflow/python/ops/variable_scope.py\", line 2495, in default_variable_creator\n    expected_shape=expected_shape, import_scope=import_scope)\n  File \"/Users/a1/.pyenv/versions/anaconda3-5.2.0/lib/python3.6/site-packages/tensorflow/python/ops/variables.py\", line 217, in __call__\n    return super(VariableMetaclass, cls).__call__(*args, **kwargs)\n  File \"/Users/a1/.pyenv/versions/anaconda3-5.2.0/lib/python3.6/site-packages/tensorflow/python/ops/variables.py\", line 1395, in __init__\n    constraint=constraint)\n  File \"/Users/a1/.pyenv/versions/anaconda3-5.2.0/lib/python3.6/site-packages/tensorflow/python/ops/variables.py\", line 1557, in _init_from_args\n    self._snapshot = array_ops.identity(self._variable, name=\"read\")\n  File \"/Users/a1/.pyenv/versions/anaconda3-5.2.0/lib/python3.6/site-packages/tensorflow/python/util/dispatch.py\", line 180, in wrapper\n    return target(*args, **kwargs)\n  File \"/Users/a1/.pyenv/versions/anaconda3-5.2.0/lib/python3.6/site-packages/tensorflow/python/ops/array_ops.py\", line 81, in identity\n    ret = gen_array_ops.identity(input, name=name)\n  File \"/Users/a1/.pyenv/versions/anaconda3-5.2.0/lib/python3.6/site-packages/tensorflow/python/ops/gen_array_ops.py\", line 3890, in identity\n    \"Identity\", input=input, name=name)\n  File \"/Users/a1/.pyenv/versions/anaconda3-5.2.0/lib/python3.6/site-packages/tensorflow/python/framework/op_def_library.py\", line 788, in _apply_op_helper\n    op_def=op_def)\n  File \"/Users/a1/.pyenv/versions/anaconda3-5.2.0/lib/python3.6/site-packages/tensorflow/python/util/deprecation.py\", line 507, in new_func\n    return func(*args, **kwargs)\n  File \"/Users/a1/.pyenv/versions/anaconda3-5.2.0/lib/python3.6/site-packages/tensorflow/python/framework/ops.py\", line 3300, in create_op\n    op_def=op_def)\n  File \"/Users/a1/.pyenv/versions/anaconda3-5.2.0/lib/python3.6/site-packages/tensorflow/python/framework/ops.py\", line 1801, in __init__\n    self._traceback = tf_stack.extract_stack()\n\nFailedPreconditionError (see above for traceback): Attempting to use uninitialized value bias\n\t [[node bias/read (defined at <ipython-input-13-ca6d0940d795>:9) ]]\n"
     ]
    }
   ],
   "source": [
    "print(sess.run(cost))"
   ]
  },
  {
   "cell_type": "code",
   "execution_count": 19,
   "metadata": {},
   "outputs": [],
   "source": [
    "train = tf.train.GradientDescentOptimizer(learning_rate=0.01).minimize(cost)"
   ]
  },
  {
   "cell_type": "code",
   "execution_count": 20,
   "metadata": {},
   "outputs": [
    {
     "name": "stdout",
     "output_type": "stream",
     "text": [
      "0 0.092231125 [1.3580198] [-0.79512393]\n",
      "20 0.08340663 [1.3352697] [-0.7603624]\n",
      "40 0.07574796 [1.3189491] [-0.72487634]\n",
      "60 0.068795525 [1.303906] [-0.69083345]\n",
      "80 0.06248119 [1.2896185] [-0.6583692]\n",
      "100 0.056746434 [1.2760069] [-0.6274285]\n",
      "120 0.051538 [1.2630355] [-0.59794176]\n",
      "140 0.046807647 [1.2506739] [-0.5698406]\n",
      "160 0.04251146 [1.238893] [-0.5430602]\n",
      "180 0.038609564 [1.227666] [-0.51753837]\n",
      "200 0.03506584 [1.2169665] [-0.49321586]\n",
      "220 0.031847324 [1.2067698] [-0.4700365]\n",
      "240 0.028924242 [1.1970525] [-0.44794646]\n",
      "260 0.026269471 [1.1877917] [-0.4268946]\n",
      "280 0.023858344 [1.1789659] [-0.40683198]\n",
      "300 0.021668501 [1.1705551] [-0.38771227]\n",
      "320 0.019679686 [1.1625397] [-0.36949122]\n",
      "340 0.017873405 [1.154901] [-0.35212648]\n",
      "360 0.016232932 [1.1476214] [-0.33557788]\n",
      "380 0.014743029 [1.1406838] [-0.3198071]\n",
      "400 0.013389848 [1.1340721] [-0.30477738]\n",
      "420 0.012160872 [1.1277713] [-0.29045397]\n",
      "440 0.011044708 [1.1217666] [-0.2768038]\n",
      "460 0.010030974 [1.1160439] [-0.263795]\n",
      "480 0.009110299 [1.1105902] [-0.2513977]\n",
      "500 0.00827412 [1.1053929] [-0.23958294]\n",
      "520 0.007514689 [1.1004398] [-0.2283234]\n",
      "540 0.006824953 [1.0957195] [-0.21759295]\n",
      "560 0.006198525 [1.0912211] [-0.20736687]\n",
      "580 0.005629597 [1.086934] [-0.19762139]\n",
      "600 0.005112902 [1.0828483] [-0.18833391]\n",
      "620 0.004643606 [1.0789547] [-0.17948274]\n",
      "640 0.0042173867 [1.0752441] [-0.17104764]\n",
      "660 0.0038302995 [1.071708] [-0.16300903]\n",
      "680 0.0034787434 [1.068338] [-0.15534823]\n",
      "700 0.003159458 [1.0651263] [-0.14804749]\n",
      "720 0.0028694614 [1.0620656] [-0.1410898]\n",
      "740 0.0026060855 [1.0591487] [-0.13445897]\n",
      "760 0.0023668958 [1.056369] [-0.12813988]\n",
      "780 0.0021496508 [1.0537198] [-0.12211777]\n",
      "800 0.0019523486 [1.0511953] [-0.11637869]\n",
      "820 0.0017731506 [1.0487893] [-0.11090938]\n",
      "840 0.0016104026 [1.0464963] [-0.10569703]\n",
      "860 0.0014625983 [1.0443112] [-0.10072964]\n",
      "880 0.0013283541 [1.0422287] [-0.09599578]\n",
      "900 0.0012064354 [1.0402441] [-0.09148442]\n",
      "920 0.0010957028 [1.0383527] [-0.08718485]\n",
      "940 0.0009951353 [1.0365503] [-0.08308747]\n",
      "960 0.00090379786 [1.0348326] [-0.07918263]\n",
      "980 0.00082084094 [1.0331956] [-0.07546138]\n",
      "1000 0.00074550416 [1.0316355] [-0.071915]\n",
      "1020 0.00067708007 [1.0301489] [-0.06853534]\n",
      "1040 0.0006149329 [1.028732] [-0.06531443]\n",
      "1060 0.00055849174 [1.0273817] [-0.06224492]\n",
      "1080 0.0005072314 [1.0260948] [-0.0593196]\n",
      "1100 0.0004606753 [1.0248685] [-0.05653185]\n",
      "1120 0.0004183931 [1.0236998] [-0.05387509]\n",
      "1140 0.00037999338 [1.0225859] [-0.05134318]\n",
      "1160 0.00034511814 [1.0215247] [-0.04893027]\n",
      "1180 0.0003134386 [1.0205128] [-0.04663072]\n",
      "1200 0.00028466704 [1.0195485] [-0.04443903]\n",
      "1220 0.00025854 [1.01863] [-0.04235047]\n",
      "1240 0.00023480986 [1.0177544] [-0.04036011]\n",
      "1260 0.0002132564 [1.01692] [-0.03846331]\n",
      "1280 0.00019368315 [1.0161248] [-0.03665565]\n",
      "1300 0.00017590554 [1.0153672] [-0.03493299]\n",
      "1320 0.00015976124 [1.0146449] [-0.03329127]\n",
      "1340 0.00014509655 [1.0139567] [-0.03172671]\n",
      "1360 0.00013177932 [1.0133007] [-0.03023568]\n",
      "1380 0.00011968311 [1.0126756] [-0.02881466]\n",
      "1400 0.000108699336 [1.0120798] [-0.02746044]\n",
      "1420 9.8722034e-05 [1.0115122] [-0.02616989]\n",
      "1440 8.9660374e-05 [1.0109712] [-0.02494001]\n",
      "1460 8.1432205e-05 [1.0104557] [-0.02376795]\n",
      "1480 7.39592e-05 [1.0099643] [-0.02265107]\n",
      "1500 6.7169654e-05 [1.0094959] [-0.0215865]\n",
      "1520 6.1005016e-05 [1.0090497] [-0.02057198]\n",
      "1540 5.5404915e-05 [1.0086243] [-0.01960513]\n",
      "1560 5.0320068e-05 [1.008219] [-0.01868378]\n",
      "1580 4.5701658e-05 [1.0078328] [-0.01780568]\n",
      "1600 4.1507225e-05 [1.0074646] [-0.01696888]\n",
      "1620 3.769663e-05 [1.0071138] [-0.0161714]\n",
      "1640 3.423766e-05 [1.0067797] [-0.01541147]\n",
      "1660 3.1095537e-05 [1.0064609] [-0.01468725]\n",
      "1680 2.8240398e-05 [1.0061573] [-0.01399698]\n",
      "1700 2.564876e-05 [1.005868] [-0.01333918]\n",
      "1720 2.3293856e-05 [1.0055921] [-0.01271227]\n",
      "1740 2.1156548e-05 [1.0053294] [-0.01211485]\n",
      "1760 1.9214844e-05 [1.0050789] [-0.01154551]\n",
      "1780 1.7451712e-05 [1.0048403] [-0.01100295]\n",
      "1800 1.58497e-05 [1.0046128] [-0.01048587]\n",
      "1820 1.4395152e-05 [1.004396] [-0.00999309]\n",
      "1840 1.3073972e-05 [1.0041894] [-0.00952344]\n",
      "1860 1.1874e-05 [1.0039926] [-0.00907592]\n",
      "1880 1.0783587e-05 [1.0038049] [-0.00864938]\n",
      "1900 9.793791e-06 [1.0036261] [-0.00824289]\n",
      "1920 8.895183e-06 [1.0034556] [-0.00785552]\n",
      "1940 8.0790005e-06 [1.0032933] [-0.00748636]\n",
      "1960 7.33717e-06 [1.0031385] [-0.00713458]\n",
      "1980 6.663859e-06 [1.0029911] [-0.0067993]\n",
      "2000 6.0524985e-06 [1.0028505] [-0.00647983]\n"
     ]
    }
   ],
   "source": [
    "with tf.Session() as sess:\n",
    "    # Initializes global variables in the graph.\n",
    "    sess.run(tf.global_variables_initializer())\n",
    "\n",
    "    # Fit the line\n",
    "    for step in range(2001):\n",
    "        _, cost_val, W_val, b_val = sess.run([train, cost, W, b])\n",
    "\n",
    "        if step % 20 == 0:\n",
    "            print(step, cost_val, W_val, b_val)"
   ]
  },
  {
   "cell_type": "code",
   "execution_count": 21,
   "metadata": {},
   "outputs": [
    {
     "name": "stdout",
     "output_type": "stream",
     "text": [
      "0 0.8481946 [1.2267567] [0.34487137]\n",
      "20 0.013157316 [0.9440943] [0.20900798]\n",
      "40 0.005084492 [0.9208215] [0.18779187]\n",
      "60 0.0045555728 [0.92207634] [0.17788146]\n",
      "80 0.004136878 [0.9255037] [0.1694184]\n",
      "100 0.0037571823 [0.9289823] [0.16144651]\n",
      "120 0.0034123287 [0.9323178] [0.15385818]\n",
      "140 0.003099126 [0.9354985] [0.14662732]\n",
      "160 0.0028146822 [0.9385297] [0.13973635]\n",
      "180 0.0025563396 [0.9414186] [0.13316928]\n",
      "200 0.0023217106 [0.94417167] [0.1269108]\n",
      "220 0.0021086077 [0.9467954] [0.12094647]\n",
      "240 0.0019150722 [0.949296] [0.11526241]\n",
      "260 0.0017393002 [0.9516788] [0.10984547]\n",
      "280 0.0015796627 [0.9539497] [0.10468312]\n",
      "300 0.001434674 [0.9561139] [0.09976341]\n",
      "320 0.0013029882 [0.9581764] [0.09507491]\n",
      "340 0.0011833957 [0.960142] [0.09060667]\n",
      "360 0.001074781 [0.96201515] [0.08634848]\n",
      "380 0.0009761311 [0.9638003] [0.08229041]\n",
      "400 0.000886536 [0.96550155] [0.07842306]\n",
      "420 0.0008051682 [0.96712285] [0.07473747]\n",
      "440 0.00073126605 [0.9686679] [0.07122511]\n",
      "460 0.00066414586 [0.9701406] [0.06787775]\n",
      "480 0.0006031873 [0.9715437] [0.06468773]\n",
      "500 0.0005478262 [0.9728811] [0.06164766]\n",
      "520 0.0004975462 [0.97415555] [0.05875047]\n",
      "540 0.0004518777 [0.97537017] [0.05598943]\n",
      "560 0.00041040158 [0.97652763] [0.05335815]\n",
      "580 0.00037273508 [0.97763073] [0.05085051]\n",
      "600 0.00033852295 [0.978682] [0.04846075]\n",
      "620 0.00030745342 [0.97968376] [0.04618331]\n",
      "640 0.00027923414 [0.9806387] [0.04401285]\n",
      "660 0.0002536054 [0.9815486] [0.0419444]\n",
      "680 0.00023032626 [0.98241574] [0.03997315]\n",
      "700 0.0002091872 [0.98324215] [0.03809457]\n",
      "720 0.00018998586 [0.9840297] [0.03630425]\n",
      "740 0.00017254996 [0.9847802] [0.0345981]\n",
      "760 0.00015671241 [0.9854955] [0.03297213]\n",
      "780 0.00014232873 [0.9861772] [0.03142255]\n",
      "800 0.00012926498 [0.9868268] [0.02994582]\n",
      "820 0.00011740052 [0.98744583] [0.02853848]\n",
      "840 0.000106625725 [0.98803586] [0.0271973]\n",
      "860 9.6839154e-05 [0.9885981] [0.02591913]\n",
      "880 8.7951084e-05 [0.9891339] [0.02470106]\n",
      "900 7.9878846e-05 [0.9896447] [0.02354024]\n",
      "920 7.254708e-05 [0.9901315] [0.02243384]\n",
      "940 6.588675e-05 [0.9905952] [0.02137945]\n",
      "960 5.9839746e-05 [0.99103713] [0.02037467]\n",
      "980 5.434763e-05 [0.99145836] [0.01941715]\n",
      "1000 4.9359747e-05 [0.99185985] [0.01850457]\n",
      "1020 4.4829096e-05 [0.9922424] [0.01763492]\n",
      "1040 4.0713883e-05 [0.992607] [0.01680613]\n",
      "1060 3.6977497e-05 [0.99295443] [0.0160163]\n",
      "1080 3.3584034e-05 [0.99328554] [0.0152636]\n",
      "1100 3.0500809e-05 [0.9936011] [0.01454626]\n",
      "1120 2.7701806e-05 [0.99390185] [0.01386264]\n",
      "1140 2.5158495e-05 [0.9941884] [0.01321111]\n",
      "1160 2.2849335e-05 [0.99446154] [0.01259024]\n",
      "1180 2.0751968e-05 [0.9947218] [0.01199855]\n",
      "1200 1.88482e-05 [0.9949698] [0.01143473]\n",
      "1220 1.7118002e-05 [0.99520624] [0.01089737]\n",
      "1240 1.5546508e-05 [0.99543154] [0.01038523]\n",
      "1260 1.4119579e-05 [0.99564624] [0.00989715]\n",
      "1280 1.28234e-05 [0.99585086] [0.00943199]\n",
      "1300 1.1647059e-05 [0.9960458] [0.00898873]\n",
      "1320 1.0577464e-05 [0.9962317] [0.00856628]\n",
      "1340 9.606765e-06 [0.9964088] [0.00816368]\n",
      "1360 8.725116e-06 [0.9965775] [0.00778003]\n",
      "1380 7.92445e-06 [0.9967383] [0.00741443]\n",
      "1400 7.1970776e-06 [0.9968917] [0.007066]\n",
      "1420 6.5366035e-06 [0.9970377] [0.00673393]\n",
      "1440 5.936586e-06 [0.99717695] [0.00641747]\n",
      "1460 5.391414e-06 [0.9973096] [0.00611587]\n",
      "1480 4.8967927e-06 [0.99743605] [0.00582845]\n",
      "1500 4.447179e-06 [0.9975565] [0.00555456]\n",
      "1520 4.039327e-06 [0.99767137] [0.00529352]\n",
      "1540 3.668588e-06 [0.9977808] [0.00504475]\n",
      "1560 3.3319104e-06 [0.9978851] [0.00480767]\n",
      "1580 3.026075e-06 [0.99798447] [0.00458175]\n",
      "1600 2.7484386e-06 [0.9980792] [0.00436645]\n",
      "1620 2.4960789e-06 [0.9981695] [0.00416123]\n",
      "1640 2.2671522e-06 [0.99825555] [0.00396566]\n",
      "1660 2.0587852e-06 [0.99833745] [0.00377929]\n",
      "1680 1.8698362e-06 [0.9984156] [0.0036017]\n",
      "1700 1.698479e-06 [0.99849004] [0.00343243]\n",
      "1720 1.5423935e-06 [0.998561] [0.00327112]\n",
      "1740 1.4007546e-06 [0.9986286] [0.00311741]\n",
      "1760 1.2723273e-06 [0.99869305] [0.00297094]\n",
      "1780 1.1556068e-06 [0.99875444] [0.00283134]\n",
      "1800 1.0494472e-06 [0.998813] [0.0026983]\n",
      "1820 9.532135e-07 [0.99886876] [0.00257152]\n",
      "1840 8.6567826e-07 [0.99892193] [0.00245069]\n",
      "1860 7.862529e-07 [0.9989726] [0.00233556]\n",
      "1880 7.14162e-07 [0.9990209] [0.00222581]\n",
      "1900 6.485343e-07 [0.9990668] [0.00212124]\n",
      "1920 5.8913133e-07 [0.99911064] [0.00202158]\n",
      "1940 5.3510774e-07 [0.9991525] [0.00192659]\n",
      "1960 4.8591386e-07 [0.9991923] [0.00183606]\n",
      "1980 4.4141916e-07 [0.9992302] [0.00174979]\n",
      "2000 4.0090796e-07 [0.99926645] [0.00166758]\n",
      "2020 3.640558e-07 [0.99930084] [0.00158923]\n",
      "2040 3.3064762e-07 [0.9993337] [0.00151457]\n",
      "2060 3.0028943e-07 [0.99936503] [0.00144343]\n",
      "2080 2.7277613e-07 [0.99939483] [0.00137561]\n",
      "2100 2.4776116e-07 [0.9994232] [0.00131102]\n",
      "2120 2.2508641e-07 [0.99945027] [0.00124946]\n",
      "2140 2.0438654e-07 [0.9994761] [0.00119079]\n",
      "2160 1.8568171e-07 [0.9995007] [0.00113486]\n",
      "2180 1.6868e-07 [0.9995242] [0.00108156]\n",
      "2200 1.5313096e-07 [0.99954647] [0.00103075]\n",
      "2220 1.3910893e-07 [0.99956787] [0.00098239]\n",
      "2240 1.2635591e-07 [0.99958813] [0.00093628]\n",
      "2260 1.147612e-07 [0.9996074] [0.00089231]\n",
      "2280 1.042711e-07 [0.9996258] [0.0008504]\n",
      "2300 9.467069e-08 [0.99964345] [0.00081046]\n",
      "2320 8.5995815e-08 [0.99966013] [0.00077245]\n",
      "2340 7.815959e-08 [0.999676] [0.00073619]\n",
      "2360 7.0979056e-08 [0.9996913] [0.00070165]\n",
      "2380 6.444234e-08 [0.9997057] [0.00066877]\n",
      "2400 5.8541772e-08 [0.99971956] [0.00063737]\n",
      "2420 5.3199e-08 [0.9997327] [0.00060751]\n",
      "2440 4.834406e-08 [0.9997452] [0.00057898]\n",
      "2460 4.39252e-08 [0.9997571] [0.0005519]\n",
      "2480 3.9892168e-08 [0.99976856] [0.00052596]\n",
      "2500 3.621928e-08 [0.99977934] [0.00050134]\n",
      "2520 3.2890927e-08 [0.99978983] [0.00047778]\n",
      "2540 2.9891098e-08 [0.9997995] [0.0004554]\n",
      "2560 2.7161699e-08 [0.999809] [0.0004341]\n",
      "2580 2.4673625e-08 [0.9998179] [0.0004137]\n",
      "2600 2.242306e-08 [0.9998264] [0.00039436]\n",
      "2620 2.037335e-08 [0.9998347] [0.00037588]\n",
      "2640 1.8503997e-08 [0.99984235] [0.0003582]\n",
      "2660 1.6813795e-08 [0.9998496] [0.00034146]\n",
      "2680 1.5276902e-08 [0.99985677] [0.00032552]\n",
      "2700 1.3857199e-08 [0.99986356] [0.00031019]\n",
      "2720 1.261579e-08 [0.9998698] [0.00029565]\n",
      "2740 1.1456052e-08 [0.99987584] [0.00028188]\n",
      "2760 1.04119335e-08 [0.9998818] [0.00026871]\n",
      "2780 9.452019e-09 [0.99988747] [0.00025604]\n",
      "2800 8.575796e-09 [0.9998926] [0.00024402]\n",
      "2820 7.804412e-09 [0.9998975] [0.00023264]\n",
      "2840 7.0918467e-09 [0.99990225] [0.00022185]\n",
      "2860 6.4443193e-09 [0.999907] [0.00021148]\n",
      "2880 5.854782e-09 [0.9999114] [0.00020148]\n",
      "2900 5.3204303e-09 [0.9999155] [0.00019202]\n",
      "2920 4.8279625e-09 [0.99991935] [0.00018307]\n",
      "2940 4.3895434e-09 [0.999923] [0.00017459]\n",
      "2960 4.0024823e-09 [0.99992657] [0.00016654]\n",
      "2980 3.6312524e-09 [0.99993014] [0.00015879]\n",
      "3000 3.2936072e-09 [0.99993354] [0.00015127]\n",
      "3020 2.9906886e-09 [0.99993664] [0.0001441]\n",
      "3040 2.7225344e-09 [0.99993956] [0.00013733]\n",
      "3060 2.4778615e-09 [0.99994236] [0.00013093]\n",
      "3080 2.2462103e-09 [0.9999449] [0.00012487]\n",
      "3100 2.047372e-09 [0.99994737] [0.00011914]\n",
      "3120 1.8713042e-09 [0.99994975] [0.00011372]\n",
      "3140 1.7023657e-09 [0.99995214] [0.00010852]\n",
      "3160 1.5407835e-09 [0.9999545] [0.00010346]\n",
      "3180 1.3937486e-09 [0.9999568] [9.8511664e-05]\n",
      "3200 1.2693372e-09 [0.9999589] [9.3787e-05]\n",
      "3220 1.1474981e-09 [0.9999608] [8.9320616e-05]\n",
      "3240 1.0429867e-09 [0.9999625] [8.5094245e-05]\n",
      "3260 9.482051e-10 [0.9999643] [8.109994e-05]\n",
      "3280 8.653463e-10 [0.9999659] [7.7318626e-05]\n",
      "3300 7.857892e-10 [0.99996746] [7.374473e-05]\n",
      "3320 7.1238065e-10 [0.9999689] [7.036157e-05]\n",
      "3340 6.5330613e-10 [0.9999703] [6.7172325e-05]\n",
      "3360 5.941132e-10 [0.9999716] [6.414282e-05]\n",
      "3380 5.409267e-10 [0.9999729] [6.127781e-05]\n",
      "3400 4.9480303e-10 [0.9999741] [5.8535203e-05]\n",
      "3420 4.513178e-10 [0.99997526] [5.591499e-05]\n",
      "3440 4.1221426e-10 [0.99997646] [5.3370266e-05]\n",
      "3460 3.7327177e-10 [0.99997765] [5.088276e-05]\n",
      "3480 3.3642303e-10 [0.99997884] [4.841831e-05]\n",
      "3500 3.0498862e-10 [0.9999799] [4.601505e-05]\n",
      "3520 2.7455846e-10 [0.9999809] [4.373736e-05]\n",
      "3540 2.4825889e-10 [0.9999819] [4.156775e-05]\n",
      "3560 2.2523731e-10 [0.9999827] [3.951814e-05]\n",
      "3580 2.0503421e-10 [0.99998355] [3.7582977e-05]\n",
      "3600 1.850869e-10 [0.9999843] [3.575351e-05]\n",
      "3620 1.6729491e-10 [0.99998504] [3.4024182e-05]\n",
      "3640 1.5139771e-10 [0.99998575] [3.2384654e-05]\n",
      "3660 1.3629631e-10 [0.9999864] [3.0842883e-05]\n",
      "3680 1.246055e-10 [0.99998707] [2.9375016e-05]\n",
      "3700 1.1218996e-10 [0.99998766] [2.7990594e-05]\n",
      "3720 1.0347397e-10 [0.99998826] [2.6684856e-05]\n",
      "3740 9.3317944e-11 [0.9999888] [2.5445868e-05]\n",
      "3760 8.619357e-11 [0.9999893] [2.4275236e-05]\n",
      "3780 7.797496e-11 [0.9999898] [2.31658e-05]\n",
      "3800 7.0580576e-11 [0.9999902] [2.2121525e-05]\n",
      "3820 6.4256746e-11 [0.9999906] [2.112494e-05]\n",
      "3840 5.8245554e-11 [0.99999106] [2.0197498e-05]\n",
      "3860 5.371703e-11 [0.9999914] [1.9303428e-05]\n"
     ]
    },
    {
     "name": "stdout",
     "output_type": "stream",
     "text": [
      "3880 4.9377984e-11 [0.9999918] [1.8471352e-05]\n",
      "3900 4.587264e-11 [0.99999213] [1.76806e-05]\n",
      "3920 4.1689912e-11 [0.99999243] [1.6937518e-05]\n",
      "3940 3.859668e-11 [0.9999928] [1.6217486e-05]\n",
      "3960 3.5261866e-11 [0.999993] [1.5558659e-05]\n",
      "3980 3.183705e-11 [0.9999933] [1.49204925e-05]\n",
      "4000 2.9672265e-11 [0.99999356] [1.4326038e-05]\n",
      "4020 2.7663797e-11 [0.9999938] [1.3768143e-05]\n",
      "4040 2.5148475e-11 [0.99999404] [1.3222168e-05]\n",
      "4060 2.3987923e-11 [0.9999943] [1.2711159e-05]\n",
      "4080 2.1998403e-11 [0.99999446] [1.2247833e-05]\n",
      "4100 2.0425736e-11 [0.99999464] [1.1790068e-05]\n",
      "4120 1.8587798e-11 [0.9999948] [1.1350581e-05]\n",
      "4140 1.762146e-11 [0.999995] [1.0962754e-05]\n",
      "4160 1.6527224e-11 [0.9999952] [1.059797e-05]\n",
      "4180 1.5044558e-11 [0.99999535] [1.0230801e-05]\n",
      "4200 1.4613496e-11 [0.9999955] [9.869197e-06]\n",
      "4220 1.373716e-11 [0.99999565] [9.533026e-06]\n",
      "4240 1.2789769e-11 [0.9999957] [9.239773e-06]\n",
      "4260 1.1463423e-11 [0.9999958] [8.967974e-06]\n",
      "4280 1.1543951e-11 [0.999996] [8.691406e-06]\n",
      "4300 1.0724459e-11 [0.9999961] [8.432323e-06]\n",
      "4320 9.8575965e-12 [0.99999624] [8.170854e-06]\n",
      "4340 9.41706e-12 [0.9999963] [7.938797e-06]\n",
      "4360 9.208634e-12 [0.99999636] [7.739315e-06]\n",
      "4380 8.436511e-12 [0.9999964] [7.547781e-06]\n",
      "4400 8.0717655e-12 [0.99999654] [7.378503e-06]\n",
      "4420 7.654914e-12 [0.99999666] [7.1877685e-06]\n",
      "4440 7.356486e-12 [0.9999967] [7.0081574e-06]\n",
      "4460 6.631732e-12 [0.9999968] [6.825369e-06]\n",
      "4480 6.731208e-12 [0.9999969] [6.66404e-06]\n",
      "4500 6.352252e-12 [0.99999696] [6.4876085e-06]\n",
      "4520 6.0254024e-12 [0.99999696] [6.3461466e-06]\n",
      "4540 6.082246e-12 [0.9999971] [6.2023023e-06]\n",
      "4560 5.76487e-12 [0.9999971] [6.0886596e-06]\n",
      "4580 5.5138116e-12 [0.99999714] [5.985346e-06]\n",
      "4600 5.272227e-12 [0.99999714] [5.891566e-06]\n",
      "4620 5.272227e-12 [0.9999972] [5.815273e-06]\n",
      "4640 5.272227e-12 [0.9999972] [5.7358016e-06]\n",
      "4660 4.6422124e-12 [0.99999726] [5.638052e-06]\n",
      "4680 4.874323e-12 [0.9999974] [5.539506e-06]\n",
      "4700 4.6422124e-12 [0.9999974] [5.4441366e-06]\n",
      "4720 4.419576e-12 [0.9999974] [5.3606905e-06]\n",
      "4740 4.419576e-12 [0.99999744] [5.2843975e-06]\n",
      "4760 4.419576e-12 [0.9999975] [5.20731e-06]\n",
      "4780 4.206413e-12 [0.9999975] [5.1389607e-06]\n",
      "4800 4.206413e-12 [0.99999756] [5.078557e-06]\n",
      "4820 4.206413e-12 [0.99999756] [5.0149742e-06]\n",
      "4840 3.642716e-12 [0.9999976] [4.930731e-06]\n",
      "4860 3.642716e-12 [0.9999977] [4.854438e-06]\n",
      "4880 3.642716e-12 [0.9999977] [4.7749663e-06]\n",
      "4900 3.4295529e-12 [0.9999977] [4.738411e-06]\n",
      "4920 3.4295529e-12 [0.9999977] [4.706624e-06]\n",
      "4940 3.4295529e-12 [0.9999977] [4.6748373e-06]\n",
      "4960 3.4295529e-12 [0.99999774] [4.6454347e-06]\n",
      "4980 3.4295529e-12 [0.99999774] [4.613648e-06]\n",
      "5000 3.2448118e-12 [0.99999774] [4.585039e-06]\n",
      "5020 3.2448118e-12 [0.99999774] [4.569141e-06]\n",
      "5040 3.2448118e-12 [0.99999774] [4.553243e-06]\n",
      "5060 3.2448118e-12 [0.99999774] [4.537345e-06]\n",
      "5080 3.2448118e-12 [0.99999774] [4.521447e-06]\n",
      "5100 3.2448118e-12 [0.99999774] [4.505549e-06]\n",
      "5120 3.2448118e-12 [0.99999774] [4.489651e-06]\n",
      "5140 3.2448118e-12 [0.99999774] [4.473753e-06]\n",
      "5160 3.2448118e-12 [0.9999978] [4.459445e-06]\n",
      "5180 3.2448118e-12 [0.9999978] [4.443547e-06]\n",
      "5200 3.2448118e-12 [0.9999978] [4.427649e-06]\n",
      "5220 3.2448118e-12 [0.9999978] [4.411751e-06]\n",
      "5240 3.2448118e-12 [0.99999785] [4.3950586e-06]\n",
      "5260 3.2448118e-12 [0.99999785] [4.3791606e-06]\n",
      "5280 3.2448118e-12 [0.99999785] [4.3632626e-06]\n",
      "5300 3.0695446e-12 [0.99999785] [4.3505443e-06]\n",
      "5320 3.0695446e-12 [0.99999785] [4.3505443e-06]\n",
      "5340 3.0695446e-12 [0.99999785] [4.3505443e-06]\n",
      "5360 3.0695446e-12 [0.99999785] [4.3505443e-06]\n",
      "5380 3.0695446e-12 [0.99999785] [4.3505443e-06]\n",
      "5400 3.0695446e-12 [0.99999785] [4.3505443e-06]\n",
      "5420 3.0695446e-12 [0.99999785] [4.3505443e-06]\n",
      "5440 3.0695446e-12 [0.99999785] [4.3505443e-06]\n",
      "5460 3.0695446e-12 [0.99999785] [4.3505443e-06]\n",
      "5480 3.0695446e-12 [0.99999785] [4.3505443e-06]\n",
      "5500 3.0695446e-12 [0.99999785] [4.3505443e-06]\n",
      "5520 3.0695446e-12 [0.99999785] [4.3505443e-06]\n",
      "5540 3.0695446e-12 [0.99999785] [4.3505443e-06]\n",
      "5560 3.0695446e-12 [0.99999785] [4.3505443e-06]\n",
      "5580 3.0695446e-12 [0.99999785] [4.3505443e-06]\n",
      "5600 3.0695446e-12 [0.99999785] [4.3505443e-06]\n",
      "5620 3.0695446e-12 [0.99999785] [4.3505443e-06]\n",
      "5640 3.0695446e-12 [0.99999785] [4.3505443e-06]\n",
      "5660 3.0695446e-12 [0.99999785] [4.3505443e-06]\n",
      "5680 3.0695446e-12 [0.99999785] [4.3505443e-06]\n",
      "5700 3.0695446e-12 [0.99999785] [4.3505443e-06]\n",
      "5720 3.0695446e-12 [0.99999785] [4.3505443e-06]\n",
      "5740 3.0695446e-12 [0.99999785] [4.3505443e-06]\n",
      "5760 3.0695446e-12 [0.99999785] [4.3505443e-06]\n",
      "5780 3.0695446e-12 [0.99999785] [4.3505443e-06]\n",
      "5800 3.0695446e-12 [0.99999785] [4.3505443e-06]\n",
      "5820 3.0695446e-12 [0.99999785] [4.3505443e-06]\n",
      "5840 3.0695446e-12 [0.99999785] [4.3505443e-06]\n",
      "5860 3.0695446e-12 [0.99999785] [4.3505443e-06]\n",
      "5880 3.0695446e-12 [0.99999785] [4.3505443e-06]\n",
      "5900 3.0695446e-12 [0.99999785] [4.3505443e-06]\n",
      "5920 3.0695446e-12 [0.99999785] [4.3505443e-06]\n",
      "5940 3.0695446e-12 [0.99999785] [4.3505443e-06]\n",
      "5960 3.0695446e-12 [0.99999785] [4.3505443e-06]\n",
      "5980 3.0695446e-12 [0.99999785] [4.3505443e-06]\n",
      "6000 3.0695446e-12 [0.99999785] [4.3505443e-06]\n",
      "6020 3.0695446e-12 [0.99999785] [4.3505443e-06]\n",
      "6040 3.0695446e-12 [0.99999785] [4.3505443e-06]\n",
      "6060 3.0695446e-12 [0.99999785] [4.3505443e-06]\n",
      "6080 3.0695446e-12 [0.99999785] [4.3505443e-06]\n",
      "6100 3.0695446e-12 [0.99999785] [4.3505443e-06]\n",
      "6120 3.0695446e-12 [0.99999785] [4.3505443e-06]\n",
      "6140 3.0695446e-12 [0.99999785] [4.3505443e-06]\n",
      "6160 3.0695446e-12 [0.99999785] [4.3505443e-06]\n",
      "6180 3.0695446e-12 [0.99999785] [4.3505443e-06]\n",
      "6200 3.0695446e-12 [0.99999785] [4.3505443e-06]\n",
      "6220 3.0695446e-12 [0.99999785] [4.3505443e-06]\n",
      "6240 3.0695446e-12 [0.99999785] [4.3505443e-06]\n",
      "6260 3.0695446e-12 [0.99999785] [4.3505443e-06]\n",
      "6280 3.0695446e-12 [0.99999785] [4.3505443e-06]\n",
      "6300 3.0695446e-12 [0.99999785] [4.3505443e-06]\n",
      "6320 3.0695446e-12 [0.99999785] [4.3505443e-06]\n",
      "6340 3.0695446e-12 [0.99999785] [4.3505443e-06]\n",
      "6360 3.0695446e-12 [0.99999785] [4.3505443e-06]\n",
      "6380 3.0695446e-12 [0.99999785] [4.3505443e-06]\n",
      "6400 3.0695446e-12 [0.99999785] [4.3505443e-06]\n",
      "6420 3.0695446e-12 [0.99999785] [4.3505443e-06]\n",
      "6440 3.0695446e-12 [0.99999785] [4.3505443e-06]\n",
      "6460 3.0695446e-12 [0.99999785] [4.3505443e-06]\n",
      "6480 3.0695446e-12 [0.99999785] [4.3505443e-06]\n",
      "6500 3.0695446e-12 [0.99999785] [4.3505443e-06]\n",
      "6520 3.0695446e-12 [0.99999785] [4.3505443e-06]\n",
      "6540 3.0695446e-12 [0.99999785] [4.3505443e-06]\n",
      "6560 3.0695446e-12 [0.99999785] [4.3505443e-06]\n",
      "6580 3.0695446e-12 [0.99999785] [4.3505443e-06]\n",
      "6600 3.0695446e-12 [0.99999785] [4.3505443e-06]\n",
      "6620 3.0695446e-12 [0.99999785] [4.3505443e-06]\n",
      "6640 3.0695446e-12 [0.99999785] [4.3505443e-06]\n",
      "6660 3.0695446e-12 [0.99999785] [4.3505443e-06]\n",
      "6680 3.0695446e-12 [0.99999785] [4.3505443e-06]\n",
      "6700 3.0695446e-12 [0.99999785] [4.3505443e-06]\n",
      "6720 3.0695446e-12 [0.99999785] [4.3505443e-06]\n",
      "6740 3.0695446e-12 [0.99999785] [4.3505443e-06]\n",
      "6760 3.0695446e-12 [0.99999785] [4.3505443e-06]\n",
      "6780 3.0695446e-12 [0.99999785] [4.3505443e-06]\n",
      "6800 3.0695446e-12 [0.99999785] [4.3505443e-06]\n",
      "6820 3.0695446e-12 [0.99999785] [4.3505443e-06]\n",
      "6840 3.0695446e-12 [0.99999785] [4.3505443e-06]\n",
      "6860 3.0695446e-12 [0.99999785] [4.3505443e-06]\n",
      "6880 3.0695446e-12 [0.99999785] [4.3505443e-06]\n",
      "6900 3.0695446e-12 [0.99999785] [4.3505443e-06]\n",
      "6920 3.0695446e-12 [0.99999785] [4.3505443e-06]\n",
      "6940 3.0695446e-12 [0.99999785] [4.3505443e-06]\n",
      "6960 3.0695446e-12 [0.99999785] [4.3505443e-06]\n",
      "6980 3.0695446e-12 [0.99999785] [4.3505443e-06]\n",
      "7000 3.0695446e-12 [0.99999785] [4.3505443e-06]\n",
      "7020 3.0695446e-12 [0.99999785] [4.3505443e-06]\n",
      "7040 3.0695446e-12 [0.99999785] [4.3505443e-06]\n",
      "7060 3.0695446e-12 [0.99999785] [4.3505443e-06]\n",
      "7080 3.0695446e-12 [0.99999785] [4.3505443e-06]\n",
      "7100 3.0695446e-12 [0.99999785] [4.3505443e-06]\n",
      "7120 3.0695446e-12 [0.99999785] [4.3505443e-06]\n",
      "7140 3.0695446e-12 [0.99999785] [4.3505443e-06]\n",
      "7160 3.0695446e-12 [0.99999785] [4.3505443e-06]\n",
      "7180 3.0695446e-12 [0.99999785] [4.3505443e-06]\n",
      "7200 3.0695446e-12 [0.99999785] [4.3505443e-06]\n",
      "7220 3.0695446e-12 [0.99999785] [4.3505443e-06]\n",
      "7240 3.0695446e-12 [0.99999785] [4.3505443e-06]\n",
      "7260 3.0695446e-12 [0.99999785] [4.3505443e-06]\n",
      "7280 3.0695446e-12 [0.99999785] [4.3505443e-06]\n",
      "7300 3.0695446e-12 [0.99999785] [4.3505443e-06]\n",
      "7320 3.0695446e-12 [0.99999785] [4.3505443e-06]\n",
      "7340 3.0695446e-12 [0.99999785] [4.3505443e-06]\n",
      "7360 3.0695446e-12 [0.99999785] [4.3505443e-06]\n",
      "7380 3.0695446e-12 [0.99999785] [4.3505443e-06]\n",
      "7400 3.0695446e-12 [0.99999785] [4.3505443e-06]\n",
      "7420 3.0695446e-12 [0.99999785] [4.3505443e-06]\n",
      "7440 3.0695446e-12 [0.99999785] [4.3505443e-06]\n"
     ]
    },
    {
     "name": "stdout",
     "output_type": "stream",
     "text": [
      "7460 3.0695446e-12 [0.99999785] [4.3505443e-06]\n",
      "7480 3.0695446e-12 [0.99999785] [4.3505443e-06]\n",
      "7500 3.0695446e-12 [0.99999785] [4.3505443e-06]\n",
      "7520 3.0695446e-12 [0.99999785] [4.3505443e-06]\n",
      "7540 3.0695446e-12 [0.99999785] [4.3505443e-06]\n",
      "7560 3.0695446e-12 [0.99999785] [4.3505443e-06]\n",
      "7580 3.0695446e-12 [0.99999785] [4.3505443e-06]\n",
      "7600 3.0695446e-12 [0.99999785] [4.3505443e-06]\n",
      "7620 3.0695446e-12 [0.99999785] [4.3505443e-06]\n",
      "7640 3.0695446e-12 [0.99999785] [4.3505443e-06]\n",
      "7660 3.0695446e-12 [0.99999785] [4.3505443e-06]\n",
      "7680 3.0695446e-12 [0.99999785] [4.3505443e-06]\n",
      "7700 3.0695446e-12 [0.99999785] [4.3505443e-06]\n",
      "7720 3.0695446e-12 [0.99999785] [4.3505443e-06]\n",
      "7740 3.0695446e-12 [0.99999785] [4.3505443e-06]\n",
      "7760 3.0695446e-12 [0.99999785] [4.3505443e-06]\n",
      "7780 3.0695446e-12 [0.99999785] [4.3505443e-06]\n",
      "7800 3.0695446e-12 [0.99999785] [4.3505443e-06]\n",
      "7820 3.0695446e-12 [0.99999785] [4.3505443e-06]\n",
      "7840 3.0695446e-12 [0.99999785] [4.3505443e-06]\n",
      "7860 3.0695446e-12 [0.99999785] [4.3505443e-06]\n",
      "7880 3.0695446e-12 [0.99999785] [4.3505443e-06]\n",
      "7900 3.0695446e-12 [0.99999785] [4.3505443e-06]\n",
      "7920 3.0695446e-12 [0.99999785] [4.3505443e-06]\n",
      "7940 3.0695446e-12 [0.99999785] [4.3505443e-06]\n",
      "7960 3.0695446e-12 [0.99999785] [4.3505443e-06]\n",
      "7980 3.0695446e-12 [0.99999785] [4.3505443e-06]\n",
      "8000 3.0695446e-12 [0.99999785] [4.3505443e-06]\n",
      "8020 3.0695446e-12 [0.99999785] [4.3505443e-06]\n",
      "8040 3.0695446e-12 [0.99999785] [4.3505443e-06]\n",
      "8060 3.0695446e-12 [0.99999785] [4.3505443e-06]\n",
      "8080 3.0695446e-12 [0.99999785] [4.3505443e-06]\n",
      "8100 3.0695446e-12 [0.99999785] [4.3505443e-06]\n",
      "8120 3.0695446e-12 [0.99999785] [4.3505443e-06]\n",
      "8140 3.0695446e-12 [0.99999785] [4.3505443e-06]\n",
      "8160 3.0695446e-12 [0.99999785] [4.3505443e-06]\n",
      "8180 3.0695446e-12 [0.99999785] [4.3505443e-06]\n",
      "8200 3.0695446e-12 [0.99999785] [4.3505443e-06]\n",
      "8220 3.0695446e-12 [0.99999785] [4.3505443e-06]\n",
      "8240 3.0695446e-12 [0.99999785] [4.3505443e-06]\n",
      "8260 3.0695446e-12 [0.99999785] [4.3505443e-06]\n",
      "8280 3.0695446e-12 [0.99999785] [4.3505443e-06]\n",
      "8300 3.0695446e-12 [0.99999785] [4.3505443e-06]\n",
      "8320 3.0695446e-12 [0.99999785] [4.3505443e-06]\n",
      "8340 3.0695446e-12 [0.99999785] [4.3505443e-06]\n",
      "8360 3.0695446e-12 [0.99999785] [4.3505443e-06]\n",
      "8380 3.0695446e-12 [0.99999785] [4.3505443e-06]\n",
      "8400 3.0695446e-12 [0.99999785] [4.3505443e-06]\n",
      "8420 3.0695446e-12 [0.99999785] [4.3505443e-06]\n",
      "8440 3.0695446e-12 [0.99999785] [4.3505443e-06]\n",
      "8460 3.0695446e-12 [0.99999785] [4.3505443e-06]\n",
      "8480 3.0695446e-12 [0.99999785] [4.3505443e-06]\n",
      "8500 3.0695446e-12 [0.99999785] [4.3505443e-06]\n",
      "8520 3.0695446e-12 [0.99999785] [4.3505443e-06]\n",
      "8540 3.0695446e-12 [0.99999785] [4.3505443e-06]\n",
      "8560 3.0695446e-12 [0.99999785] [4.3505443e-06]\n",
      "8580 3.0695446e-12 [0.99999785] [4.3505443e-06]\n",
      "8600 3.0695446e-12 [0.99999785] [4.3505443e-06]\n",
      "8620 3.0695446e-12 [0.99999785] [4.3505443e-06]\n",
      "8640 3.0695446e-12 [0.99999785] [4.3505443e-06]\n",
      "8660 3.0695446e-12 [0.99999785] [4.3505443e-06]\n",
      "8680 3.0695446e-12 [0.99999785] [4.3505443e-06]\n",
      "8700 3.0695446e-12 [0.99999785] [4.3505443e-06]\n",
      "8720 3.0695446e-12 [0.99999785] [4.3505443e-06]\n",
      "8740 3.0695446e-12 [0.99999785] [4.3505443e-06]\n",
      "8760 3.0695446e-12 [0.99999785] [4.3505443e-06]\n",
      "8780 3.0695446e-12 [0.99999785] [4.3505443e-06]\n",
      "8800 3.0695446e-12 [0.99999785] [4.3505443e-06]\n",
      "8820 3.0695446e-12 [0.99999785] [4.3505443e-06]\n",
      "8840 3.0695446e-12 [0.99999785] [4.3505443e-06]\n",
      "8860 3.0695446e-12 [0.99999785] [4.3505443e-06]\n",
      "8880 3.0695446e-12 [0.99999785] [4.3505443e-06]\n",
      "8900 3.0695446e-12 [0.99999785] [4.3505443e-06]\n",
      "8920 3.0695446e-12 [0.99999785] [4.3505443e-06]\n",
      "8940 3.0695446e-12 [0.99999785] [4.3505443e-06]\n",
      "8960 3.0695446e-12 [0.99999785] [4.3505443e-06]\n",
      "8980 3.0695446e-12 [0.99999785] [4.3505443e-06]\n",
      "9000 3.0695446e-12 [0.99999785] [4.3505443e-06]\n",
      "9020 3.0695446e-12 [0.99999785] [4.3505443e-06]\n",
      "9040 3.0695446e-12 [0.99999785] [4.3505443e-06]\n",
      "9060 3.0695446e-12 [0.99999785] [4.3505443e-06]\n",
      "9080 3.0695446e-12 [0.99999785] [4.3505443e-06]\n",
      "9100 3.0695446e-12 [0.99999785] [4.3505443e-06]\n",
      "9120 3.0695446e-12 [0.99999785] [4.3505443e-06]\n",
      "9140 3.0695446e-12 [0.99999785] [4.3505443e-06]\n",
      "9160 3.0695446e-12 [0.99999785] [4.3505443e-06]\n",
      "9180 3.0695446e-12 [0.99999785] [4.3505443e-06]\n",
      "9200 3.0695446e-12 [0.99999785] [4.3505443e-06]\n",
      "9220 3.0695446e-12 [0.99999785] [4.3505443e-06]\n",
      "9240 3.0695446e-12 [0.99999785] [4.3505443e-06]\n",
      "9260 3.0695446e-12 [0.99999785] [4.3505443e-06]\n",
      "9280 3.0695446e-12 [0.99999785] [4.3505443e-06]\n",
      "9300 3.0695446e-12 [0.99999785] [4.3505443e-06]\n",
      "9320 3.0695446e-12 [0.99999785] [4.3505443e-06]\n",
      "9340 3.0695446e-12 [0.99999785] [4.3505443e-06]\n",
      "9360 3.0695446e-12 [0.99999785] [4.3505443e-06]\n",
      "9380 3.0695446e-12 [0.99999785] [4.3505443e-06]\n",
      "9400 3.0695446e-12 [0.99999785] [4.3505443e-06]\n",
      "9420 3.0695446e-12 [0.99999785] [4.3505443e-06]\n",
      "9440 3.0695446e-12 [0.99999785] [4.3505443e-06]\n",
      "9460 3.0695446e-12 [0.99999785] [4.3505443e-06]\n",
      "9480 3.0695446e-12 [0.99999785] [4.3505443e-06]\n",
      "9500 3.0695446e-12 [0.99999785] [4.3505443e-06]\n",
      "9520 3.0695446e-12 [0.99999785] [4.3505443e-06]\n",
      "9540 3.0695446e-12 [0.99999785] [4.3505443e-06]\n",
      "9560 3.0695446e-12 [0.99999785] [4.3505443e-06]\n",
      "9580 3.0695446e-12 [0.99999785] [4.3505443e-06]\n",
      "9600 3.0695446e-12 [0.99999785] [4.3505443e-06]\n",
      "9620 3.0695446e-12 [0.99999785] [4.3505443e-06]\n",
      "9640 3.0695446e-12 [0.99999785] [4.3505443e-06]\n",
      "9660 3.0695446e-12 [0.99999785] [4.3505443e-06]\n",
      "9680 3.0695446e-12 [0.99999785] [4.3505443e-06]\n",
      "9700 3.0695446e-12 [0.99999785] [4.3505443e-06]\n",
      "9720 3.0695446e-12 [0.99999785] [4.3505443e-06]\n",
      "9740 3.0695446e-12 [0.99999785] [4.3505443e-06]\n",
      "9760 3.0695446e-12 [0.99999785] [4.3505443e-06]\n",
      "9780 3.0695446e-12 [0.99999785] [4.3505443e-06]\n",
      "9800 3.0695446e-12 [0.99999785] [4.3505443e-06]\n",
      "9820 3.0695446e-12 [0.99999785] [4.3505443e-06]\n",
      "9840 3.0695446e-12 [0.99999785] [4.3505443e-06]\n",
      "9860 3.0695446e-12 [0.99999785] [4.3505443e-06]\n",
      "9880 3.0695446e-12 [0.99999785] [4.3505443e-06]\n",
      "9900 3.0695446e-12 [0.99999785] [4.3505443e-06]\n",
      "9920 3.0695446e-12 [0.99999785] [4.3505443e-06]\n",
      "9940 3.0695446e-12 [0.99999785] [4.3505443e-06]\n",
      "9960 3.0695446e-12 [0.99999785] [4.3505443e-06]\n",
      "9980 3.0695446e-12 [0.99999785] [4.3505443e-06]\n",
      "10000 3.0695446e-12 [0.99999785] [4.3505443e-06]\n",
      "10020 3.0695446e-12 [0.99999785] [4.3505443e-06]\n",
      "10040 3.0695446e-12 [0.99999785] [4.3505443e-06]\n",
      "10060 3.0695446e-12 [0.99999785] [4.3505443e-06]\n",
      "10080 3.0695446e-12 [0.99999785] [4.3505443e-06]\n",
      "10100 3.0695446e-12 [0.99999785] [4.3505443e-06]\n",
      "10120 3.0695446e-12 [0.99999785] [4.3505443e-06]\n",
      "10140 3.0695446e-12 [0.99999785] [4.3505443e-06]\n",
      "10160 3.0695446e-12 [0.99999785] [4.3505443e-06]\n",
      "10180 3.0695446e-12 [0.99999785] [4.3505443e-06]\n",
      "10200 3.0695446e-12 [0.99999785] [4.3505443e-06]\n",
      "10220 3.0695446e-12 [0.99999785] [4.3505443e-06]\n",
      "10240 3.0695446e-12 [0.99999785] [4.3505443e-06]\n",
      "10260 3.0695446e-12 [0.99999785] [4.3505443e-06]\n",
      "10280 3.0695446e-12 [0.99999785] [4.3505443e-06]\n",
      "10300 3.0695446e-12 [0.99999785] [4.3505443e-06]\n",
      "10320 3.0695446e-12 [0.99999785] [4.3505443e-06]\n",
      "10340 3.0695446e-12 [0.99999785] [4.3505443e-06]\n",
      "10360 3.0695446e-12 [0.99999785] [4.3505443e-06]\n",
      "10380 3.0695446e-12 [0.99999785] [4.3505443e-06]\n",
      "10400 3.0695446e-12 [0.99999785] [4.3505443e-06]\n",
      "10420 3.0695446e-12 [0.99999785] [4.3505443e-06]\n",
      "10440 3.0695446e-12 [0.99999785] [4.3505443e-06]\n",
      "10460 3.0695446e-12 [0.99999785] [4.3505443e-06]\n",
      "10480 3.0695446e-12 [0.99999785] [4.3505443e-06]\n",
      "10500 3.0695446e-12 [0.99999785] [4.3505443e-06]\n",
      "10520 3.0695446e-12 [0.99999785] [4.3505443e-06]\n",
      "10540 3.0695446e-12 [0.99999785] [4.3505443e-06]\n",
      "10560 3.0695446e-12 [0.99999785] [4.3505443e-06]\n",
      "10580 3.0695446e-12 [0.99999785] [4.3505443e-06]\n",
      "10600 3.0695446e-12 [0.99999785] [4.3505443e-06]\n",
      "10620 3.0695446e-12 [0.99999785] [4.3505443e-06]\n",
      "10640 3.0695446e-12 [0.99999785] [4.3505443e-06]\n",
      "10660 3.0695446e-12 [0.99999785] [4.3505443e-06]\n",
      "10680 3.0695446e-12 [0.99999785] [4.3505443e-06]\n",
      "10700 3.0695446e-12 [0.99999785] [4.3505443e-06]\n",
      "10720 3.0695446e-12 [0.99999785] [4.3505443e-06]\n",
      "10740 3.0695446e-12 [0.99999785] [4.3505443e-06]\n",
      "10760 3.0695446e-12 [0.99999785] [4.3505443e-06]\n",
      "10780 3.0695446e-12 [0.99999785] [4.3505443e-06]\n",
      "10800 3.0695446e-12 [0.99999785] [4.3505443e-06]\n",
      "10820 3.0695446e-12 [0.99999785] [4.3505443e-06]\n",
      "10840 3.0695446e-12 [0.99999785] [4.3505443e-06]\n",
      "10860 3.0695446e-12 [0.99999785] [4.3505443e-06]\n",
      "10880 3.0695446e-12 [0.99999785] [4.3505443e-06]\n",
      "10900 3.0695446e-12 [0.99999785] [4.3505443e-06]\n",
      "10920 3.0695446e-12 [0.99999785] [4.3505443e-06]\n",
      "10940 3.0695446e-12 [0.99999785] [4.3505443e-06]\n"
     ]
    },
    {
     "name": "stdout",
     "output_type": "stream",
     "text": [
      "10960 3.0695446e-12 [0.99999785] [4.3505443e-06]\n",
      "10980 3.0695446e-12 [0.99999785] [4.3505443e-06]\n",
      "11000 3.0695446e-12 [0.99999785] [4.3505443e-06]\n",
      "11020 3.0695446e-12 [0.99999785] [4.3505443e-06]\n",
      "11040 3.0695446e-12 [0.99999785] [4.3505443e-06]\n",
      "11060 3.0695446e-12 [0.99999785] [4.3505443e-06]\n",
      "11080 3.0695446e-12 [0.99999785] [4.3505443e-06]\n",
      "11100 3.0695446e-12 [0.99999785] [4.3505443e-06]\n",
      "11120 3.0695446e-12 [0.99999785] [4.3505443e-06]\n",
      "11140 3.0695446e-12 [0.99999785] [4.3505443e-06]\n",
      "11160 3.0695446e-12 [0.99999785] [4.3505443e-06]\n",
      "11180 3.0695446e-12 [0.99999785] [4.3505443e-06]\n",
      "11200 3.0695446e-12 [0.99999785] [4.3505443e-06]\n",
      "11220 3.0695446e-12 [0.99999785] [4.3505443e-06]\n",
      "11240 3.0695446e-12 [0.99999785] [4.3505443e-06]\n",
      "11260 3.0695446e-12 [0.99999785] [4.3505443e-06]\n",
      "11280 3.0695446e-12 [0.99999785] [4.3505443e-06]\n",
      "11300 3.0695446e-12 [0.99999785] [4.3505443e-06]\n",
      "11320 3.0695446e-12 [0.99999785] [4.3505443e-06]\n",
      "11340 3.0695446e-12 [0.99999785] [4.3505443e-06]\n",
      "11360 3.0695446e-12 [0.99999785] [4.3505443e-06]\n",
      "11380 3.0695446e-12 [0.99999785] [4.3505443e-06]\n",
      "11400 3.0695446e-12 [0.99999785] [4.3505443e-06]\n",
      "11420 3.0695446e-12 [0.99999785] [4.3505443e-06]\n",
      "11440 3.0695446e-12 [0.99999785] [4.3505443e-06]\n",
      "11460 3.0695446e-12 [0.99999785] [4.3505443e-06]\n",
      "11480 3.0695446e-12 [0.99999785] [4.3505443e-06]\n",
      "11500 3.0695446e-12 [0.99999785] [4.3505443e-06]\n",
      "11520 3.0695446e-12 [0.99999785] [4.3505443e-06]\n",
      "11540 3.0695446e-12 [0.99999785] [4.3505443e-06]\n",
      "11560 3.0695446e-12 [0.99999785] [4.3505443e-06]\n",
      "11580 3.0695446e-12 [0.99999785] [4.3505443e-06]\n",
      "11600 3.0695446e-12 [0.99999785] [4.3505443e-06]\n",
      "11620 3.0695446e-12 [0.99999785] [4.3505443e-06]\n",
      "11640 3.0695446e-12 [0.99999785] [4.3505443e-06]\n",
      "11660 3.0695446e-12 [0.99999785] [4.3505443e-06]\n",
      "11680 3.0695446e-12 [0.99999785] [4.3505443e-06]\n",
      "11700 3.0695446e-12 [0.99999785] [4.3505443e-06]\n",
      "11720 3.0695446e-12 [0.99999785] [4.3505443e-06]\n",
      "11740 3.0695446e-12 [0.99999785] [4.3505443e-06]\n",
      "11760 3.0695446e-12 [0.99999785] [4.3505443e-06]\n",
      "11780 3.0695446e-12 [0.99999785] [4.3505443e-06]\n",
      "11800 3.0695446e-12 [0.99999785] [4.3505443e-06]\n",
      "11820 3.0695446e-12 [0.99999785] [4.3505443e-06]\n",
      "11840 3.0695446e-12 [0.99999785] [4.3505443e-06]\n",
      "11860 3.0695446e-12 [0.99999785] [4.3505443e-06]\n",
      "11880 3.0695446e-12 [0.99999785] [4.3505443e-06]\n",
      "11900 3.0695446e-12 [0.99999785] [4.3505443e-06]\n",
      "11920 3.0695446e-12 [0.99999785] [4.3505443e-06]\n",
      "11940 3.0695446e-12 [0.99999785] [4.3505443e-06]\n",
      "11960 3.0695446e-12 [0.99999785] [4.3505443e-06]\n",
      "11980 3.0695446e-12 [0.99999785] [4.3505443e-06]\n",
      "12000 3.0695446e-12 [0.99999785] [4.3505443e-06]\n",
      "12020 3.0695446e-12 [0.99999785] [4.3505443e-06]\n",
      "12040 3.0695446e-12 [0.99999785] [4.3505443e-06]\n",
      "12060 3.0695446e-12 [0.99999785] [4.3505443e-06]\n",
      "12080 3.0695446e-12 [0.99999785] [4.3505443e-06]\n",
      "12100 3.0695446e-12 [0.99999785] [4.3505443e-06]\n",
      "12120 3.0695446e-12 [0.99999785] [4.3505443e-06]\n",
      "12140 3.0695446e-12 [0.99999785] [4.3505443e-06]\n",
      "12160 3.0695446e-12 [0.99999785] [4.3505443e-06]\n",
      "12180 3.0695446e-12 [0.99999785] [4.3505443e-06]\n",
      "12200 3.0695446e-12 [0.99999785] [4.3505443e-06]\n",
      "12220 3.0695446e-12 [0.99999785] [4.3505443e-06]\n",
      "12240 3.0695446e-12 [0.99999785] [4.3505443e-06]\n",
      "12260 3.0695446e-12 [0.99999785] [4.3505443e-06]\n",
      "12280 3.0695446e-12 [0.99999785] [4.3505443e-06]\n",
      "12300 3.0695446e-12 [0.99999785] [4.3505443e-06]\n",
      "12320 3.0695446e-12 [0.99999785] [4.3505443e-06]\n",
      "12340 3.0695446e-12 [0.99999785] [4.3505443e-06]\n",
      "12360 3.0695446e-12 [0.99999785] [4.3505443e-06]\n",
      "12380 3.0695446e-12 [0.99999785] [4.3505443e-06]\n",
      "12400 3.0695446e-12 [0.99999785] [4.3505443e-06]\n",
      "12420 3.0695446e-12 [0.99999785] [4.3505443e-06]\n",
      "12440 3.0695446e-12 [0.99999785] [4.3505443e-06]\n",
      "12460 3.0695446e-12 [0.99999785] [4.3505443e-06]\n",
      "12480 3.0695446e-12 [0.99999785] [4.3505443e-06]\n",
      "12500 3.0695446e-12 [0.99999785] [4.3505443e-06]\n",
      "12520 3.0695446e-12 [0.99999785] [4.3505443e-06]\n",
      "12540 3.0695446e-12 [0.99999785] [4.3505443e-06]\n",
      "12560 3.0695446e-12 [0.99999785] [4.3505443e-06]\n",
      "12580 3.0695446e-12 [0.99999785] [4.3505443e-06]\n",
      "12600 3.0695446e-12 [0.99999785] [4.3505443e-06]\n",
      "12620 3.0695446e-12 [0.99999785] [4.3505443e-06]\n",
      "12640 3.0695446e-12 [0.99999785] [4.3505443e-06]\n",
      "12660 3.0695446e-12 [0.99999785] [4.3505443e-06]\n",
      "12680 3.0695446e-12 [0.99999785] [4.3505443e-06]\n",
      "12700 3.0695446e-12 [0.99999785] [4.3505443e-06]\n",
      "12720 3.0695446e-12 [0.99999785] [4.3505443e-06]\n",
      "12740 3.0695446e-12 [0.99999785] [4.3505443e-06]\n",
      "12760 3.0695446e-12 [0.99999785] [4.3505443e-06]\n",
      "12780 3.0695446e-12 [0.99999785] [4.3505443e-06]\n",
      "12800 3.0695446e-12 [0.99999785] [4.3505443e-06]\n",
      "12820 3.0695446e-12 [0.99999785] [4.3505443e-06]\n",
      "12840 3.0695446e-12 [0.99999785] [4.3505443e-06]\n",
      "12860 3.0695446e-12 [0.99999785] [4.3505443e-06]\n",
      "12880 3.0695446e-12 [0.99999785] [4.3505443e-06]\n",
      "12900 3.0695446e-12 [0.99999785] [4.3505443e-06]\n",
      "12920 3.0695446e-12 [0.99999785] [4.3505443e-06]\n",
      "12940 3.0695446e-12 [0.99999785] [4.3505443e-06]\n",
      "12960 3.0695446e-12 [0.99999785] [4.3505443e-06]\n",
      "12980 3.0695446e-12 [0.99999785] [4.3505443e-06]\n",
      "13000 3.0695446e-12 [0.99999785] [4.3505443e-06]\n",
      "13020 3.0695446e-12 [0.99999785] [4.3505443e-06]\n",
      "13040 3.0695446e-12 [0.99999785] [4.3505443e-06]\n",
      "13060 3.0695446e-12 [0.99999785] [4.3505443e-06]\n",
      "13080 3.0695446e-12 [0.99999785] [4.3505443e-06]\n",
      "13100 3.0695446e-12 [0.99999785] [4.3505443e-06]\n",
      "13120 3.0695446e-12 [0.99999785] [4.3505443e-06]\n",
      "13140 3.0695446e-12 [0.99999785] [4.3505443e-06]\n",
      "13160 3.0695446e-12 [0.99999785] [4.3505443e-06]\n",
      "13180 3.0695446e-12 [0.99999785] [4.3505443e-06]\n",
      "13200 3.0695446e-12 [0.99999785] [4.3505443e-06]\n",
      "13220 3.0695446e-12 [0.99999785] [4.3505443e-06]\n",
      "13240 3.0695446e-12 [0.99999785] [4.3505443e-06]\n",
      "13260 3.0695446e-12 [0.99999785] [4.3505443e-06]\n",
      "13280 3.0695446e-12 [0.99999785] [4.3505443e-06]\n",
      "13300 3.0695446e-12 [0.99999785] [4.3505443e-06]\n",
      "13320 3.0695446e-12 [0.99999785] [4.3505443e-06]\n",
      "13340 3.0695446e-12 [0.99999785] [4.3505443e-06]\n",
      "13360 3.0695446e-12 [0.99999785] [4.3505443e-06]\n",
      "13380 3.0695446e-12 [0.99999785] [4.3505443e-06]\n",
      "13400 3.0695446e-12 [0.99999785] [4.3505443e-06]\n",
      "13420 3.0695446e-12 [0.99999785] [4.3505443e-06]\n",
      "13440 3.0695446e-12 [0.99999785] [4.3505443e-06]\n",
      "13460 3.0695446e-12 [0.99999785] [4.3505443e-06]\n",
      "13480 3.0695446e-12 [0.99999785] [4.3505443e-06]\n",
      "13500 3.0695446e-12 [0.99999785] [4.3505443e-06]\n",
      "13520 3.0695446e-12 [0.99999785] [4.3505443e-06]\n",
      "13540 3.0695446e-12 [0.99999785] [4.3505443e-06]\n",
      "13560 3.0695446e-12 [0.99999785] [4.3505443e-06]\n",
      "13580 3.0695446e-12 [0.99999785] [4.3505443e-06]\n",
      "13600 3.0695446e-12 [0.99999785] [4.3505443e-06]\n",
      "13620 3.0695446e-12 [0.99999785] [4.3505443e-06]\n",
      "13640 3.0695446e-12 [0.99999785] [4.3505443e-06]\n",
      "13660 3.0695446e-12 [0.99999785] [4.3505443e-06]\n",
      "13680 3.0695446e-12 [0.99999785] [4.3505443e-06]\n",
      "13700 3.0695446e-12 [0.99999785] [4.3505443e-06]\n",
      "13720 3.0695446e-12 [0.99999785] [4.3505443e-06]\n",
      "13740 3.0695446e-12 [0.99999785] [4.3505443e-06]\n",
      "13760 3.0695446e-12 [0.99999785] [4.3505443e-06]\n",
      "13780 3.0695446e-12 [0.99999785] [4.3505443e-06]\n",
      "13800 3.0695446e-12 [0.99999785] [4.3505443e-06]\n",
      "13820 3.0695446e-12 [0.99999785] [4.3505443e-06]\n",
      "13840 3.0695446e-12 [0.99999785] [4.3505443e-06]\n",
      "13860 3.0695446e-12 [0.99999785] [4.3505443e-06]\n",
      "13880 3.0695446e-12 [0.99999785] [4.3505443e-06]\n",
      "13900 3.0695446e-12 [0.99999785] [4.3505443e-06]\n",
      "13920 3.0695446e-12 [0.99999785] [4.3505443e-06]\n",
      "13940 3.0695446e-12 [0.99999785] [4.3505443e-06]\n",
      "13960 3.0695446e-12 [0.99999785] [4.3505443e-06]\n",
      "13980 3.0695446e-12 [0.99999785] [4.3505443e-06]\n",
      "14000 3.0695446e-12 [0.99999785] [4.3505443e-06]\n",
      "14020 3.0695446e-12 [0.99999785] [4.3505443e-06]\n",
      "14040 3.0695446e-12 [0.99999785] [4.3505443e-06]\n",
      "14060 3.0695446e-12 [0.99999785] [4.3505443e-06]\n",
      "14080 3.0695446e-12 [0.99999785] [4.3505443e-06]\n",
      "14100 3.0695446e-12 [0.99999785] [4.3505443e-06]\n",
      "14120 3.0695446e-12 [0.99999785] [4.3505443e-06]\n",
      "14140 3.0695446e-12 [0.99999785] [4.3505443e-06]\n",
      "14160 3.0695446e-12 [0.99999785] [4.3505443e-06]\n",
      "14180 3.0695446e-12 [0.99999785] [4.3505443e-06]\n",
      "14200 3.0695446e-12 [0.99999785] [4.3505443e-06]\n",
      "14220 3.0695446e-12 [0.99999785] [4.3505443e-06]\n",
      "14240 3.0695446e-12 [0.99999785] [4.3505443e-06]\n",
      "14260 3.0695446e-12 [0.99999785] [4.3505443e-06]\n",
      "14280 3.0695446e-12 [0.99999785] [4.3505443e-06]\n",
      "14300 3.0695446e-12 [0.99999785] [4.3505443e-06]\n",
      "14320 3.0695446e-12 [0.99999785] [4.3505443e-06]\n",
      "14340 3.0695446e-12 [0.99999785] [4.3505443e-06]\n",
      "14360 3.0695446e-12 [0.99999785] [4.3505443e-06]\n",
      "14380 3.0695446e-12 [0.99999785] [4.3505443e-06]\n"
     ]
    },
    {
     "name": "stdout",
     "output_type": "stream",
     "text": [
      "14400 3.0695446e-12 [0.99999785] [4.3505443e-06]\n",
      "14420 3.0695446e-12 [0.99999785] [4.3505443e-06]\n",
      "14440 3.0695446e-12 [0.99999785] [4.3505443e-06]\n",
      "14460 3.0695446e-12 [0.99999785] [4.3505443e-06]\n",
      "14480 3.0695446e-12 [0.99999785] [4.3505443e-06]\n",
      "14500 3.0695446e-12 [0.99999785] [4.3505443e-06]\n",
      "14520 3.0695446e-12 [0.99999785] [4.3505443e-06]\n",
      "14540 3.0695446e-12 [0.99999785] [4.3505443e-06]\n",
      "14560 3.0695446e-12 [0.99999785] [4.3505443e-06]\n",
      "14580 3.0695446e-12 [0.99999785] [4.3505443e-06]\n",
      "14600 3.0695446e-12 [0.99999785] [4.3505443e-06]\n",
      "14620 3.0695446e-12 [0.99999785] [4.3505443e-06]\n",
      "14640 3.0695446e-12 [0.99999785] [4.3505443e-06]\n",
      "14660 3.0695446e-12 [0.99999785] [4.3505443e-06]\n",
      "14680 3.0695446e-12 [0.99999785] [4.3505443e-06]\n",
      "14700 3.0695446e-12 [0.99999785] [4.3505443e-06]\n",
      "14720 3.0695446e-12 [0.99999785] [4.3505443e-06]\n",
      "14740 3.0695446e-12 [0.99999785] [4.3505443e-06]\n",
      "14760 3.0695446e-12 [0.99999785] [4.3505443e-06]\n",
      "14780 3.0695446e-12 [0.99999785] [4.3505443e-06]\n",
      "14800 3.0695446e-12 [0.99999785] [4.3505443e-06]\n",
      "14820 3.0695446e-12 [0.99999785] [4.3505443e-06]\n",
      "14840 3.0695446e-12 [0.99999785] [4.3505443e-06]\n",
      "14860 3.0695446e-12 [0.99999785] [4.3505443e-06]\n",
      "14880 3.0695446e-12 [0.99999785] [4.3505443e-06]\n",
      "14900 3.0695446e-12 [0.99999785] [4.3505443e-06]\n",
      "14920 3.0695446e-12 [0.99999785] [4.3505443e-06]\n",
      "14940 3.0695446e-12 [0.99999785] [4.3505443e-06]\n",
      "14960 3.0695446e-12 [0.99999785] [4.3505443e-06]\n",
      "14980 3.0695446e-12 [0.99999785] [4.3505443e-06]\n",
      "15000 3.0695446e-12 [0.99999785] [4.3505443e-06]\n",
      "15020 3.0695446e-12 [0.99999785] [4.3505443e-06]\n",
      "15040 3.0695446e-12 [0.99999785] [4.3505443e-06]\n",
      "15060 3.0695446e-12 [0.99999785] [4.3505443e-06]\n",
      "15080 3.0695446e-12 [0.99999785] [4.3505443e-06]\n",
      "15100 3.0695446e-12 [0.99999785] [4.3505443e-06]\n",
      "15120 3.0695446e-12 [0.99999785] [4.3505443e-06]\n",
      "15140 3.0695446e-12 [0.99999785] [4.3505443e-06]\n",
      "15160 3.0695446e-12 [0.99999785] [4.3505443e-06]\n",
      "15180 3.0695446e-12 [0.99999785] [4.3505443e-06]\n",
      "15200 3.0695446e-12 [0.99999785] [4.3505443e-06]\n",
      "15220 3.0695446e-12 [0.99999785] [4.3505443e-06]\n",
      "15240 3.0695446e-12 [0.99999785] [4.3505443e-06]\n",
      "15260 3.0695446e-12 [0.99999785] [4.3505443e-06]\n",
      "15280 3.0695446e-12 [0.99999785] [4.3505443e-06]\n",
      "15300 3.0695446e-12 [0.99999785] [4.3505443e-06]\n",
      "15320 3.0695446e-12 [0.99999785] [4.3505443e-06]\n",
      "15340 3.0695446e-12 [0.99999785] [4.3505443e-06]\n",
      "15360 3.0695446e-12 [0.99999785] [4.3505443e-06]\n",
      "15380 3.0695446e-12 [0.99999785] [4.3505443e-06]\n",
      "15400 3.0695446e-12 [0.99999785] [4.3505443e-06]\n",
      "15420 3.0695446e-12 [0.99999785] [4.3505443e-06]\n",
      "15440 3.0695446e-12 [0.99999785] [4.3505443e-06]\n",
      "15460 3.0695446e-12 [0.99999785] [4.3505443e-06]\n",
      "15480 3.0695446e-12 [0.99999785] [4.3505443e-06]\n",
      "15500 3.0695446e-12 [0.99999785] [4.3505443e-06]\n",
      "15520 3.0695446e-12 [0.99999785] [4.3505443e-06]\n",
      "15540 3.0695446e-12 [0.99999785] [4.3505443e-06]\n",
      "15560 3.0695446e-12 [0.99999785] [4.3505443e-06]\n",
      "15580 3.0695446e-12 [0.99999785] [4.3505443e-06]\n",
      "15600 3.0695446e-12 [0.99999785] [4.3505443e-06]\n",
      "15620 3.0695446e-12 [0.99999785] [4.3505443e-06]\n",
      "15640 3.0695446e-12 [0.99999785] [4.3505443e-06]\n",
      "15660 3.0695446e-12 [0.99999785] [4.3505443e-06]\n",
      "15680 3.0695446e-12 [0.99999785] [4.3505443e-06]\n",
      "15700 3.0695446e-12 [0.99999785] [4.3505443e-06]\n",
      "15720 3.0695446e-12 [0.99999785] [4.3505443e-06]\n",
      "15740 3.0695446e-12 [0.99999785] [4.3505443e-06]\n",
      "15760 3.0695446e-12 [0.99999785] [4.3505443e-06]\n",
      "15780 3.0695446e-12 [0.99999785] [4.3505443e-06]\n",
      "15800 3.0695446e-12 [0.99999785] [4.3505443e-06]\n",
      "15820 3.0695446e-12 [0.99999785] [4.3505443e-06]\n",
      "15840 3.0695446e-12 [0.99999785] [4.3505443e-06]\n",
      "15860 3.0695446e-12 [0.99999785] [4.3505443e-06]\n",
      "15880 3.0695446e-12 [0.99999785] [4.3505443e-06]\n",
      "15900 3.0695446e-12 [0.99999785] [4.3505443e-06]\n",
      "15920 3.0695446e-12 [0.99999785] [4.3505443e-06]\n",
      "15940 3.0695446e-12 [0.99999785] [4.3505443e-06]\n",
      "15960 3.0695446e-12 [0.99999785] [4.3505443e-06]\n",
      "15980 3.0695446e-12 [0.99999785] [4.3505443e-06]\n",
      "16000 3.0695446e-12 [0.99999785] [4.3505443e-06]\n",
      "16020 3.0695446e-12 [0.99999785] [4.3505443e-06]\n",
      "16040 3.0695446e-12 [0.99999785] [4.3505443e-06]\n",
      "16060 3.0695446e-12 [0.99999785] [4.3505443e-06]\n",
      "16080 3.0695446e-12 [0.99999785] [4.3505443e-06]\n",
      "16100 3.0695446e-12 [0.99999785] [4.3505443e-06]\n",
      "16120 3.0695446e-12 [0.99999785] [4.3505443e-06]\n",
      "16140 3.0695446e-12 [0.99999785] [4.3505443e-06]\n",
      "16160 3.0695446e-12 [0.99999785] [4.3505443e-06]\n",
      "16180 3.0695446e-12 [0.99999785] [4.3505443e-06]\n",
      "16200 3.0695446e-12 [0.99999785] [4.3505443e-06]\n",
      "16220 3.0695446e-12 [0.99999785] [4.3505443e-06]\n",
      "16240 3.0695446e-12 [0.99999785] [4.3505443e-06]\n",
      "16260 3.0695446e-12 [0.99999785] [4.3505443e-06]\n",
      "16280 3.0695446e-12 [0.99999785] [4.3505443e-06]\n",
      "16300 3.0695446e-12 [0.99999785] [4.3505443e-06]\n",
      "16320 3.0695446e-12 [0.99999785] [4.3505443e-06]\n",
      "16340 3.0695446e-12 [0.99999785] [4.3505443e-06]\n",
      "16360 3.0695446e-12 [0.99999785] [4.3505443e-06]\n",
      "16380 3.0695446e-12 [0.99999785] [4.3505443e-06]\n",
      "16400 3.0695446e-12 [0.99999785] [4.3505443e-06]\n",
      "16420 3.0695446e-12 [0.99999785] [4.3505443e-06]\n",
      "16440 3.0695446e-12 [0.99999785] [4.3505443e-06]\n",
      "16460 3.0695446e-12 [0.99999785] [4.3505443e-06]\n",
      "16480 3.0695446e-12 [0.99999785] [4.3505443e-06]\n",
      "16500 3.0695446e-12 [0.99999785] [4.3505443e-06]\n",
      "16520 3.0695446e-12 [0.99999785] [4.3505443e-06]\n",
      "16540 3.0695446e-12 [0.99999785] [4.3505443e-06]\n",
      "16560 3.0695446e-12 [0.99999785] [4.3505443e-06]\n",
      "16580 3.0695446e-12 [0.99999785] [4.3505443e-06]\n",
      "16600 3.0695446e-12 [0.99999785] [4.3505443e-06]\n",
      "16620 3.0695446e-12 [0.99999785] [4.3505443e-06]\n",
      "16640 3.0695446e-12 [0.99999785] [4.3505443e-06]\n",
      "16660 3.0695446e-12 [0.99999785] [4.3505443e-06]\n",
      "16680 3.0695446e-12 [0.99999785] [4.3505443e-06]\n",
      "16700 3.0695446e-12 [0.99999785] [4.3505443e-06]\n",
      "16720 3.0695446e-12 [0.99999785] [4.3505443e-06]\n",
      "16740 3.0695446e-12 [0.99999785] [4.3505443e-06]\n",
      "16760 3.0695446e-12 [0.99999785] [4.3505443e-06]\n",
      "16780 3.0695446e-12 [0.99999785] [4.3505443e-06]\n",
      "16800 3.0695446e-12 [0.99999785] [4.3505443e-06]\n",
      "16820 3.0695446e-12 [0.99999785] [4.3505443e-06]\n",
      "16840 3.0695446e-12 [0.99999785] [4.3505443e-06]\n",
      "16860 3.0695446e-12 [0.99999785] [4.3505443e-06]\n",
      "16880 3.0695446e-12 [0.99999785] [4.3505443e-06]\n",
      "16900 3.0695446e-12 [0.99999785] [4.3505443e-06]\n",
      "16920 3.0695446e-12 [0.99999785] [4.3505443e-06]\n",
      "16940 3.0695446e-12 [0.99999785] [4.3505443e-06]\n",
      "16960 3.0695446e-12 [0.99999785] [4.3505443e-06]\n",
      "16980 3.0695446e-12 [0.99999785] [4.3505443e-06]\n",
      "17000 3.0695446e-12 [0.99999785] [4.3505443e-06]\n",
      "17020 3.0695446e-12 [0.99999785] [4.3505443e-06]\n",
      "17040 3.0695446e-12 [0.99999785] [4.3505443e-06]\n",
      "17060 3.0695446e-12 [0.99999785] [4.3505443e-06]\n",
      "17080 3.0695446e-12 [0.99999785] [4.3505443e-06]\n",
      "17100 3.0695446e-12 [0.99999785] [4.3505443e-06]\n",
      "17120 3.0695446e-12 [0.99999785] [4.3505443e-06]\n",
      "17140 3.0695446e-12 [0.99999785] [4.3505443e-06]\n",
      "17160 3.0695446e-12 [0.99999785] [4.3505443e-06]\n",
      "17180 3.0695446e-12 [0.99999785] [4.3505443e-06]\n",
      "17200 3.0695446e-12 [0.99999785] [4.3505443e-06]\n",
      "17220 3.0695446e-12 [0.99999785] [4.3505443e-06]\n",
      "17240 3.0695446e-12 [0.99999785] [4.3505443e-06]\n",
      "17260 3.0695446e-12 [0.99999785] [4.3505443e-06]\n",
      "17280 3.0695446e-12 [0.99999785] [4.3505443e-06]\n",
      "17300 3.0695446e-12 [0.99999785] [4.3505443e-06]\n",
      "17320 3.0695446e-12 [0.99999785] [4.3505443e-06]\n",
      "17340 3.0695446e-12 [0.99999785] [4.3505443e-06]\n",
      "17360 3.0695446e-12 [0.99999785] [4.3505443e-06]\n",
      "17380 3.0695446e-12 [0.99999785] [4.3505443e-06]\n",
      "17400 3.0695446e-12 [0.99999785] [4.3505443e-06]\n",
      "17420 3.0695446e-12 [0.99999785] [4.3505443e-06]\n",
      "17440 3.0695446e-12 [0.99999785] [4.3505443e-06]\n",
      "17460 3.0695446e-12 [0.99999785] [4.3505443e-06]\n",
      "17480 3.0695446e-12 [0.99999785] [4.3505443e-06]\n",
      "17500 3.0695446e-12 [0.99999785] [4.3505443e-06]\n",
      "17520 3.0695446e-12 [0.99999785] [4.3505443e-06]\n",
      "17540 3.0695446e-12 [0.99999785] [4.3505443e-06]\n",
      "17560 3.0695446e-12 [0.99999785] [4.3505443e-06]\n",
      "17580 3.0695446e-12 [0.99999785] [4.3505443e-06]\n",
      "17600 3.0695446e-12 [0.99999785] [4.3505443e-06]\n",
      "17620 3.0695446e-12 [0.99999785] [4.3505443e-06]\n",
      "17640 3.0695446e-12 [0.99999785] [4.3505443e-06]\n",
      "17660 3.0695446e-12 [0.99999785] [4.3505443e-06]\n",
      "17680 3.0695446e-12 [0.99999785] [4.3505443e-06]\n",
      "17700 3.0695446e-12 [0.99999785] [4.3505443e-06]\n",
      "17720 3.0695446e-12 [0.99999785] [4.3505443e-06]\n",
      "17740 3.0695446e-12 [0.99999785] [4.3505443e-06]\n",
      "17760 3.0695446e-12 [0.99999785] [4.3505443e-06]\n",
      "17780 3.0695446e-12 [0.99999785] [4.3505443e-06]\n",
      "17800 3.0695446e-12 [0.99999785] [4.3505443e-06]\n",
      "17820 3.0695446e-12 [0.99999785] [4.3505443e-06]\n",
      "17840 3.0695446e-12 [0.99999785] [4.3505443e-06]\n",
      "17860 3.0695446e-12 [0.99999785] [4.3505443e-06]\n",
      "17880 3.0695446e-12 [0.99999785] [4.3505443e-06]\n"
     ]
    },
    {
     "name": "stdout",
     "output_type": "stream",
     "text": [
      "17900 3.0695446e-12 [0.99999785] [4.3505443e-06]\n",
      "17920 3.0695446e-12 [0.99999785] [4.3505443e-06]\n",
      "17940 3.0695446e-12 [0.99999785] [4.3505443e-06]\n",
      "17960 3.0695446e-12 [0.99999785] [4.3505443e-06]\n",
      "17980 3.0695446e-12 [0.99999785] [4.3505443e-06]\n",
      "18000 3.0695446e-12 [0.99999785] [4.3505443e-06]\n",
      "18020 3.0695446e-12 [0.99999785] [4.3505443e-06]\n",
      "18040 3.0695446e-12 [0.99999785] [4.3505443e-06]\n",
      "18060 3.0695446e-12 [0.99999785] [4.3505443e-06]\n",
      "18080 3.0695446e-12 [0.99999785] [4.3505443e-06]\n",
      "18100 3.0695446e-12 [0.99999785] [4.3505443e-06]\n",
      "18120 3.0695446e-12 [0.99999785] [4.3505443e-06]\n",
      "18140 3.0695446e-12 [0.99999785] [4.3505443e-06]\n",
      "18160 3.0695446e-12 [0.99999785] [4.3505443e-06]\n",
      "18180 3.0695446e-12 [0.99999785] [4.3505443e-06]\n",
      "18200 3.0695446e-12 [0.99999785] [4.3505443e-06]\n",
      "18220 3.0695446e-12 [0.99999785] [4.3505443e-06]\n",
      "18240 3.0695446e-12 [0.99999785] [4.3505443e-06]\n",
      "18260 3.0695446e-12 [0.99999785] [4.3505443e-06]\n",
      "18280 3.0695446e-12 [0.99999785] [4.3505443e-06]\n",
      "18300 3.0695446e-12 [0.99999785] [4.3505443e-06]\n",
      "18320 3.0695446e-12 [0.99999785] [4.3505443e-06]\n",
      "18340 3.0695446e-12 [0.99999785] [4.3505443e-06]\n",
      "18360 3.0695446e-12 [0.99999785] [4.3505443e-06]\n",
      "18380 3.0695446e-12 [0.99999785] [4.3505443e-06]\n",
      "18400 3.0695446e-12 [0.99999785] [4.3505443e-06]\n",
      "18420 3.0695446e-12 [0.99999785] [4.3505443e-06]\n",
      "18440 3.0695446e-12 [0.99999785] [4.3505443e-06]\n",
      "18460 3.0695446e-12 [0.99999785] [4.3505443e-06]\n",
      "18480 3.0695446e-12 [0.99999785] [4.3505443e-06]\n",
      "18500 3.0695446e-12 [0.99999785] [4.3505443e-06]\n",
      "18520 3.0695446e-12 [0.99999785] [4.3505443e-06]\n",
      "18540 3.0695446e-12 [0.99999785] [4.3505443e-06]\n",
      "18560 3.0695446e-12 [0.99999785] [4.3505443e-06]\n",
      "18580 3.0695446e-12 [0.99999785] [4.3505443e-06]\n",
      "18600 3.0695446e-12 [0.99999785] [4.3505443e-06]\n",
      "18620 3.0695446e-12 [0.99999785] [4.3505443e-06]\n",
      "18640 3.0695446e-12 [0.99999785] [4.3505443e-06]\n",
      "18660 3.0695446e-12 [0.99999785] [4.3505443e-06]\n",
      "18680 3.0695446e-12 [0.99999785] [4.3505443e-06]\n",
      "18700 3.0695446e-12 [0.99999785] [4.3505443e-06]\n",
      "18720 3.0695446e-12 [0.99999785] [4.3505443e-06]\n",
      "18740 3.0695446e-12 [0.99999785] [4.3505443e-06]\n",
      "18760 3.0695446e-12 [0.99999785] [4.3505443e-06]\n",
      "18780 3.0695446e-12 [0.99999785] [4.3505443e-06]\n",
      "18800 3.0695446e-12 [0.99999785] [4.3505443e-06]\n",
      "18820 3.0695446e-12 [0.99999785] [4.3505443e-06]\n",
      "18840 3.0695446e-12 [0.99999785] [4.3505443e-06]\n",
      "18860 3.0695446e-12 [0.99999785] [4.3505443e-06]\n",
      "18880 3.0695446e-12 [0.99999785] [4.3505443e-06]\n",
      "18900 3.0695446e-12 [0.99999785] [4.3505443e-06]\n",
      "18920 3.0695446e-12 [0.99999785] [4.3505443e-06]\n",
      "18940 3.0695446e-12 [0.99999785] [4.3505443e-06]\n",
      "18960 3.0695446e-12 [0.99999785] [4.3505443e-06]\n",
      "18980 3.0695446e-12 [0.99999785] [4.3505443e-06]\n",
      "19000 3.0695446e-12 [0.99999785] [4.3505443e-06]\n",
      "19020 3.0695446e-12 [0.99999785] [4.3505443e-06]\n",
      "19040 3.0695446e-12 [0.99999785] [4.3505443e-06]\n",
      "19060 3.0695446e-12 [0.99999785] [4.3505443e-06]\n",
      "19080 3.0695446e-12 [0.99999785] [4.3505443e-06]\n",
      "19100 3.0695446e-12 [0.99999785] [4.3505443e-06]\n",
      "19120 3.0695446e-12 [0.99999785] [4.3505443e-06]\n",
      "19140 3.0695446e-12 [0.99999785] [4.3505443e-06]\n",
      "19160 3.0695446e-12 [0.99999785] [4.3505443e-06]\n",
      "19180 3.0695446e-12 [0.99999785] [4.3505443e-06]\n",
      "19200 3.0695446e-12 [0.99999785] [4.3505443e-06]\n",
      "19220 3.0695446e-12 [0.99999785] [4.3505443e-06]\n",
      "19240 3.0695446e-12 [0.99999785] [4.3505443e-06]\n",
      "19260 3.0695446e-12 [0.99999785] [4.3505443e-06]\n",
      "19280 3.0695446e-12 [0.99999785] [4.3505443e-06]\n",
      "19300 3.0695446e-12 [0.99999785] [4.3505443e-06]\n",
      "19320 3.0695446e-12 [0.99999785] [4.3505443e-06]\n",
      "19340 3.0695446e-12 [0.99999785] [4.3505443e-06]\n",
      "19360 3.0695446e-12 [0.99999785] [4.3505443e-06]\n",
      "19380 3.0695446e-12 [0.99999785] [4.3505443e-06]\n",
      "19400 3.0695446e-12 [0.99999785] [4.3505443e-06]\n",
      "19420 3.0695446e-12 [0.99999785] [4.3505443e-06]\n",
      "19440 3.0695446e-12 [0.99999785] [4.3505443e-06]\n",
      "19460 3.0695446e-12 [0.99999785] [4.3505443e-06]\n",
      "19480 3.0695446e-12 [0.99999785] [4.3505443e-06]\n",
      "19500 3.0695446e-12 [0.99999785] [4.3505443e-06]\n",
      "19520 3.0695446e-12 [0.99999785] [4.3505443e-06]\n",
      "19540 3.0695446e-12 [0.99999785] [4.3505443e-06]\n",
      "19560 3.0695446e-12 [0.99999785] [4.3505443e-06]\n",
      "19580 3.0695446e-12 [0.99999785] [4.3505443e-06]\n",
      "19600 3.0695446e-12 [0.99999785] [4.3505443e-06]\n",
      "19620 3.0695446e-12 [0.99999785] [4.3505443e-06]\n",
      "19640 3.0695446e-12 [0.99999785] [4.3505443e-06]\n",
      "19660 3.0695446e-12 [0.99999785] [4.3505443e-06]\n",
      "19680 3.0695446e-12 [0.99999785] [4.3505443e-06]\n",
      "19700 3.0695446e-12 [0.99999785] [4.3505443e-06]\n",
      "19720 3.0695446e-12 [0.99999785] [4.3505443e-06]\n",
      "19740 3.0695446e-12 [0.99999785] [4.3505443e-06]\n",
      "19760 3.0695446e-12 [0.99999785] [4.3505443e-06]\n",
      "19780 3.0695446e-12 [0.99999785] [4.3505443e-06]\n",
      "19800 3.0695446e-12 [0.99999785] [4.3505443e-06]\n",
      "19820 3.0695446e-12 [0.99999785] [4.3505443e-06]\n",
      "19840 3.0695446e-12 [0.99999785] [4.3505443e-06]\n",
      "19860 3.0695446e-12 [0.99999785] [4.3505443e-06]\n",
      "19880 3.0695446e-12 [0.99999785] [4.3505443e-06]\n",
      "19900 3.0695446e-12 [0.99999785] [4.3505443e-06]\n",
      "19920 3.0695446e-12 [0.99999785] [4.3505443e-06]\n",
      "19940 3.0695446e-12 [0.99999785] [4.3505443e-06]\n",
      "19960 3.0695446e-12 [0.99999785] [4.3505443e-06]\n",
      "19980 3.0695446e-12 [0.99999785] [4.3505443e-06]\n",
      "20000 3.0695446e-12 [0.99999785] [4.3505443e-06]\n"
     ]
    }
   ],
   "source": [
    "with tf.Session() as sess:\n",
    "    # Initializes global variables in the graph.\n",
    "    sess.run(tf.global_variables_initializer())\n",
    "\n",
    "    # Fit the line\n",
    "    for step in range(20001):\n",
    "        _, cost_val, W_val, b_val = sess.run([train, cost, W, b])\n",
    "\n",
    "        if step % 20 == 0:\n",
    "            print(step, cost_val, W_val, b_val)"
   ]
  },
  {
   "cell_type": "code",
   "execution_count": 1,
   "metadata": {},
   "outputs": [
    {
     "ename": "NameError",
     "evalue": "name 'tf' is not defined",
     "output_type": "error",
     "traceback": [
      "\u001b[0;31m---------------------------------------------------------------------------\u001b[0m",
      "\u001b[0;31mNameError\u001b[0m                                 Traceback (most recent call last)",
      "\u001b[0;32m<ipython-input-1-31d8ef1e7e0a>\u001b[0m in \u001b[0;36m<module>\u001b[0;34m()\u001b[0m\n\u001b[0;32m----> 1\u001b[0;31m \u001b[0ma\u001b[0m\u001b[0;34m=\u001b[0m\u001b[0mtf\u001b[0m\u001b[0;34m.\u001b[0m\u001b[0mVariable\u001b[0m\u001b[0;34m(\u001b[0m\u001b[0;34m[\u001b[0m\u001b[0;36m0\u001b[0m\u001b[0;34m]\u001b[0m\u001b[0;34m)\u001b[0m\u001b[0;34m\u001b[0m\u001b[0m\n\u001b[0m",
      "\u001b[0;31mNameError\u001b[0m: name 'tf' is not defined"
     ]
    }
   ],
   "source": [
    "a=tf.Variable([0])"
   ]
  },
  {
   "cell_type": "code",
   "execution_count": 2,
   "metadata": {},
   "outputs": [
    {
     "name": "stderr",
     "output_type": "stream",
     "text": [
      "/Users/a1/.pyenv/versions/anaconda3-5.2.0/lib/python3.6/site-packages/h5py/__init__.py:36: FutureWarning: Conversion of the second argument of issubdtype from `float` to `np.floating` is deprecated. In future, it will be treated as `np.float64 == np.dtype(float).type`.\n",
      "  from ._conv import register_converters as _register_converters\n"
     ]
    }
   ],
   "source": [
    "import tensorflow as tf\n"
   ]
  },
  {
   "cell_type": "code",
   "execution_count": 3,
   "metadata": {},
   "outputs": [
    {
     "name": "stdout",
     "output_type": "stream",
     "text": [
      "WARNING:tensorflow:From /Users/a1/.pyenv/versions/anaconda3-5.2.0/lib/python3.6/site-packages/tensorflow/python/framework/op_def_library.py:263: colocate_with (from tensorflow.python.framework.ops) is deprecated and will be removed in a future version.\n",
      "Instructions for updating:\n",
      "Colocations handled automatically by placer.\n"
     ]
    }
   ],
   "source": [
    "a = tf.Variable([0])"
   ]
  },
  {
   "cell_type": "code",
   "execution_count": 4,
   "metadata": {},
   "outputs": [
    {
     "data": {
      "text/plain": [
       "<tf.Variable 'Variable:0' shape=(1,) dtype=int32_ref>"
      ]
     },
     "execution_count": 4,
     "metadata": {},
     "output_type": "execute_result"
    }
   ],
   "source": [
    "a"
   ]
  },
  {
   "cell_type": "code",
   "execution_count": 5,
   "metadata": {},
   "outputs": [
    {
     "name": "stdout",
     "output_type": "stream",
     "text": [
      "<tf.Variable 'Variable:0' shape=(1,) dtype=int32_ref>\n"
     ]
    }
   ],
   "source": [
    "print(a)"
   ]
  },
  {
   "cell_type": "code",
   "execution_count": 6,
   "metadata": {},
   "outputs": [],
   "source": [
    "a = a.assign([4])"
   ]
  },
  {
   "cell_type": "code",
   "execution_count": 7,
   "metadata": {},
   "outputs": [
    {
     "data": {
      "text/plain": [
       "<tf.Tensor 'Assign:0' shape=(1,) dtype=int32_ref>"
      ]
     },
     "execution_count": 7,
     "metadata": {},
     "output_type": "execute_result"
    }
   ],
   "source": [
    "a"
   ]
  },
  {
   "cell_type": "code",
   "execution_count": 8,
   "metadata": {},
   "outputs": [
    {
     "name": "stdout",
     "output_type": "stream",
     "text": [
      "Tensor(\"Assign:0\", shape=(1,), dtype=int32_ref)\n"
     ]
    }
   ],
   "source": [
    "print(a)"
   ]
  },
  {
   "cell_type": "code",
   "execution_count": 9,
   "metadata": {},
   "outputs": [
    {
     "ename": "ValueError",
     "evalue": "Cannot evaluate tensor using `eval()`: No default session is registered. Use `with sess.as_default()` or pass an explicit session to `eval(session=sess)`",
     "output_type": "error",
     "traceback": [
      "\u001b[0;31m---------------------------------------------------------------------------\u001b[0m",
      "\u001b[0;31mValueError\u001b[0m                                Traceback (most recent call last)",
      "\u001b[0;32m<ipython-input-9-90f91b557aeb>\u001b[0m in \u001b[0;36m<module>\u001b[0;34m()\u001b[0m\n\u001b[0;32m----> 1\u001b[0;31m \u001b[0ma\u001b[0m\u001b[0;34m.\u001b[0m\u001b[0meval\u001b[0m\u001b[0;34m(\u001b[0m\u001b[0;34m)\u001b[0m\u001b[0;34m\u001b[0m\u001b[0m\n\u001b[0m",
      "\u001b[0;32m~/.pyenv/versions/anaconda3-5.2.0/lib/python3.6/site-packages/tensorflow/python/framework/ops.py\u001b[0m in \u001b[0;36meval\u001b[0;34m(self, feed_dict, session)\u001b[0m\n\u001b[1;32m    693\u001b[0m \u001b[0;34m\u001b[0m\u001b[0m\n\u001b[1;32m    694\u001b[0m     \"\"\"\n\u001b[0;32m--> 695\u001b[0;31m     \u001b[0;32mreturn\u001b[0m \u001b[0m_eval_using_default_session\u001b[0m\u001b[0;34m(\u001b[0m\u001b[0mself\u001b[0m\u001b[0;34m,\u001b[0m \u001b[0mfeed_dict\u001b[0m\u001b[0;34m,\u001b[0m \u001b[0mself\u001b[0m\u001b[0;34m.\u001b[0m\u001b[0mgraph\u001b[0m\u001b[0;34m,\u001b[0m \u001b[0msession\u001b[0m\u001b[0;34m)\u001b[0m\u001b[0;34m\u001b[0m\u001b[0m\n\u001b[0m\u001b[1;32m    696\u001b[0m \u001b[0;34m\u001b[0m\u001b[0m\n\u001b[1;32m    697\u001b[0m \u001b[0;34m\u001b[0m\u001b[0m\n",
      "\u001b[0;32m~/.pyenv/versions/anaconda3-5.2.0/lib/python3.6/site-packages/tensorflow/python/framework/ops.py\u001b[0m in \u001b[0;36m_eval_using_default_session\u001b[0;34m(tensors, feed_dict, graph, session)\u001b[0m\n\u001b[1;32m   5165\u001b[0m     \u001b[0msession\u001b[0m \u001b[0;34m=\u001b[0m \u001b[0mget_default_session\u001b[0m\u001b[0;34m(\u001b[0m\u001b[0;34m)\u001b[0m\u001b[0;34m\u001b[0m\u001b[0m\n\u001b[1;32m   5166\u001b[0m     \u001b[0;32mif\u001b[0m \u001b[0msession\u001b[0m \u001b[0;32mis\u001b[0m \u001b[0;32mNone\u001b[0m\u001b[0;34m:\u001b[0m\u001b[0;34m\u001b[0m\u001b[0m\n\u001b[0;32m-> 5167\u001b[0;31m       raise ValueError(\"Cannot evaluate tensor using `eval()`: No default \"\n\u001b[0m\u001b[1;32m   5168\u001b[0m                        \u001b[0;34m\"session is registered. Use `with \"\u001b[0m\u001b[0;34m\u001b[0m\u001b[0m\n\u001b[1;32m   5169\u001b[0m                        \u001b[0;34m\"sess.as_default()` or pass an explicit session to \"\u001b[0m\u001b[0;34m\u001b[0m\u001b[0m\n",
      "\u001b[0;31mValueError\u001b[0m: Cannot evaluate tensor using `eval()`: No default session is registered. Use `with sess.as_default()` or pass an explicit session to `eval(session=sess)`"
     ]
    }
   ],
   "source": [
    "a.eval()"
   ]
  },
  {
   "cell_type": "code",
   "execution_count": 10,
   "metadata": {},
   "outputs": [
    {
     "data": {
      "text/plain": [
       "<tf.Tensor 'Assign:0' shape=(1,) dtype=int32_ref>"
      ]
     },
     "execution_count": 10,
     "metadata": {},
     "output_type": "execute_result"
    }
   ],
   "source": [
    "a"
   ]
  },
  {
   "cell_type": "code",
   "execution_count": 11,
   "metadata": {},
   "outputs": [
    {
     "ename": "AttributeError",
     "evalue": "'Tensor' object has no attribute 'append'",
     "output_type": "error",
     "traceback": [
      "\u001b[0;31m---------------------------------------------------------------------------\u001b[0m",
      "\u001b[0;31mAttributeError\u001b[0m                            Traceback (most recent call last)",
      "\u001b[0;32m<ipython-input-11-80c7c94d949c>\u001b[0m in \u001b[0;36m<module>\u001b[0;34m()\u001b[0m\n\u001b[0;32m----> 1\u001b[0;31m \u001b[0ma\u001b[0m\u001b[0;34m.\u001b[0m\u001b[0mappend\u001b[0m\u001b[0;34m(\u001b[0m\u001b[0;36m5\u001b[0m\u001b[0;34m)\u001b[0m\u001b[0;34m\u001b[0m\u001b[0m\n\u001b[0m",
      "\u001b[0;31mAttributeError\u001b[0m: 'Tensor' object has no attribute 'append'"
     ]
    }
   ],
   "source": [
    "a.append(5)"
   ]
  },
  {
   "cell_type": "code",
   "execution_count": 12,
   "metadata": {},
   "outputs": [],
   "source": [
    "a = 5"
   ]
  },
  {
   "cell_type": "code",
   "execution_count": 13,
   "metadata": {},
   "outputs": [
    {
     "data": {
      "text/plain": [
       "5"
      ]
     },
     "execution_count": 13,
     "metadata": {},
     "output_type": "execute_result"
    }
   ],
   "source": [
    "a"
   ]
  },
  {
   "cell_type": "code",
   "execution_count": 14,
   "metadata": {},
   "outputs": [
    {
     "data": {
      "text/plain": [
       "int"
      ]
     },
     "execution_count": 14,
     "metadata": {},
     "output_type": "execute_result"
    }
   ],
   "source": [
    "type(a)"
   ]
  },
  {
   "cell_type": "code",
   "execution_count": 15,
   "metadata": {},
   "outputs": [],
   "source": [
    "y = tf.Variable([5])"
   ]
  },
  {
   "cell_type": "code",
   "execution_count": 16,
   "metadata": {},
   "outputs": [],
   "source": [
    "y = tf.Variable([3])"
   ]
  },
  {
   "cell_type": "code",
   "execution_count": 17,
   "metadata": {},
   "outputs": [
    {
     "data": {
      "text/plain": [
       "<tf.Variable 'Variable_2:0' shape=(1,) dtype=int32_ref>"
      ]
     },
     "execution_count": 17,
     "metadata": {},
     "output_type": "execute_result"
    }
   ],
   "source": [
    "y"
   ]
  },
  {
   "cell_type": "code",
   "execution_count": 18,
   "metadata": {},
   "outputs": [
    {
     "ename": "ValueError",
     "evalue": "Cannot evaluate tensor using `eval()`: No default session is registered. Use `with sess.as_default()` or pass an explicit session to `eval(session=sess)`",
     "output_type": "error",
     "traceback": [
      "\u001b[0;31m---------------------------------------------------------------------------\u001b[0m",
      "\u001b[0;31mValueError\u001b[0m                                Traceback (most recent call last)",
      "\u001b[0;32m<ipython-input-18-9c5af72624b7>\u001b[0m in \u001b[0;36m<module>\u001b[0;34m()\u001b[0m\n\u001b[0;32m----> 1\u001b[0;31m \u001b[0mprint\u001b[0m\u001b[0;34m(\u001b[0m\u001b[0my\u001b[0m\u001b[0;34m.\u001b[0m\u001b[0meval\u001b[0m\u001b[0;34m(\u001b[0m\u001b[0;34m)\u001b[0m\u001b[0;34m)\u001b[0m\u001b[0;34m\u001b[0m\u001b[0m\n\u001b[0m",
      "\u001b[0;32m~/.pyenv/versions/anaconda3-5.2.0/lib/python3.6/site-packages/tensorflow/python/ops/variables.py\u001b[0m in \u001b[0;36meval\u001b[0;34m(self, session)\u001b[0m\n\u001b[1;32m   1693\u001b[0m       \u001b[0mA\u001b[0m \u001b[0mnumpy\u001b[0m\u001b[0;31m \u001b[0m\u001b[0;31m`\u001b[0m\u001b[0mndarray\u001b[0m\u001b[0;31m`\u001b[0m \u001b[0;32mwith\u001b[0m \u001b[0ma\u001b[0m \u001b[0mcopy\u001b[0m \u001b[0mof\u001b[0m \u001b[0mthe\u001b[0m \u001b[0mvalue\u001b[0m \u001b[0mof\u001b[0m \u001b[0mthis\u001b[0m \u001b[0mvariable\u001b[0m\u001b[0;34m.\u001b[0m\u001b[0;34m\u001b[0m\u001b[0m\n\u001b[1;32m   1694\u001b[0m     \"\"\"\n\u001b[0;32m-> 1695\u001b[0;31m     \u001b[0;32mreturn\u001b[0m \u001b[0mself\u001b[0m\u001b[0;34m.\u001b[0m\u001b[0m_variable\u001b[0m\u001b[0;34m.\u001b[0m\u001b[0meval\u001b[0m\u001b[0;34m(\u001b[0m\u001b[0msession\u001b[0m\u001b[0;34m=\u001b[0m\u001b[0msession\u001b[0m\u001b[0;34m)\u001b[0m\u001b[0;34m\u001b[0m\u001b[0m\n\u001b[0m\u001b[1;32m   1696\u001b[0m \u001b[0;34m\u001b[0m\u001b[0m\n\u001b[1;32m   1697\u001b[0m   \u001b[0;32mdef\u001b[0m \u001b[0minitialized_value\u001b[0m\u001b[0;34m(\u001b[0m\u001b[0mself\u001b[0m\u001b[0;34m)\u001b[0m\u001b[0;34m:\u001b[0m\u001b[0;34m\u001b[0m\u001b[0m\n",
      "\u001b[0;32m~/.pyenv/versions/anaconda3-5.2.0/lib/python3.6/site-packages/tensorflow/python/framework/ops.py\u001b[0m in \u001b[0;36meval\u001b[0;34m(self, feed_dict, session)\u001b[0m\n\u001b[1;32m    693\u001b[0m \u001b[0;34m\u001b[0m\u001b[0m\n\u001b[1;32m    694\u001b[0m     \"\"\"\n\u001b[0;32m--> 695\u001b[0;31m     \u001b[0;32mreturn\u001b[0m \u001b[0m_eval_using_default_session\u001b[0m\u001b[0;34m(\u001b[0m\u001b[0mself\u001b[0m\u001b[0;34m,\u001b[0m \u001b[0mfeed_dict\u001b[0m\u001b[0;34m,\u001b[0m \u001b[0mself\u001b[0m\u001b[0;34m.\u001b[0m\u001b[0mgraph\u001b[0m\u001b[0;34m,\u001b[0m \u001b[0msession\u001b[0m\u001b[0;34m)\u001b[0m\u001b[0;34m\u001b[0m\u001b[0m\n\u001b[0m\u001b[1;32m    696\u001b[0m \u001b[0;34m\u001b[0m\u001b[0m\n\u001b[1;32m    697\u001b[0m \u001b[0;34m\u001b[0m\u001b[0m\n",
      "\u001b[0;32m~/.pyenv/versions/anaconda3-5.2.0/lib/python3.6/site-packages/tensorflow/python/framework/ops.py\u001b[0m in \u001b[0;36m_eval_using_default_session\u001b[0;34m(tensors, feed_dict, graph, session)\u001b[0m\n\u001b[1;32m   5165\u001b[0m     \u001b[0msession\u001b[0m \u001b[0;34m=\u001b[0m \u001b[0mget_default_session\u001b[0m\u001b[0;34m(\u001b[0m\u001b[0;34m)\u001b[0m\u001b[0;34m\u001b[0m\u001b[0m\n\u001b[1;32m   5166\u001b[0m     \u001b[0;32mif\u001b[0m \u001b[0msession\u001b[0m \u001b[0;32mis\u001b[0m \u001b[0;32mNone\u001b[0m\u001b[0;34m:\u001b[0m\u001b[0;34m\u001b[0m\u001b[0m\n\u001b[0;32m-> 5167\u001b[0;31m       raise ValueError(\"Cannot evaluate tensor using `eval()`: No default \"\n\u001b[0m\u001b[1;32m   5168\u001b[0m                        \u001b[0;34m\"session is registered. Use `with \"\u001b[0m\u001b[0;34m\u001b[0m\u001b[0m\n\u001b[1;32m   5169\u001b[0m                        \u001b[0;34m\"sess.as_default()` or pass an explicit session to \"\u001b[0m\u001b[0;34m\u001b[0m\u001b[0m\n",
      "\u001b[0;31mValueError\u001b[0m: Cannot evaluate tensor using `eval()`: No default session is registered. Use `with sess.as_default()` or pass an explicit session to `eval(session=sess)`"
     ]
    }
   ],
   "source": [
    "print(y.eval())"
   ]
  },
  {
   "cell_type": "code",
   "execution_count": 19,
   "metadata": {},
   "outputs": [
    {
     "ename": "AttributeError",
     "evalue": "'RefVariable' object has no attribute 'val'",
     "output_type": "error",
     "traceback": [
      "\u001b[0;31m---------------------------------------------------------------------------\u001b[0m",
      "\u001b[0;31mAttributeError\u001b[0m                            Traceback (most recent call last)",
      "\u001b[0;32m<ipython-input-19-766a20a416fd>\u001b[0m in \u001b[0;36m<module>\u001b[0;34m()\u001b[0m\n\u001b[0;32m----> 1\u001b[0;31m \u001b[0mprint\u001b[0m\u001b[0;34m(\u001b[0m\u001b[0my\u001b[0m\u001b[0;34m.\u001b[0m\u001b[0mval\u001b[0m\u001b[0;34m(\u001b[0m\u001b[0;34m)\u001b[0m\u001b[0;34m)\u001b[0m\u001b[0;34m\u001b[0m\u001b[0m\n\u001b[0m",
      "\u001b[0;31mAttributeError\u001b[0m: 'RefVariable' object has no attribute 'val'"
     ]
    }
   ],
   "source": [
    "print(y.val())"
   ]
  },
  {
   "cell_type": "code",
   "execution_count": 20,
   "metadata": {},
   "outputs": [
    {
     "name": "stdout",
     "output_type": "stream",
     "text": [
      "Tensor(\"Variable_2/read:0\", shape=(1,), dtype=int32)\n"
     ]
    }
   ],
   "source": [
    "print(y.value())"
   ]
  },
  {
   "cell_type": "code",
   "execution_count": 21,
   "metadata": {},
   "outputs": [
    {
     "ename": "AttributeError",
     "evalue": "'RefVariable' object has no attribute 'append'",
     "output_type": "error",
     "traceback": [
      "\u001b[0;31m---------------------------------------------------------------------------\u001b[0m",
      "\u001b[0;31mAttributeError\u001b[0m                            Traceback (most recent call last)",
      "\u001b[0;32m<ipython-input-21-a86b567fbf6d>\u001b[0m in \u001b[0;36m<module>\u001b[0;34m()\u001b[0m\n\u001b[0;32m----> 1\u001b[0;31m \u001b[0my\u001b[0m\u001b[0;34m.\u001b[0m\u001b[0mappend\u001b[0m\u001b[0;34m(\u001b[0m\u001b[0;34m[\u001b[0m\u001b[0;36m3\u001b[0m\u001b[0;34m]\u001b[0m\u001b[0;34m)\u001b[0m\u001b[0;34m\u001b[0m\u001b[0m\n\u001b[0m",
      "\u001b[0;31mAttributeError\u001b[0m: 'RefVariable' object has no attribute 'append'"
     ]
    }
   ],
   "source": [
    "y.append([3])"
   ]
  },
  {
   "cell_type": "code",
   "execution_count": 22,
   "metadata": {},
   "outputs": [
    {
     "ename": "AttributeError",
     "evalue": "'RefVariable' object has no attribute 'append'",
     "output_type": "error",
     "traceback": [
      "\u001b[0;31m---------------------------------------------------------------------------\u001b[0m",
      "\u001b[0;31mAttributeError\u001b[0m                            Traceback (most recent call last)",
      "\u001b[0;32m<ipython-input-22-e14fb16e8fca>\u001b[0m in \u001b[0;36m<module>\u001b[0;34m()\u001b[0m\n\u001b[0;32m----> 1\u001b[0;31m \u001b[0my\u001b[0m\u001b[0;34m.\u001b[0m\u001b[0mappend\u001b[0m\u001b[0;34m(\u001b[0m\u001b[0;36m10\u001b[0m\u001b[0;34m)\u001b[0m\u001b[0;34m\u001b[0m\u001b[0m\n\u001b[0m",
      "\u001b[0;31mAttributeError\u001b[0m: 'RefVariable' object has no attribute 'append'"
     ]
    }
   ],
   "source": [
    "y.append(10)"
   ]
  },
  {
   "cell_type": "code",
   "execution_count": 23,
   "metadata": {},
   "outputs": [
    {
     "ename": "NameError",
     "evalue": "name 'sess' is not defined",
     "output_type": "error",
     "traceback": [
      "\u001b[0;31m---------------------------------------------------------------------------\u001b[0m",
      "\u001b[0;31mNameError\u001b[0m                                 Traceback (most recent call last)",
      "\u001b[0;32m<ipython-input-23-46f4ee7a2cc7>\u001b[0m in \u001b[0;36m<module>\u001b[0;34m()\u001b[0m\n\u001b[0;32m----> 1\u001b[0;31m \u001b[0msess\u001b[0m\u001b[0;34m.\u001b[0m\u001b[0mrun\u001b[0m\u001b[0;34m(\u001b[0m\u001b[0my\u001b[0m\u001b[0;34m)\u001b[0m\u001b[0;34m\u001b[0m\u001b[0m\n\u001b[0m",
      "\u001b[0;31mNameError\u001b[0m: name 'sess' is not defined"
     ]
    }
   ],
   "source": [
    "sess.run(y)"
   ]
  },
  {
   "cell_type": "code",
   "execution_count": 24,
   "metadata": {},
   "outputs": [],
   "source": [
    "sess = tf.Session()"
   ]
  },
  {
   "cell_type": "code",
   "execution_count": 25,
   "metadata": {},
   "outputs": [
    {
     "ename": "FailedPreconditionError",
     "evalue": "Attempting to use uninitialized value Variable_2\n\t [[{{node _retval_Variable_2_0_0}}]]",
     "output_type": "error",
     "traceback": [
      "\u001b[0;31m---------------------------------------------------------------------------\u001b[0m",
      "\u001b[0;31mFailedPreconditionError\u001b[0m                   Traceback (most recent call last)",
      "\u001b[0;32m~/.pyenv/versions/anaconda3-5.2.0/lib/python3.6/site-packages/tensorflow/python/client/session.py\u001b[0m in \u001b[0;36m_do_call\u001b[0;34m(self, fn, *args)\u001b[0m\n\u001b[1;32m   1333\u001b[0m     \u001b[0;32mtry\u001b[0m\u001b[0;34m:\u001b[0m\u001b[0;34m\u001b[0m\u001b[0m\n\u001b[0;32m-> 1334\u001b[0;31m       \u001b[0;32mreturn\u001b[0m \u001b[0mfn\u001b[0m\u001b[0;34m(\u001b[0m\u001b[0;34m*\u001b[0m\u001b[0margs\u001b[0m\u001b[0;34m)\u001b[0m\u001b[0;34m\u001b[0m\u001b[0m\n\u001b[0m\u001b[1;32m   1335\u001b[0m     \u001b[0;32mexcept\u001b[0m \u001b[0merrors\u001b[0m\u001b[0;34m.\u001b[0m\u001b[0mOpError\u001b[0m \u001b[0;32mas\u001b[0m \u001b[0me\u001b[0m\u001b[0;34m:\u001b[0m\u001b[0;34m\u001b[0m\u001b[0m\n",
      "\u001b[0;32m~/.pyenv/versions/anaconda3-5.2.0/lib/python3.6/site-packages/tensorflow/python/client/session.py\u001b[0m in \u001b[0;36m_run_fn\u001b[0;34m(feed_dict, fetch_list, target_list, options, run_metadata)\u001b[0m\n\u001b[1;32m   1318\u001b[0m       return self._call_tf_sessionrun(\n\u001b[0;32m-> 1319\u001b[0;31m           options, feed_dict, fetch_list, target_list, run_metadata)\n\u001b[0m\u001b[1;32m   1320\u001b[0m \u001b[0;34m\u001b[0m\u001b[0m\n",
      "\u001b[0;32m~/.pyenv/versions/anaconda3-5.2.0/lib/python3.6/site-packages/tensorflow/python/client/session.py\u001b[0m in \u001b[0;36m_call_tf_sessionrun\u001b[0;34m(self, options, feed_dict, fetch_list, target_list, run_metadata)\u001b[0m\n\u001b[1;32m   1406\u001b[0m         \u001b[0mself\u001b[0m\u001b[0;34m.\u001b[0m\u001b[0m_session\u001b[0m\u001b[0;34m,\u001b[0m \u001b[0moptions\u001b[0m\u001b[0;34m,\u001b[0m \u001b[0mfeed_dict\u001b[0m\u001b[0;34m,\u001b[0m \u001b[0mfetch_list\u001b[0m\u001b[0;34m,\u001b[0m \u001b[0mtarget_list\u001b[0m\u001b[0;34m,\u001b[0m\u001b[0;34m\u001b[0m\u001b[0m\n\u001b[0;32m-> 1407\u001b[0;31m         run_metadata)\n\u001b[0m\u001b[1;32m   1408\u001b[0m \u001b[0;34m\u001b[0m\u001b[0m\n",
      "\u001b[0;31mFailedPreconditionError\u001b[0m: Attempting to use uninitialized value Variable_2\n\t [[{{node _retval_Variable_2_0_0}}]]",
      "\nDuring handling of the above exception, another exception occurred:\n",
      "\u001b[0;31mFailedPreconditionError\u001b[0m                   Traceback (most recent call last)",
      "\u001b[0;32m<ipython-input-25-46f4ee7a2cc7>\u001b[0m in \u001b[0;36m<module>\u001b[0;34m()\u001b[0m\n\u001b[0;32m----> 1\u001b[0;31m \u001b[0msess\u001b[0m\u001b[0;34m.\u001b[0m\u001b[0mrun\u001b[0m\u001b[0;34m(\u001b[0m\u001b[0my\u001b[0m\u001b[0;34m)\u001b[0m\u001b[0;34m\u001b[0m\u001b[0m\n\u001b[0m",
      "\u001b[0;32m~/.pyenv/versions/anaconda3-5.2.0/lib/python3.6/site-packages/tensorflow/python/client/session.py\u001b[0m in \u001b[0;36mrun\u001b[0;34m(self, fetches, feed_dict, options, run_metadata)\u001b[0m\n\u001b[1;32m    927\u001b[0m     \u001b[0;32mtry\u001b[0m\u001b[0;34m:\u001b[0m\u001b[0;34m\u001b[0m\u001b[0m\n\u001b[1;32m    928\u001b[0m       result = self._run(None, fetches, feed_dict, options_ptr,\n\u001b[0;32m--> 929\u001b[0;31m                          run_metadata_ptr)\n\u001b[0m\u001b[1;32m    930\u001b[0m       \u001b[0;32mif\u001b[0m \u001b[0mrun_metadata\u001b[0m\u001b[0;34m:\u001b[0m\u001b[0;34m\u001b[0m\u001b[0m\n\u001b[1;32m    931\u001b[0m         \u001b[0mproto_data\u001b[0m \u001b[0;34m=\u001b[0m \u001b[0mtf_session\u001b[0m\u001b[0;34m.\u001b[0m\u001b[0mTF_GetBuffer\u001b[0m\u001b[0;34m(\u001b[0m\u001b[0mrun_metadata_ptr\u001b[0m\u001b[0;34m)\u001b[0m\u001b[0;34m\u001b[0m\u001b[0m\n",
      "\u001b[0;32m~/.pyenv/versions/anaconda3-5.2.0/lib/python3.6/site-packages/tensorflow/python/client/session.py\u001b[0m in \u001b[0;36m_run\u001b[0;34m(self, handle, fetches, feed_dict, options, run_metadata)\u001b[0m\n\u001b[1;32m   1150\u001b[0m     \u001b[0;32mif\u001b[0m \u001b[0mfinal_fetches\u001b[0m \u001b[0;32mor\u001b[0m \u001b[0mfinal_targets\u001b[0m \u001b[0;32mor\u001b[0m \u001b[0;34m(\u001b[0m\u001b[0mhandle\u001b[0m \u001b[0;32mand\u001b[0m \u001b[0mfeed_dict_tensor\u001b[0m\u001b[0;34m)\u001b[0m\u001b[0;34m:\u001b[0m\u001b[0;34m\u001b[0m\u001b[0m\n\u001b[1;32m   1151\u001b[0m       results = self._do_run(handle, final_targets, final_fetches,\n\u001b[0;32m-> 1152\u001b[0;31m                              feed_dict_tensor, options, run_metadata)\n\u001b[0m\u001b[1;32m   1153\u001b[0m     \u001b[0;32melse\u001b[0m\u001b[0;34m:\u001b[0m\u001b[0;34m\u001b[0m\u001b[0m\n\u001b[1;32m   1154\u001b[0m       \u001b[0mresults\u001b[0m \u001b[0;34m=\u001b[0m \u001b[0;34m[\u001b[0m\u001b[0;34m]\u001b[0m\u001b[0;34m\u001b[0m\u001b[0m\n",
      "\u001b[0;32m~/.pyenv/versions/anaconda3-5.2.0/lib/python3.6/site-packages/tensorflow/python/client/session.py\u001b[0m in \u001b[0;36m_do_run\u001b[0;34m(self, handle, target_list, fetch_list, feed_dict, options, run_metadata)\u001b[0m\n\u001b[1;32m   1326\u001b[0m     \u001b[0;32mif\u001b[0m \u001b[0mhandle\u001b[0m \u001b[0;32mis\u001b[0m \u001b[0;32mNone\u001b[0m\u001b[0;34m:\u001b[0m\u001b[0;34m\u001b[0m\u001b[0m\n\u001b[1;32m   1327\u001b[0m       return self._do_call(_run_fn, feeds, fetches, targets, options,\n\u001b[0;32m-> 1328\u001b[0;31m                            run_metadata)\n\u001b[0m\u001b[1;32m   1329\u001b[0m     \u001b[0;32melse\u001b[0m\u001b[0;34m:\u001b[0m\u001b[0;34m\u001b[0m\u001b[0m\n\u001b[1;32m   1330\u001b[0m       \u001b[0;32mreturn\u001b[0m \u001b[0mself\u001b[0m\u001b[0;34m.\u001b[0m\u001b[0m_do_call\u001b[0m\u001b[0;34m(\u001b[0m\u001b[0m_prun_fn\u001b[0m\u001b[0;34m,\u001b[0m \u001b[0mhandle\u001b[0m\u001b[0;34m,\u001b[0m \u001b[0mfeeds\u001b[0m\u001b[0;34m,\u001b[0m \u001b[0mfetches\u001b[0m\u001b[0;34m)\u001b[0m\u001b[0;34m\u001b[0m\u001b[0m\n",
      "\u001b[0;32m~/.pyenv/versions/anaconda3-5.2.0/lib/python3.6/site-packages/tensorflow/python/client/session.py\u001b[0m in \u001b[0;36m_do_call\u001b[0;34m(self, fn, *args)\u001b[0m\n\u001b[1;32m   1346\u001b[0m           \u001b[0;32mpass\u001b[0m\u001b[0;34m\u001b[0m\u001b[0m\n\u001b[1;32m   1347\u001b[0m       \u001b[0mmessage\u001b[0m \u001b[0;34m=\u001b[0m \u001b[0merror_interpolation\u001b[0m\u001b[0;34m.\u001b[0m\u001b[0minterpolate\u001b[0m\u001b[0;34m(\u001b[0m\u001b[0mmessage\u001b[0m\u001b[0;34m,\u001b[0m \u001b[0mself\u001b[0m\u001b[0;34m.\u001b[0m\u001b[0m_graph\u001b[0m\u001b[0;34m)\u001b[0m\u001b[0;34m\u001b[0m\u001b[0m\n\u001b[0;32m-> 1348\u001b[0;31m       \u001b[0;32mraise\u001b[0m \u001b[0mtype\u001b[0m\u001b[0;34m(\u001b[0m\u001b[0me\u001b[0m\u001b[0;34m)\u001b[0m\u001b[0;34m(\u001b[0m\u001b[0mnode_def\u001b[0m\u001b[0;34m,\u001b[0m \u001b[0mop\u001b[0m\u001b[0;34m,\u001b[0m \u001b[0mmessage\u001b[0m\u001b[0;34m)\u001b[0m\u001b[0;34m\u001b[0m\u001b[0m\n\u001b[0m\u001b[1;32m   1349\u001b[0m \u001b[0;34m\u001b[0m\u001b[0m\n\u001b[1;32m   1350\u001b[0m   \u001b[0;32mdef\u001b[0m \u001b[0m_extend_graph\u001b[0m\u001b[0;34m(\u001b[0m\u001b[0mself\u001b[0m\u001b[0;34m)\u001b[0m\u001b[0;34m:\u001b[0m\u001b[0;34m\u001b[0m\u001b[0m\n",
      "\u001b[0;31mFailedPreconditionError\u001b[0m: Attempting to use uninitialized value Variable_2\n\t [[{{node _retval_Variable_2_0_0}}]]"
     ]
    }
   ],
   "source": [
    "sess.run(y)"
   ]
  },
  {
   "cell_type": "code",
   "execution_count": 26,
   "metadata": {},
   "outputs": [],
   "source": [
    "node = tf.constant(3)"
   ]
  },
  {
   "cell_type": "code",
   "execution_count": 27,
   "metadata": {},
   "outputs": [
    {
     "data": {
      "text/plain": [
       "3"
      ]
     },
     "execution_count": 27,
     "metadata": {},
     "output_type": "execute_result"
    }
   ],
   "source": [
    "sess.run(node)"
   ]
  },
  {
   "cell_type": "code",
   "execution_count": 28,
   "metadata": {},
   "outputs": [],
   "source": [
    "y = tf.Variable([0])"
   ]
  },
  {
   "cell_type": "code",
   "execution_count": 29,
   "metadata": {},
   "outputs": [
    {
     "ename": "NameError",
     "evalue": "name 'ses' is not defined",
     "output_type": "error",
     "traceback": [
      "\u001b[0;31m---------------------------------------------------------------------------\u001b[0m",
      "\u001b[0;31mNameError\u001b[0m                                 Traceback (most recent call last)",
      "\u001b[0;32m<ipython-input-29-8aa25f18ee15>\u001b[0m in \u001b[0;36m<module>\u001b[0;34m()\u001b[0m\n\u001b[0;32m----> 1\u001b[0;31m \u001b[0mses\u001b[0m\u001b[0;34m.\u001b[0m\u001b[0mrun\u001b[0m\u001b[0;34m(\u001b[0m\u001b[0my\u001b[0m\u001b[0;34m)\u001b[0m\u001b[0;34m\u001b[0m\u001b[0m\n\u001b[0m",
      "\u001b[0;31mNameError\u001b[0m: name 'ses' is not defined"
     ]
    }
   ],
   "source": [
    "ses.run(y)"
   ]
  },
  {
   "cell_type": "code",
   "execution_count": 30,
   "metadata": {},
   "outputs": [
    {
     "ename": "FailedPreconditionError",
     "evalue": "Attempting to use uninitialized value Variable_3\n\t [[{{node _retval_Variable_3_0_0}}]]",
     "output_type": "error",
     "traceback": [
      "\u001b[0;31m---------------------------------------------------------------------------\u001b[0m",
      "\u001b[0;31mFailedPreconditionError\u001b[0m                   Traceback (most recent call last)",
      "\u001b[0;32m~/.pyenv/versions/anaconda3-5.2.0/lib/python3.6/site-packages/tensorflow/python/client/session.py\u001b[0m in \u001b[0;36m_do_call\u001b[0;34m(self, fn, *args)\u001b[0m\n\u001b[1;32m   1333\u001b[0m     \u001b[0;32mtry\u001b[0m\u001b[0;34m:\u001b[0m\u001b[0;34m\u001b[0m\u001b[0m\n\u001b[0;32m-> 1334\u001b[0;31m       \u001b[0;32mreturn\u001b[0m \u001b[0mfn\u001b[0m\u001b[0;34m(\u001b[0m\u001b[0;34m*\u001b[0m\u001b[0margs\u001b[0m\u001b[0;34m)\u001b[0m\u001b[0;34m\u001b[0m\u001b[0m\n\u001b[0m\u001b[1;32m   1335\u001b[0m     \u001b[0;32mexcept\u001b[0m \u001b[0merrors\u001b[0m\u001b[0;34m.\u001b[0m\u001b[0mOpError\u001b[0m \u001b[0;32mas\u001b[0m \u001b[0me\u001b[0m\u001b[0;34m:\u001b[0m\u001b[0;34m\u001b[0m\u001b[0m\n",
      "\u001b[0;32m~/.pyenv/versions/anaconda3-5.2.0/lib/python3.6/site-packages/tensorflow/python/client/session.py\u001b[0m in \u001b[0;36m_run_fn\u001b[0;34m(feed_dict, fetch_list, target_list, options, run_metadata)\u001b[0m\n\u001b[1;32m   1318\u001b[0m       return self._call_tf_sessionrun(\n\u001b[0;32m-> 1319\u001b[0;31m           options, feed_dict, fetch_list, target_list, run_metadata)\n\u001b[0m\u001b[1;32m   1320\u001b[0m \u001b[0;34m\u001b[0m\u001b[0m\n",
      "\u001b[0;32m~/.pyenv/versions/anaconda3-5.2.0/lib/python3.6/site-packages/tensorflow/python/client/session.py\u001b[0m in \u001b[0;36m_call_tf_sessionrun\u001b[0;34m(self, options, feed_dict, fetch_list, target_list, run_metadata)\u001b[0m\n\u001b[1;32m   1406\u001b[0m         \u001b[0mself\u001b[0m\u001b[0;34m.\u001b[0m\u001b[0m_session\u001b[0m\u001b[0;34m,\u001b[0m \u001b[0moptions\u001b[0m\u001b[0;34m,\u001b[0m \u001b[0mfeed_dict\u001b[0m\u001b[0;34m,\u001b[0m \u001b[0mfetch_list\u001b[0m\u001b[0;34m,\u001b[0m \u001b[0mtarget_list\u001b[0m\u001b[0;34m,\u001b[0m\u001b[0;34m\u001b[0m\u001b[0m\n\u001b[0;32m-> 1407\u001b[0;31m         run_metadata)\n\u001b[0m\u001b[1;32m   1408\u001b[0m \u001b[0;34m\u001b[0m\u001b[0m\n",
      "\u001b[0;31mFailedPreconditionError\u001b[0m: Attempting to use uninitialized value Variable_3\n\t [[{{node _retval_Variable_3_0_0}}]]",
      "\nDuring handling of the above exception, another exception occurred:\n",
      "\u001b[0;31mFailedPreconditionError\u001b[0m                   Traceback (most recent call last)",
      "\u001b[0;32m<ipython-input-30-46f4ee7a2cc7>\u001b[0m in \u001b[0;36m<module>\u001b[0;34m()\u001b[0m\n\u001b[0;32m----> 1\u001b[0;31m \u001b[0msess\u001b[0m\u001b[0;34m.\u001b[0m\u001b[0mrun\u001b[0m\u001b[0;34m(\u001b[0m\u001b[0my\u001b[0m\u001b[0;34m)\u001b[0m\u001b[0;34m\u001b[0m\u001b[0m\n\u001b[0m",
      "\u001b[0;32m~/.pyenv/versions/anaconda3-5.2.0/lib/python3.6/site-packages/tensorflow/python/client/session.py\u001b[0m in \u001b[0;36mrun\u001b[0;34m(self, fetches, feed_dict, options, run_metadata)\u001b[0m\n\u001b[1;32m    927\u001b[0m     \u001b[0;32mtry\u001b[0m\u001b[0;34m:\u001b[0m\u001b[0;34m\u001b[0m\u001b[0m\n\u001b[1;32m    928\u001b[0m       result = self._run(None, fetches, feed_dict, options_ptr,\n\u001b[0;32m--> 929\u001b[0;31m                          run_metadata_ptr)\n\u001b[0m\u001b[1;32m    930\u001b[0m       \u001b[0;32mif\u001b[0m \u001b[0mrun_metadata\u001b[0m\u001b[0;34m:\u001b[0m\u001b[0;34m\u001b[0m\u001b[0m\n\u001b[1;32m    931\u001b[0m         \u001b[0mproto_data\u001b[0m \u001b[0;34m=\u001b[0m \u001b[0mtf_session\u001b[0m\u001b[0;34m.\u001b[0m\u001b[0mTF_GetBuffer\u001b[0m\u001b[0;34m(\u001b[0m\u001b[0mrun_metadata_ptr\u001b[0m\u001b[0;34m)\u001b[0m\u001b[0;34m\u001b[0m\u001b[0m\n",
      "\u001b[0;32m~/.pyenv/versions/anaconda3-5.2.0/lib/python3.6/site-packages/tensorflow/python/client/session.py\u001b[0m in \u001b[0;36m_run\u001b[0;34m(self, handle, fetches, feed_dict, options, run_metadata)\u001b[0m\n\u001b[1;32m   1150\u001b[0m     \u001b[0;32mif\u001b[0m \u001b[0mfinal_fetches\u001b[0m \u001b[0;32mor\u001b[0m \u001b[0mfinal_targets\u001b[0m \u001b[0;32mor\u001b[0m \u001b[0;34m(\u001b[0m\u001b[0mhandle\u001b[0m \u001b[0;32mand\u001b[0m \u001b[0mfeed_dict_tensor\u001b[0m\u001b[0;34m)\u001b[0m\u001b[0;34m:\u001b[0m\u001b[0;34m\u001b[0m\u001b[0m\n\u001b[1;32m   1151\u001b[0m       results = self._do_run(handle, final_targets, final_fetches,\n\u001b[0;32m-> 1152\u001b[0;31m                              feed_dict_tensor, options, run_metadata)\n\u001b[0m\u001b[1;32m   1153\u001b[0m     \u001b[0;32melse\u001b[0m\u001b[0;34m:\u001b[0m\u001b[0;34m\u001b[0m\u001b[0m\n\u001b[1;32m   1154\u001b[0m       \u001b[0mresults\u001b[0m \u001b[0;34m=\u001b[0m \u001b[0;34m[\u001b[0m\u001b[0;34m]\u001b[0m\u001b[0;34m\u001b[0m\u001b[0m\n",
      "\u001b[0;32m~/.pyenv/versions/anaconda3-5.2.0/lib/python3.6/site-packages/tensorflow/python/client/session.py\u001b[0m in \u001b[0;36m_do_run\u001b[0;34m(self, handle, target_list, fetch_list, feed_dict, options, run_metadata)\u001b[0m\n\u001b[1;32m   1326\u001b[0m     \u001b[0;32mif\u001b[0m \u001b[0mhandle\u001b[0m \u001b[0;32mis\u001b[0m \u001b[0;32mNone\u001b[0m\u001b[0;34m:\u001b[0m\u001b[0;34m\u001b[0m\u001b[0m\n\u001b[1;32m   1327\u001b[0m       return self._do_call(_run_fn, feeds, fetches, targets, options,\n\u001b[0;32m-> 1328\u001b[0;31m                            run_metadata)\n\u001b[0m\u001b[1;32m   1329\u001b[0m     \u001b[0;32melse\u001b[0m\u001b[0;34m:\u001b[0m\u001b[0;34m\u001b[0m\u001b[0m\n\u001b[1;32m   1330\u001b[0m       \u001b[0;32mreturn\u001b[0m \u001b[0mself\u001b[0m\u001b[0;34m.\u001b[0m\u001b[0m_do_call\u001b[0m\u001b[0;34m(\u001b[0m\u001b[0m_prun_fn\u001b[0m\u001b[0;34m,\u001b[0m \u001b[0mhandle\u001b[0m\u001b[0;34m,\u001b[0m \u001b[0mfeeds\u001b[0m\u001b[0;34m,\u001b[0m \u001b[0mfetches\u001b[0m\u001b[0;34m)\u001b[0m\u001b[0;34m\u001b[0m\u001b[0m\n",
      "\u001b[0;32m~/.pyenv/versions/anaconda3-5.2.0/lib/python3.6/site-packages/tensorflow/python/client/session.py\u001b[0m in \u001b[0;36m_do_call\u001b[0;34m(self, fn, *args)\u001b[0m\n\u001b[1;32m   1346\u001b[0m           \u001b[0;32mpass\u001b[0m\u001b[0;34m\u001b[0m\u001b[0m\n\u001b[1;32m   1347\u001b[0m       \u001b[0mmessage\u001b[0m \u001b[0;34m=\u001b[0m \u001b[0merror_interpolation\u001b[0m\u001b[0;34m.\u001b[0m\u001b[0minterpolate\u001b[0m\u001b[0;34m(\u001b[0m\u001b[0mmessage\u001b[0m\u001b[0;34m,\u001b[0m \u001b[0mself\u001b[0m\u001b[0;34m.\u001b[0m\u001b[0m_graph\u001b[0m\u001b[0;34m)\u001b[0m\u001b[0;34m\u001b[0m\u001b[0m\n\u001b[0;32m-> 1348\u001b[0;31m       \u001b[0;32mraise\u001b[0m \u001b[0mtype\u001b[0m\u001b[0;34m(\u001b[0m\u001b[0me\u001b[0m\u001b[0;34m)\u001b[0m\u001b[0;34m(\u001b[0m\u001b[0mnode_def\u001b[0m\u001b[0;34m,\u001b[0m \u001b[0mop\u001b[0m\u001b[0;34m,\u001b[0m \u001b[0mmessage\u001b[0m\u001b[0;34m)\u001b[0m\u001b[0;34m\u001b[0m\u001b[0m\n\u001b[0m\u001b[1;32m   1349\u001b[0m \u001b[0;34m\u001b[0m\u001b[0m\n\u001b[1;32m   1350\u001b[0m   \u001b[0;32mdef\u001b[0m \u001b[0m_extend_graph\u001b[0m\u001b[0;34m(\u001b[0m\u001b[0mself\u001b[0m\u001b[0;34m)\u001b[0m\u001b[0;34m:\u001b[0m\u001b[0;34m\u001b[0m\u001b[0m\n",
      "\u001b[0;31mFailedPreconditionError\u001b[0m: Attempting to use uninitialized value Variable_3\n\t [[{{node _retval_Variable_3_0_0}}]]"
     ]
    }
   ],
   "source": [
    "sess.run(y)"
   ]
  },
  {
   "cell_type": "code",
   "execution_count": 31,
   "metadata": {},
   "outputs": [
    {
     "data": {
      "text/plain": [
       "<tf.Tensor 'Assign_1:0' shape=(1,) dtype=int32_ref>"
      ]
     },
     "execution_count": 31,
     "metadata": {},
     "output_type": "execute_result"
    }
   ],
   "source": [
    "y.assign([5])"
   ]
  },
  {
   "cell_type": "code",
   "execution_count": 32,
   "metadata": {},
   "outputs": [],
   "source": [
    "y = y.assign([5])"
   ]
  },
  {
   "cell_type": "code",
   "execution_count": 33,
   "metadata": {},
   "outputs": [
    {
     "data": {
      "text/plain": [
       "array([5], dtype=int32)"
      ]
     },
     "execution_count": 33,
     "metadata": {},
     "output_type": "execute_result"
    }
   ],
   "source": [
    "sess.run(y)"
   ]
  },
  {
   "cell_type": "code",
   "execution_count": 34,
   "metadata": {},
   "outputs": [
    {
     "ename": "TypeError",
     "evalue": "'VariableMetaclass' object does not support indexing",
     "output_type": "error",
     "traceback": [
      "\u001b[0;31m---------------------------------------------------------------------------\u001b[0m",
      "\u001b[0;31mTypeError\u001b[0m                                 Traceback (most recent call last)",
      "\u001b[0;32m<ipython-input-34-3bd85411dbab>\u001b[0m in \u001b[0;36m<module>\u001b[0;34m()\u001b[0m\n\u001b[0;32m----> 1\u001b[0;31m \u001b[0mx\u001b[0m \u001b[0;34m=\u001b[0m \u001b[0mtf\u001b[0m\u001b[0;34m.\u001b[0m\u001b[0mVariable\u001b[0m\u001b[0;34m[\u001b[0m\u001b[0;36m3\u001b[0m\u001b[0;34m]\u001b[0m\u001b[0;34m\u001b[0m\u001b[0m\n\u001b[0m",
      "\u001b[0;31mTypeError\u001b[0m: 'VariableMetaclass' object does not support indexing"
     ]
    }
   ],
   "source": [
    "x = tf.Variable[3]"
   ]
  },
  {
   "cell_type": "code",
   "execution_count": 35,
   "metadata": {},
   "outputs": [
    {
     "ename": "AttributeError",
     "evalue": "module 'tensorflow' has no attribute 'Varaiable'",
     "output_type": "error",
     "traceback": [
      "\u001b[0;31m---------------------------------------------------------------------------\u001b[0m",
      "\u001b[0;31mAttributeError\u001b[0m                            Traceback (most recent call last)",
      "\u001b[0;32m<ipython-input-35-759bd0b60853>\u001b[0m in \u001b[0;36m<module>\u001b[0;34m()\u001b[0m\n\u001b[0;32m----> 1\u001b[0;31m \u001b[0mx\u001b[0m \u001b[0;34m=\u001b[0m\u001b[0mtf\u001b[0m\u001b[0;34m.\u001b[0m\u001b[0mVaraiable\u001b[0m\u001b[0;34m(\u001b[0m\u001b[0;34m[\u001b[0m\u001b[0;36m1010\u001b[0m\u001b[0;34m]\u001b[0m\u001b[0;34m)\u001b[0m\u001b[0;34m\u001b[0m\u001b[0m\n\u001b[0m",
      "\u001b[0;31mAttributeError\u001b[0m: module 'tensorflow' has no attribute 'Varaiable'"
     ]
    }
   ],
   "source": [
    "x =tf.Varaiable([1010])"
   ]
  },
  {
   "cell_type": "code",
   "execution_count": 36,
   "metadata": {},
   "outputs": [],
   "source": [
    "x = tf.Variable([1000])"
   ]
  },
  {
   "cell_type": "code",
   "execution_count": 37,
   "metadata": {},
   "outputs": [
    {
     "ename": "FailedPreconditionError",
     "evalue": "Attempting to use uninitialized value Variable_4\n\t [[{{node _retval_Variable_4_0_0}}]]",
     "output_type": "error",
     "traceback": [
      "\u001b[0;31m---------------------------------------------------------------------------\u001b[0m",
      "\u001b[0;31mFailedPreconditionError\u001b[0m                   Traceback (most recent call last)",
      "\u001b[0;32m~/.pyenv/versions/anaconda3-5.2.0/lib/python3.6/site-packages/tensorflow/python/client/session.py\u001b[0m in \u001b[0;36m_do_call\u001b[0;34m(self, fn, *args)\u001b[0m\n\u001b[1;32m   1333\u001b[0m     \u001b[0;32mtry\u001b[0m\u001b[0;34m:\u001b[0m\u001b[0;34m\u001b[0m\u001b[0m\n\u001b[0;32m-> 1334\u001b[0;31m       \u001b[0;32mreturn\u001b[0m \u001b[0mfn\u001b[0m\u001b[0;34m(\u001b[0m\u001b[0;34m*\u001b[0m\u001b[0margs\u001b[0m\u001b[0;34m)\u001b[0m\u001b[0;34m\u001b[0m\u001b[0m\n\u001b[0m\u001b[1;32m   1335\u001b[0m     \u001b[0;32mexcept\u001b[0m \u001b[0merrors\u001b[0m\u001b[0;34m.\u001b[0m\u001b[0mOpError\u001b[0m \u001b[0;32mas\u001b[0m \u001b[0me\u001b[0m\u001b[0;34m:\u001b[0m\u001b[0;34m\u001b[0m\u001b[0m\n",
      "\u001b[0;32m~/.pyenv/versions/anaconda3-5.2.0/lib/python3.6/site-packages/tensorflow/python/client/session.py\u001b[0m in \u001b[0;36m_run_fn\u001b[0;34m(feed_dict, fetch_list, target_list, options, run_metadata)\u001b[0m\n\u001b[1;32m   1318\u001b[0m       return self._call_tf_sessionrun(\n\u001b[0;32m-> 1319\u001b[0;31m           options, feed_dict, fetch_list, target_list, run_metadata)\n\u001b[0m\u001b[1;32m   1320\u001b[0m \u001b[0;34m\u001b[0m\u001b[0m\n",
      "\u001b[0;32m~/.pyenv/versions/anaconda3-5.2.0/lib/python3.6/site-packages/tensorflow/python/client/session.py\u001b[0m in \u001b[0;36m_call_tf_sessionrun\u001b[0;34m(self, options, feed_dict, fetch_list, target_list, run_metadata)\u001b[0m\n\u001b[1;32m   1406\u001b[0m         \u001b[0mself\u001b[0m\u001b[0;34m.\u001b[0m\u001b[0m_session\u001b[0m\u001b[0;34m,\u001b[0m \u001b[0moptions\u001b[0m\u001b[0;34m,\u001b[0m \u001b[0mfeed_dict\u001b[0m\u001b[0;34m,\u001b[0m \u001b[0mfetch_list\u001b[0m\u001b[0;34m,\u001b[0m \u001b[0mtarget_list\u001b[0m\u001b[0;34m,\u001b[0m\u001b[0;34m\u001b[0m\u001b[0m\n\u001b[0;32m-> 1407\u001b[0;31m         run_metadata)\n\u001b[0m\u001b[1;32m   1408\u001b[0m \u001b[0;34m\u001b[0m\u001b[0m\n",
      "\u001b[0;31mFailedPreconditionError\u001b[0m: Attempting to use uninitialized value Variable_4\n\t [[{{node _retval_Variable_4_0_0}}]]",
      "\nDuring handling of the above exception, another exception occurred:\n",
      "\u001b[0;31mFailedPreconditionError\u001b[0m                   Traceback (most recent call last)",
      "\u001b[0;32m<ipython-input-37-450dad72c06f>\u001b[0m in \u001b[0;36m<module>\u001b[0;34m()\u001b[0m\n\u001b[0;32m----> 1\u001b[0;31m \u001b[0msess\u001b[0m\u001b[0;34m.\u001b[0m\u001b[0mrun\u001b[0m\u001b[0;34m(\u001b[0m\u001b[0mx\u001b[0m\u001b[0;34m)\u001b[0m\u001b[0;34m\u001b[0m\u001b[0m\n\u001b[0m",
      "\u001b[0;32m~/.pyenv/versions/anaconda3-5.2.0/lib/python3.6/site-packages/tensorflow/python/client/session.py\u001b[0m in \u001b[0;36mrun\u001b[0;34m(self, fetches, feed_dict, options, run_metadata)\u001b[0m\n\u001b[1;32m    927\u001b[0m     \u001b[0;32mtry\u001b[0m\u001b[0;34m:\u001b[0m\u001b[0;34m\u001b[0m\u001b[0m\n\u001b[1;32m    928\u001b[0m       result = self._run(None, fetches, feed_dict, options_ptr,\n\u001b[0;32m--> 929\u001b[0;31m                          run_metadata_ptr)\n\u001b[0m\u001b[1;32m    930\u001b[0m       \u001b[0;32mif\u001b[0m \u001b[0mrun_metadata\u001b[0m\u001b[0;34m:\u001b[0m\u001b[0;34m\u001b[0m\u001b[0m\n\u001b[1;32m    931\u001b[0m         \u001b[0mproto_data\u001b[0m \u001b[0;34m=\u001b[0m \u001b[0mtf_session\u001b[0m\u001b[0;34m.\u001b[0m\u001b[0mTF_GetBuffer\u001b[0m\u001b[0;34m(\u001b[0m\u001b[0mrun_metadata_ptr\u001b[0m\u001b[0;34m)\u001b[0m\u001b[0;34m\u001b[0m\u001b[0m\n",
      "\u001b[0;32m~/.pyenv/versions/anaconda3-5.2.0/lib/python3.6/site-packages/tensorflow/python/client/session.py\u001b[0m in \u001b[0;36m_run\u001b[0;34m(self, handle, fetches, feed_dict, options, run_metadata)\u001b[0m\n\u001b[1;32m   1150\u001b[0m     \u001b[0;32mif\u001b[0m \u001b[0mfinal_fetches\u001b[0m \u001b[0;32mor\u001b[0m \u001b[0mfinal_targets\u001b[0m \u001b[0;32mor\u001b[0m \u001b[0;34m(\u001b[0m\u001b[0mhandle\u001b[0m \u001b[0;32mand\u001b[0m \u001b[0mfeed_dict_tensor\u001b[0m\u001b[0;34m)\u001b[0m\u001b[0;34m:\u001b[0m\u001b[0;34m\u001b[0m\u001b[0m\n\u001b[1;32m   1151\u001b[0m       results = self._do_run(handle, final_targets, final_fetches,\n\u001b[0;32m-> 1152\u001b[0;31m                              feed_dict_tensor, options, run_metadata)\n\u001b[0m\u001b[1;32m   1153\u001b[0m     \u001b[0;32melse\u001b[0m\u001b[0;34m:\u001b[0m\u001b[0;34m\u001b[0m\u001b[0m\n\u001b[1;32m   1154\u001b[0m       \u001b[0mresults\u001b[0m \u001b[0;34m=\u001b[0m \u001b[0;34m[\u001b[0m\u001b[0;34m]\u001b[0m\u001b[0;34m\u001b[0m\u001b[0m\n",
      "\u001b[0;32m~/.pyenv/versions/anaconda3-5.2.0/lib/python3.6/site-packages/tensorflow/python/client/session.py\u001b[0m in \u001b[0;36m_do_run\u001b[0;34m(self, handle, target_list, fetch_list, feed_dict, options, run_metadata)\u001b[0m\n\u001b[1;32m   1326\u001b[0m     \u001b[0;32mif\u001b[0m \u001b[0mhandle\u001b[0m \u001b[0;32mis\u001b[0m \u001b[0;32mNone\u001b[0m\u001b[0;34m:\u001b[0m\u001b[0;34m\u001b[0m\u001b[0m\n\u001b[1;32m   1327\u001b[0m       return self._do_call(_run_fn, feeds, fetches, targets, options,\n\u001b[0;32m-> 1328\u001b[0;31m                            run_metadata)\n\u001b[0m\u001b[1;32m   1329\u001b[0m     \u001b[0;32melse\u001b[0m\u001b[0;34m:\u001b[0m\u001b[0;34m\u001b[0m\u001b[0m\n\u001b[1;32m   1330\u001b[0m       \u001b[0;32mreturn\u001b[0m \u001b[0mself\u001b[0m\u001b[0;34m.\u001b[0m\u001b[0m_do_call\u001b[0m\u001b[0;34m(\u001b[0m\u001b[0m_prun_fn\u001b[0m\u001b[0;34m,\u001b[0m \u001b[0mhandle\u001b[0m\u001b[0;34m,\u001b[0m \u001b[0mfeeds\u001b[0m\u001b[0;34m,\u001b[0m \u001b[0mfetches\u001b[0m\u001b[0;34m)\u001b[0m\u001b[0;34m\u001b[0m\u001b[0m\n",
      "\u001b[0;32m~/.pyenv/versions/anaconda3-5.2.0/lib/python3.6/site-packages/tensorflow/python/client/session.py\u001b[0m in \u001b[0;36m_do_call\u001b[0;34m(self, fn, *args)\u001b[0m\n\u001b[1;32m   1346\u001b[0m           \u001b[0;32mpass\u001b[0m\u001b[0;34m\u001b[0m\u001b[0m\n\u001b[1;32m   1347\u001b[0m       \u001b[0mmessage\u001b[0m \u001b[0;34m=\u001b[0m \u001b[0merror_interpolation\u001b[0m\u001b[0;34m.\u001b[0m\u001b[0minterpolate\u001b[0m\u001b[0;34m(\u001b[0m\u001b[0mmessage\u001b[0m\u001b[0;34m,\u001b[0m \u001b[0mself\u001b[0m\u001b[0;34m.\u001b[0m\u001b[0m_graph\u001b[0m\u001b[0;34m)\u001b[0m\u001b[0;34m\u001b[0m\u001b[0m\n\u001b[0;32m-> 1348\u001b[0;31m       \u001b[0;32mraise\u001b[0m \u001b[0mtype\u001b[0m\u001b[0;34m(\u001b[0m\u001b[0me\u001b[0m\u001b[0;34m)\u001b[0m\u001b[0;34m(\u001b[0m\u001b[0mnode_def\u001b[0m\u001b[0;34m,\u001b[0m \u001b[0mop\u001b[0m\u001b[0;34m,\u001b[0m \u001b[0mmessage\u001b[0m\u001b[0;34m)\u001b[0m\u001b[0;34m\u001b[0m\u001b[0m\n\u001b[0m\u001b[1;32m   1349\u001b[0m \u001b[0;34m\u001b[0m\u001b[0m\n\u001b[1;32m   1350\u001b[0m   \u001b[0;32mdef\u001b[0m \u001b[0m_extend_graph\u001b[0m\u001b[0;34m(\u001b[0m\u001b[0mself\u001b[0m\u001b[0;34m)\u001b[0m\u001b[0;34m:\u001b[0m\u001b[0;34m\u001b[0m\u001b[0m\n",
      "\u001b[0;31mFailedPreconditionError\u001b[0m: Attempting to use uninitialized value Variable_4\n\t [[{{node _retval_Variable_4_0_0}}]]"
     ]
    }
   ],
   "source": [
    "sess.run(x)"
   ]
  },
  {
   "cell_type": "code",
   "execution_count": 38,
   "metadata": {},
   "outputs": [],
   "source": [
    "y = tf.Variable([5])"
   ]
  },
  {
   "cell_type": "code",
   "execution_count": 39,
   "metadata": {},
   "outputs": [
    {
     "name": "stdout",
     "output_type": "stream",
     "text": [
      "<class 'tensorflow.python.ops.variables.RefVariable'>\n"
     ]
    }
   ],
   "source": [
    "print(type(y))"
   ]
  },
  {
   "cell_type": "code",
   "execution_count": 40,
   "metadata": {},
   "outputs": [
    {
     "ename": "FailedPreconditionError",
     "evalue": "Attempting to use uninitialized value Variable_5\n\t [[{{node _retval_Variable_5_0_0}}]]",
     "output_type": "error",
     "traceback": [
      "\u001b[0;31m---------------------------------------------------------------------------\u001b[0m",
      "\u001b[0;31mFailedPreconditionError\u001b[0m                   Traceback (most recent call last)",
      "\u001b[0;32m~/.pyenv/versions/anaconda3-5.2.0/lib/python3.6/site-packages/tensorflow/python/client/session.py\u001b[0m in \u001b[0;36m_do_call\u001b[0;34m(self, fn, *args)\u001b[0m\n\u001b[1;32m   1333\u001b[0m     \u001b[0;32mtry\u001b[0m\u001b[0;34m:\u001b[0m\u001b[0;34m\u001b[0m\u001b[0m\n\u001b[0;32m-> 1334\u001b[0;31m       \u001b[0;32mreturn\u001b[0m \u001b[0mfn\u001b[0m\u001b[0;34m(\u001b[0m\u001b[0;34m*\u001b[0m\u001b[0margs\u001b[0m\u001b[0;34m)\u001b[0m\u001b[0;34m\u001b[0m\u001b[0m\n\u001b[0m\u001b[1;32m   1335\u001b[0m     \u001b[0;32mexcept\u001b[0m \u001b[0merrors\u001b[0m\u001b[0;34m.\u001b[0m\u001b[0mOpError\u001b[0m \u001b[0;32mas\u001b[0m \u001b[0me\u001b[0m\u001b[0;34m:\u001b[0m\u001b[0;34m\u001b[0m\u001b[0m\n",
      "\u001b[0;32m~/.pyenv/versions/anaconda3-5.2.0/lib/python3.6/site-packages/tensorflow/python/client/session.py\u001b[0m in \u001b[0;36m_run_fn\u001b[0;34m(feed_dict, fetch_list, target_list, options, run_metadata)\u001b[0m\n\u001b[1;32m   1318\u001b[0m       return self._call_tf_sessionrun(\n\u001b[0;32m-> 1319\u001b[0;31m           options, feed_dict, fetch_list, target_list, run_metadata)\n\u001b[0m\u001b[1;32m   1320\u001b[0m \u001b[0;34m\u001b[0m\u001b[0m\n",
      "\u001b[0;32m~/.pyenv/versions/anaconda3-5.2.0/lib/python3.6/site-packages/tensorflow/python/client/session.py\u001b[0m in \u001b[0;36m_call_tf_sessionrun\u001b[0;34m(self, options, feed_dict, fetch_list, target_list, run_metadata)\u001b[0m\n\u001b[1;32m   1406\u001b[0m         \u001b[0mself\u001b[0m\u001b[0;34m.\u001b[0m\u001b[0m_session\u001b[0m\u001b[0;34m,\u001b[0m \u001b[0moptions\u001b[0m\u001b[0;34m,\u001b[0m \u001b[0mfeed_dict\u001b[0m\u001b[0;34m,\u001b[0m \u001b[0mfetch_list\u001b[0m\u001b[0;34m,\u001b[0m \u001b[0mtarget_list\u001b[0m\u001b[0;34m,\u001b[0m\u001b[0;34m\u001b[0m\u001b[0m\n\u001b[0;32m-> 1407\u001b[0;31m         run_metadata)\n\u001b[0m\u001b[1;32m   1408\u001b[0m \u001b[0;34m\u001b[0m\u001b[0m\n",
      "\u001b[0;31mFailedPreconditionError\u001b[0m: Attempting to use uninitialized value Variable_5\n\t [[{{node _retval_Variable_5_0_0}}]]",
      "\nDuring handling of the above exception, another exception occurred:\n",
      "\u001b[0;31mFailedPreconditionError\u001b[0m                   Traceback (most recent call last)",
      "\u001b[0;32m<ipython-input-40-46f4ee7a2cc7>\u001b[0m in \u001b[0;36m<module>\u001b[0;34m()\u001b[0m\n\u001b[0;32m----> 1\u001b[0;31m \u001b[0msess\u001b[0m\u001b[0;34m.\u001b[0m\u001b[0mrun\u001b[0m\u001b[0;34m(\u001b[0m\u001b[0my\u001b[0m\u001b[0;34m)\u001b[0m\u001b[0;34m\u001b[0m\u001b[0m\n\u001b[0m",
      "\u001b[0;32m~/.pyenv/versions/anaconda3-5.2.0/lib/python3.6/site-packages/tensorflow/python/client/session.py\u001b[0m in \u001b[0;36mrun\u001b[0;34m(self, fetches, feed_dict, options, run_metadata)\u001b[0m\n\u001b[1;32m    927\u001b[0m     \u001b[0;32mtry\u001b[0m\u001b[0;34m:\u001b[0m\u001b[0;34m\u001b[0m\u001b[0m\n\u001b[1;32m    928\u001b[0m       result = self._run(None, fetches, feed_dict, options_ptr,\n\u001b[0;32m--> 929\u001b[0;31m                          run_metadata_ptr)\n\u001b[0m\u001b[1;32m    930\u001b[0m       \u001b[0;32mif\u001b[0m \u001b[0mrun_metadata\u001b[0m\u001b[0;34m:\u001b[0m\u001b[0;34m\u001b[0m\u001b[0m\n\u001b[1;32m    931\u001b[0m         \u001b[0mproto_data\u001b[0m \u001b[0;34m=\u001b[0m \u001b[0mtf_session\u001b[0m\u001b[0;34m.\u001b[0m\u001b[0mTF_GetBuffer\u001b[0m\u001b[0;34m(\u001b[0m\u001b[0mrun_metadata_ptr\u001b[0m\u001b[0;34m)\u001b[0m\u001b[0;34m\u001b[0m\u001b[0m\n",
      "\u001b[0;32m~/.pyenv/versions/anaconda3-5.2.0/lib/python3.6/site-packages/tensorflow/python/client/session.py\u001b[0m in \u001b[0;36m_run\u001b[0;34m(self, handle, fetches, feed_dict, options, run_metadata)\u001b[0m\n\u001b[1;32m   1150\u001b[0m     \u001b[0;32mif\u001b[0m \u001b[0mfinal_fetches\u001b[0m \u001b[0;32mor\u001b[0m \u001b[0mfinal_targets\u001b[0m \u001b[0;32mor\u001b[0m \u001b[0;34m(\u001b[0m\u001b[0mhandle\u001b[0m \u001b[0;32mand\u001b[0m \u001b[0mfeed_dict_tensor\u001b[0m\u001b[0;34m)\u001b[0m\u001b[0;34m:\u001b[0m\u001b[0;34m\u001b[0m\u001b[0m\n\u001b[1;32m   1151\u001b[0m       results = self._do_run(handle, final_targets, final_fetches,\n\u001b[0;32m-> 1152\u001b[0;31m                              feed_dict_tensor, options, run_metadata)\n\u001b[0m\u001b[1;32m   1153\u001b[0m     \u001b[0;32melse\u001b[0m\u001b[0;34m:\u001b[0m\u001b[0;34m\u001b[0m\u001b[0m\n\u001b[1;32m   1154\u001b[0m       \u001b[0mresults\u001b[0m \u001b[0;34m=\u001b[0m \u001b[0;34m[\u001b[0m\u001b[0;34m]\u001b[0m\u001b[0;34m\u001b[0m\u001b[0m\n",
      "\u001b[0;32m~/.pyenv/versions/anaconda3-5.2.0/lib/python3.6/site-packages/tensorflow/python/client/session.py\u001b[0m in \u001b[0;36m_do_run\u001b[0;34m(self, handle, target_list, fetch_list, feed_dict, options, run_metadata)\u001b[0m\n\u001b[1;32m   1326\u001b[0m     \u001b[0;32mif\u001b[0m \u001b[0mhandle\u001b[0m \u001b[0;32mis\u001b[0m \u001b[0;32mNone\u001b[0m\u001b[0;34m:\u001b[0m\u001b[0;34m\u001b[0m\u001b[0m\n\u001b[1;32m   1327\u001b[0m       return self._do_call(_run_fn, feeds, fetches, targets, options,\n\u001b[0;32m-> 1328\u001b[0;31m                            run_metadata)\n\u001b[0m\u001b[1;32m   1329\u001b[0m     \u001b[0;32melse\u001b[0m\u001b[0;34m:\u001b[0m\u001b[0;34m\u001b[0m\u001b[0m\n\u001b[1;32m   1330\u001b[0m       \u001b[0;32mreturn\u001b[0m \u001b[0mself\u001b[0m\u001b[0;34m.\u001b[0m\u001b[0m_do_call\u001b[0m\u001b[0;34m(\u001b[0m\u001b[0m_prun_fn\u001b[0m\u001b[0;34m,\u001b[0m \u001b[0mhandle\u001b[0m\u001b[0;34m,\u001b[0m \u001b[0mfeeds\u001b[0m\u001b[0;34m,\u001b[0m \u001b[0mfetches\u001b[0m\u001b[0;34m)\u001b[0m\u001b[0;34m\u001b[0m\u001b[0m\n",
      "\u001b[0;32m~/.pyenv/versions/anaconda3-5.2.0/lib/python3.6/site-packages/tensorflow/python/client/session.py\u001b[0m in \u001b[0;36m_do_call\u001b[0;34m(self, fn, *args)\u001b[0m\n\u001b[1;32m   1346\u001b[0m           \u001b[0;32mpass\u001b[0m\u001b[0;34m\u001b[0m\u001b[0m\n\u001b[1;32m   1347\u001b[0m       \u001b[0mmessage\u001b[0m \u001b[0;34m=\u001b[0m \u001b[0merror_interpolation\u001b[0m\u001b[0;34m.\u001b[0m\u001b[0minterpolate\u001b[0m\u001b[0;34m(\u001b[0m\u001b[0mmessage\u001b[0m\u001b[0;34m,\u001b[0m \u001b[0mself\u001b[0m\u001b[0;34m.\u001b[0m\u001b[0m_graph\u001b[0m\u001b[0;34m)\u001b[0m\u001b[0;34m\u001b[0m\u001b[0m\n\u001b[0;32m-> 1348\u001b[0;31m       \u001b[0;32mraise\u001b[0m \u001b[0mtype\u001b[0m\u001b[0;34m(\u001b[0m\u001b[0me\u001b[0m\u001b[0;34m)\u001b[0m\u001b[0;34m(\u001b[0m\u001b[0mnode_def\u001b[0m\u001b[0;34m,\u001b[0m \u001b[0mop\u001b[0m\u001b[0;34m,\u001b[0m \u001b[0mmessage\u001b[0m\u001b[0;34m)\u001b[0m\u001b[0;34m\u001b[0m\u001b[0m\n\u001b[0m\u001b[1;32m   1349\u001b[0m \u001b[0;34m\u001b[0m\u001b[0m\n\u001b[1;32m   1350\u001b[0m   \u001b[0;32mdef\u001b[0m \u001b[0m_extend_graph\u001b[0m\u001b[0;34m(\u001b[0m\u001b[0mself\u001b[0m\u001b[0;34m)\u001b[0m\u001b[0;34m:\u001b[0m\u001b[0;34m\u001b[0m\u001b[0m\n",
      "\u001b[0;31mFailedPreconditionError\u001b[0m: Attempting to use uninitialized value Variable_5\n\t [[{{node _retval_Variable_5_0_0}}]]"
     ]
    }
   ],
   "source": [
    "sess.run(y)"
   ]
  },
  {
   "cell_type": "code",
   "execution_count": 41,
   "metadata": {},
   "outputs": [],
   "source": [
    "y = y.assign([5])"
   ]
  },
  {
   "cell_type": "code",
   "execution_count": 42,
   "metadata": {},
   "outputs": [
    {
     "data": {
      "text/plain": [
       "array([5], dtype=int32)"
      ]
     },
     "execution_count": 42,
     "metadata": {},
     "output_type": "execute_result"
    }
   ],
   "source": [
    "sess.run(y)"
   ]
  },
  {
   "cell_type": "code",
   "execution_count": 43,
   "metadata": {},
   "outputs": [],
   "source": [
    "y = tf.Variable([0])"
   ]
  },
  {
   "cell_type": "code",
   "execution_count": 44,
   "metadata": {},
   "outputs": [
    {
     "ename": "FailedPreconditionError",
     "evalue": "Attempting to use uninitialized value Variable_6\n\t [[{{node _retval_Variable_6_0_0}}]]",
     "output_type": "error",
     "traceback": [
      "\u001b[0;31m---------------------------------------------------------------------------\u001b[0m",
      "\u001b[0;31mFailedPreconditionError\u001b[0m                   Traceback (most recent call last)",
      "\u001b[0;32m~/.pyenv/versions/anaconda3-5.2.0/lib/python3.6/site-packages/tensorflow/python/client/session.py\u001b[0m in \u001b[0;36m_do_call\u001b[0;34m(self, fn, *args)\u001b[0m\n\u001b[1;32m   1333\u001b[0m     \u001b[0;32mtry\u001b[0m\u001b[0;34m:\u001b[0m\u001b[0;34m\u001b[0m\u001b[0m\n\u001b[0;32m-> 1334\u001b[0;31m       \u001b[0;32mreturn\u001b[0m \u001b[0mfn\u001b[0m\u001b[0;34m(\u001b[0m\u001b[0;34m*\u001b[0m\u001b[0margs\u001b[0m\u001b[0;34m)\u001b[0m\u001b[0;34m\u001b[0m\u001b[0m\n\u001b[0m\u001b[1;32m   1335\u001b[0m     \u001b[0;32mexcept\u001b[0m \u001b[0merrors\u001b[0m\u001b[0;34m.\u001b[0m\u001b[0mOpError\u001b[0m \u001b[0;32mas\u001b[0m \u001b[0me\u001b[0m\u001b[0;34m:\u001b[0m\u001b[0;34m\u001b[0m\u001b[0m\n",
      "\u001b[0;32m~/.pyenv/versions/anaconda3-5.2.0/lib/python3.6/site-packages/tensorflow/python/client/session.py\u001b[0m in \u001b[0;36m_run_fn\u001b[0;34m(feed_dict, fetch_list, target_list, options, run_metadata)\u001b[0m\n\u001b[1;32m   1318\u001b[0m       return self._call_tf_sessionrun(\n\u001b[0;32m-> 1319\u001b[0;31m           options, feed_dict, fetch_list, target_list, run_metadata)\n\u001b[0m\u001b[1;32m   1320\u001b[0m \u001b[0;34m\u001b[0m\u001b[0m\n",
      "\u001b[0;32m~/.pyenv/versions/anaconda3-5.2.0/lib/python3.6/site-packages/tensorflow/python/client/session.py\u001b[0m in \u001b[0;36m_call_tf_sessionrun\u001b[0;34m(self, options, feed_dict, fetch_list, target_list, run_metadata)\u001b[0m\n\u001b[1;32m   1406\u001b[0m         \u001b[0mself\u001b[0m\u001b[0;34m.\u001b[0m\u001b[0m_session\u001b[0m\u001b[0;34m,\u001b[0m \u001b[0moptions\u001b[0m\u001b[0;34m,\u001b[0m \u001b[0mfeed_dict\u001b[0m\u001b[0;34m,\u001b[0m \u001b[0mfetch_list\u001b[0m\u001b[0;34m,\u001b[0m \u001b[0mtarget_list\u001b[0m\u001b[0;34m,\u001b[0m\u001b[0;34m\u001b[0m\u001b[0m\n\u001b[0;32m-> 1407\u001b[0;31m         run_metadata)\n\u001b[0m\u001b[1;32m   1408\u001b[0m \u001b[0;34m\u001b[0m\u001b[0m\n",
      "\u001b[0;31mFailedPreconditionError\u001b[0m: Attempting to use uninitialized value Variable_6\n\t [[{{node _retval_Variable_6_0_0}}]]",
      "\nDuring handling of the above exception, another exception occurred:\n",
      "\u001b[0;31mFailedPreconditionError\u001b[0m                   Traceback (most recent call last)",
      "\u001b[0;32m<ipython-input-44-46f4ee7a2cc7>\u001b[0m in \u001b[0;36m<module>\u001b[0;34m()\u001b[0m\n\u001b[0;32m----> 1\u001b[0;31m \u001b[0msess\u001b[0m\u001b[0;34m.\u001b[0m\u001b[0mrun\u001b[0m\u001b[0;34m(\u001b[0m\u001b[0my\u001b[0m\u001b[0;34m)\u001b[0m\u001b[0;34m\u001b[0m\u001b[0m\n\u001b[0m",
      "\u001b[0;32m~/.pyenv/versions/anaconda3-5.2.0/lib/python3.6/site-packages/tensorflow/python/client/session.py\u001b[0m in \u001b[0;36mrun\u001b[0;34m(self, fetches, feed_dict, options, run_metadata)\u001b[0m\n\u001b[1;32m    927\u001b[0m     \u001b[0;32mtry\u001b[0m\u001b[0;34m:\u001b[0m\u001b[0;34m\u001b[0m\u001b[0m\n\u001b[1;32m    928\u001b[0m       result = self._run(None, fetches, feed_dict, options_ptr,\n\u001b[0;32m--> 929\u001b[0;31m                          run_metadata_ptr)\n\u001b[0m\u001b[1;32m    930\u001b[0m       \u001b[0;32mif\u001b[0m \u001b[0mrun_metadata\u001b[0m\u001b[0;34m:\u001b[0m\u001b[0;34m\u001b[0m\u001b[0m\n\u001b[1;32m    931\u001b[0m         \u001b[0mproto_data\u001b[0m \u001b[0;34m=\u001b[0m \u001b[0mtf_session\u001b[0m\u001b[0;34m.\u001b[0m\u001b[0mTF_GetBuffer\u001b[0m\u001b[0;34m(\u001b[0m\u001b[0mrun_metadata_ptr\u001b[0m\u001b[0;34m)\u001b[0m\u001b[0;34m\u001b[0m\u001b[0m\n",
      "\u001b[0;32m~/.pyenv/versions/anaconda3-5.2.0/lib/python3.6/site-packages/tensorflow/python/client/session.py\u001b[0m in \u001b[0;36m_run\u001b[0;34m(self, handle, fetches, feed_dict, options, run_metadata)\u001b[0m\n\u001b[1;32m   1150\u001b[0m     \u001b[0;32mif\u001b[0m \u001b[0mfinal_fetches\u001b[0m \u001b[0;32mor\u001b[0m \u001b[0mfinal_targets\u001b[0m \u001b[0;32mor\u001b[0m \u001b[0;34m(\u001b[0m\u001b[0mhandle\u001b[0m \u001b[0;32mand\u001b[0m \u001b[0mfeed_dict_tensor\u001b[0m\u001b[0;34m)\u001b[0m\u001b[0;34m:\u001b[0m\u001b[0;34m\u001b[0m\u001b[0m\n\u001b[1;32m   1151\u001b[0m       results = self._do_run(handle, final_targets, final_fetches,\n\u001b[0;32m-> 1152\u001b[0;31m                              feed_dict_tensor, options, run_metadata)\n\u001b[0m\u001b[1;32m   1153\u001b[0m     \u001b[0;32melse\u001b[0m\u001b[0;34m:\u001b[0m\u001b[0;34m\u001b[0m\u001b[0m\n\u001b[1;32m   1154\u001b[0m       \u001b[0mresults\u001b[0m \u001b[0;34m=\u001b[0m \u001b[0;34m[\u001b[0m\u001b[0;34m]\u001b[0m\u001b[0;34m\u001b[0m\u001b[0m\n",
      "\u001b[0;32m~/.pyenv/versions/anaconda3-5.2.0/lib/python3.6/site-packages/tensorflow/python/client/session.py\u001b[0m in \u001b[0;36m_do_run\u001b[0;34m(self, handle, target_list, fetch_list, feed_dict, options, run_metadata)\u001b[0m\n\u001b[1;32m   1326\u001b[0m     \u001b[0;32mif\u001b[0m \u001b[0mhandle\u001b[0m \u001b[0;32mis\u001b[0m \u001b[0;32mNone\u001b[0m\u001b[0;34m:\u001b[0m\u001b[0;34m\u001b[0m\u001b[0m\n\u001b[1;32m   1327\u001b[0m       return self._do_call(_run_fn, feeds, fetches, targets, options,\n\u001b[0;32m-> 1328\u001b[0;31m                            run_metadata)\n\u001b[0m\u001b[1;32m   1329\u001b[0m     \u001b[0;32melse\u001b[0m\u001b[0;34m:\u001b[0m\u001b[0;34m\u001b[0m\u001b[0m\n\u001b[1;32m   1330\u001b[0m       \u001b[0;32mreturn\u001b[0m \u001b[0mself\u001b[0m\u001b[0;34m.\u001b[0m\u001b[0m_do_call\u001b[0m\u001b[0;34m(\u001b[0m\u001b[0m_prun_fn\u001b[0m\u001b[0;34m,\u001b[0m \u001b[0mhandle\u001b[0m\u001b[0;34m,\u001b[0m \u001b[0mfeeds\u001b[0m\u001b[0;34m,\u001b[0m \u001b[0mfetches\u001b[0m\u001b[0;34m)\u001b[0m\u001b[0;34m\u001b[0m\u001b[0m\n",
      "\u001b[0;32m~/.pyenv/versions/anaconda3-5.2.0/lib/python3.6/site-packages/tensorflow/python/client/session.py\u001b[0m in \u001b[0;36m_do_call\u001b[0;34m(self, fn, *args)\u001b[0m\n\u001b[1;32m   1346\u001b[0m           \u001b[0;32mpass\u001b[0m\u001b[0;34m\u001b[0m\u001b[0m\n\u001b[1;32m   1347\u001b[0m       \u001b[0mmessage\u001b[0m \u001b[0;34m=\u001b[0m \u001b[0merror_interpolation\u001b[0m\u001b[0;34m.\u001b[0m\u001b[0minterpolate\u001b[0m\u001b[0;34m(\u001b[0m\u001b[0mmessage\u001b[0m\u001b[0;34m,\u001b[0m \u001b[0mself\u001b[0m\u001b[0;34m.\u001b[0m\u001b[0m_graph\u001b[0m\u001b[0;34m)\u001b[0m\u001b[0;34m\u001b[0m\u001b[0m\n\u001b[0;32m-> 1348\u001b[0;31m       \u001b[0;32mraise\u001b[0m \u001b[0mtype\u001b[0m\u001b[0;34m(\u001b[0m\u001b[0me\u001b[0m\u001b[0;34m)\u001b[0m\u001b[0;34m(\u001b[0m\u001b[0mnode_def\u001b[0m\u001b[0;34m,\u001b[0m \u001b[0mop\u001b[0m\u001b[0;34m,\u001b[0m \u001b[0mmessage\u001b[0m\u001b[0;34m)\u001b[0m\u001b[0;34m\u001b[0m\u001b[0m\n\u001b[0m\u001b[1;32m   1349\u001b[0m \u001b[0;34m\u001b[0m\u001b[0m\n\u001b[1;32m   1350\u001b[0m   \u001b[0;32mdef\u001b[0m \u001b[0m_extend_graph\u001b[0m\u001b[0;34m(\u001b[0m\u001b[0mself\u001b[0m\u001b[0;34m)\u001b[0m\u001b[0;34m:\u001b[0m\u001b[0;34m\u001b[0m\u001b[0m\n",
      "\u001b[0;31mFailedPreconditionError\u001b[0m: Attempting to use uninitialized value Variable_6\n\t [[{{node _retval_Variable_6_0_0}}]]"
     ]
    }
   ],
   "source": [
    "sess.run(y)"
   ]
  },
  {
   "cell_type": "code",
   "execution_count": 45,
   "metadata": {},
   "outputs": [],
   "source": [
    "y = tf.Variable([10])"
   ]
  },
  {
   "cell_type": "code",
   "execution_count": 46,
   "metadata": {},
   "outputs": [
    {
     "ename": "FailedPreconditionError",
     "evalue": "Attempting to use uninitialized value Variable_7\n\t [[{{node _retval_Variable_7_0_0}}]]",
     "output_type": "error",
     "traceback": [
      "\u001b[0;31m---------------------------------------------------------------------------\u001b[0m",
      "\u001b[0;31mFailedPreconditionError\u001b[0m                   Traceback (most recent call last)",
      "\u001b[0;32m~/.pyenv/versions/anaconda3-5.2.0/lib/python3.6/site-packages/tensorflow/python/client/session.py\u001b[0m in \u001b[0;36m_do_call\u001b[0;34m(self, fn, *args)\u001b[0m\n\u001b[1;32m   1333\u001b[0m     \u001b[0;32mtry\u001b[0m\u001b[0;34m:\u001b[0m\u001b[0;34m\u001b[0m\u001b[0m\n\u001b[0;32m-> 1334\u001b[0;31m       \u001b[0;32mreturn\u001b[0m \u001b[0mfn\u001b[0m\u001b[0;34m(\u001b[0m\u001b[0;34m*\u001b[0m\u001b[0margs\u001b[0m\u001b[0;34m)\u001b[0m\u001b[0;34m\u001b[0m\u001b[0m\n\u001b[0m\u001b[1;32m   1335\u001b[0m     \u001b[0;32mexcept\u001b[0m \u001b[0merrors\u001b[0m\u001b[0;34m.\u001b[0m\u001b[0mOpError\u001b[0m \u001b[0;32mas\u001b[0m \u001b[0me\u001b[0m\u001b[0;34m:\u001b[0m\u001b[0;34m\u001b[0m\u001b[0m\n",
      "\u001b[0;32m~/.pyenv/versions/anaconda3-5.2.0/lib/python3.6/site-packages/tensorflow/python/client/session.py\u001b[0m in \u001b[0;36m_run_fn\u001b[0;34m(feed_dict, fetch_list, target_list, options, run_metadata)\u001b[0m\n\u001b[1;32m   1318\u001b[0m       return self._call_tf_sessionrun(\n\u001b[0;32m-> 1319\u001b[0;31m           options, feed_dict, fetch_list, target_list, run_metadata)\n\u001b[0m\u001b[1;32m   1320\u001b[0m \u001b[0;34m\u001b[0m\u001b[0m\n",
      "\u001b[0;32m~/.pyenv/versions/anaconda3-5.2.0/lib/python3.6/site-packages/tensorflow/python/client/session.py\u001b[0m in \u001b[0;36m_call_tf_sessionrun\u001b[0;34m(self, options, feed_dict, fetch_list, target_list, run_metadata)\u001b[0m\n\u001b[1;32m   1406\u001b[0m         \u001b[0mself\u001b[0m\u001b[0;34m.\u001b[0m\u001b[0m_session\u001b[0m\u001b[0;34m,\u001b[0m \u001b[0moptions\u001b[0m\u001b[0;34m,\u001b[0m \u001b[0mfeed_dict\u001b[0m\u001b[0;34m,\u001b[0m \u001b[0mfetch_list\u001b[0m\u001b[0;34m,\u001b[0m \u001b[0mtarget_list\u001b[0m\u001b[0;34m,\u001b[0m\u001b[0;34m\u001b[0m\u001b[0m\n\u001b[0;32m-> 1407\u001b[0;31m         run_metadata)\n\u001b[0m\u001b[1;32m   1408\u001b[0m \u001b[0;34m\u001b[0m\u001b[0m\n",
      "\u001b[0;31mFailedPreconditionError\u001b[0m: Attempting to use uninitialized value Variable_7\n\t [[{{node _retval_Variable_7_0_0}}]]",
      "\nDuring handling of the above exception, another exception occurred:\n",
      "\u001b[0;31mFailedPreconditionError\u001b[0m                   Traceback (most recent call last)",
      "\u001b[0;32m<ipython-input-46-46f4ee7a2cc7>\u001b[0m in \u001b[0;36m<module>\u001b[0;34m()\u001b[0m\n\u001b[0;32m----> 1\u001b[0;31m \u001b[0msess\u001b[0m\u001b[0;34m.\u001b[0m\u001b[0mrun\u001b[0m\u001b[0;34m(\u001b[0m\u001b[0my\u001b[0m\u001b[0;34m)\u001b[0m\u001b[0;34m\u001b[0m\u001b[0m\n\u001b[0m",
      "\u001b[0;32m~/.pyenv/versions/anaconda3-5.2.0/lib/python3.6/site-packages/tensorflow/python/client/session.py\u001b[0m in \u001b[0;36mrun\u001b[0;34m(self, fetches, feed_dict, options, run_metadata)\u001b[0m\n\u001b[1;32m    927\u001b[0m     \u001b[0;32mtry\u001b[0m\u001b[0;34m:\u001b[0m\u001b[0;34m\u001b[0m\u001b[0m\n\u001b[1;32m    928\u001b[0m       result = self._run(None, fetches, feed_dict, options_ptr,\n\u001b[0;32m--> 929\u001b[0;31m                          run_metadata_ptr)\n\u001b[0m\u001b[1;32m    930\u001b[0m       \u001b[0;32mif\u001b[0m \u001b[0mrun_metadata\u001b[0m\u001b[0;34m:\u001b[0m\u001b[0;34m\u001b[0m\u001b[0m\n\u001b[1;32m    931\u001b[0m         \u001b[0mproto_data\u001b[0m \u001b[0;34m=\u001b[0m \u001b[0mtf_session\u001b[0m\u001b[0;34m.\u001b[0m\u001b[0mTF_GetBuffer\u001b[0m\u001b[0;34m(\u001b[0m\u001b[0mrun_metadata_ptr\u001b[0m\u001b[0;34m)\u001b[0m\u001b[0;34m\u001b[0m\u001b[0m\n",
      "\u001b[0;32m~/.pyenv/versions/anaconda3-5.2.0/lib/python3.6/site-packages/tensorflow/python/client/session.py\u001b[0m in \u001b[0;36m_run\u001b[0;34m(self, handle, fetches, feed_dict, options, run_metadata)\u001b[0m\n\u001b[1;32m   1150\u001b[0m     \u001b[0;32mif\u001b[0m \u001b[0mfinal_fetches\u001b[0m \u001b[0;32mor\u001b[0m \u001b[0mfinal_targets\u001b[0m \u001b[0;32mor\u001b[0m \u001b[0;34m(\u001b[0m\u001b[0mhandle\u001b[0m \u001b[0;32mand\u001b[0m \u001b[0mfeed_dict_tensor\u001b[0m\u001b[0;34m)\u001b[0m\u001b[0;34m:\u001b[0m\u001b[0;34m\u001b[0m\u001b[0m\n\u001b[1;32m   1151\u001b[0m       results = self._do_run(handle, final_targets, final_fetches,\n\u001b[0;32m-> 1152\u001b[0;31m                              feed_dict_tensor, options, run_metadata)\n\u001b[0m\u001b[1;32m   1153\u001b[0m     \u001b[0;32melse\u001b[0m\u001b[0;34m:\u001b[0m\u001b[0;34m\u001b[0m\u001b[0m\n\u001b[1;32m   1154\u001b[0m       \u001b[0mresults\u001b[0m \u001b[0;34m=\u001b[0m \u001b[0;34m[\u001b[0m\u001b[0;34m]\u001b[0m\u001b[0;34m\u001b[0m\u001b[0m\n",
      "\u001b[0;32m~/.pyenv/versions/anaconda3-5.2.0/lib/python3.6/site-packages/tensorflow/python/client/session.py\u001b[0m in \u001b[0;36m_do_run\u001b[0;34m(self, handle, target_list, fetch_list, feed_dict, options, run_metadata)\u001b[0m\n\u001b[1;32m   1326\u001b[0m     \u001b[0;32mif\u001b[0m \u001b[0mhandle\u001b[0m \u001b[0;32mis\u001b[0m \u001b[0;32mNone\u001b[0m\u001b[0;34m:\u001b[0m\u001b[0;34m\u001b[0m\u001b[0m\n\u001b[1;32m   1327\u001b[0m       return self._do_call(_run_fn, feeds, fetches, targets, options,\n\u001b[0;32m-> 1328\u001b[0;31m                            run_metadata)\n\u001b[0m\u001b[1;32m   1329\u001b[0m     \u001b[0;32melse\u001b[0m\u001b[0;34m:\u001b[0m\u001b[0;34m\u001b[0m\u001b[0m\n\u001b[1;32m   1330\u001b[0m       \u001b[0;32mreturn\u001b[0m \u001b[0mself\u001b[0m\u001b[0;34m.\u001b[0m\u001b[0m_do_call\u001b[0m\u001b[0;34m(\u001b[0m\u001b[0m_prun_fn\u001b[0m\u001b[0;34m,\u001b[0m \u001b[0mhandle\u001b[0m\u001b[0;34m,\u001b[0m \u001b[0mfeeds\u001b[0m\u001b[0;34m,\u001b[0m \u001b[0mfetches\u001b[0m\u001b[0;34m)\u001b[0m\u001b[0;34m\u001b[0m\u001b[0m\n",
      "\u001b[0;32m~/.pyenv/versions/anaconda3-5.2.0/lib/python3.6/site-packages/tensorflow/python/client/session.py\u001b[0m in \u001b[0;36m_do_call\u001b[0;34m(self, fn, *args)\u001b[0m\n\u001b[1;32m   1346\u001b[0m           \u001b[0;32mpass\u001b[0m\u001b[0;34m\u001b[0m\u001b[0m\n\u001b[1;32m   1347\u001b[0m       \u001b[0mmessage\u001b[0m \u001b[0;34m=\u001b[0m \u001b[0merror_interpolation\u001b[0m\u001b[0;34m.\u001b[0m\u001b[0minterpolate\u001b[0m\u001b[0;34m(\u001b[0m\u001b[0mmessage\u001b[0m\u001b[0;34m,\u001b[0m \u001b[0mself\u001b[0m\u001b[0;34m.\u001b[0m\u001b[0m_graph\u001b[0m\u001b[0;34m)\u001b[0m\u001b[0;34m\u001b[0m\u001b[0m\n\u001b[0;32m-> 1348\u001b[0;31m       \u001b[0;32mraise\u001b[0m \u001b[0mtype\u001b[0m\u001b[0;34m(\u001b[0m\u001b[0me\u001b[0m\u001b[0;34m)\u001b[0m\u001b[0;34m(\u001b[0m\u001b[0mnode_def\u001b[0m\u001b[0;34m,\u001b[0m \u001b[0mop\u001b[0m\u001b[0;34m,\u001b[0m \u001b[0mmessage\u001b[0m\u001b[0;34m)\u001b[0m\u001b[0;34m\u001b[0m\u001b[0m\n\u001b[0m\u001b[1;32m   1349\u001b[0m \u001b[0;34m\u001b[0m\u001b[0m\n\u001b[1;32m   1350\u001b[0m   \u001b[0;32mdef\u001b[0m \u001b[0m_extend_graph\u001b[0m\u001b[0;34m(\u001b[0m\u001b[0mself\u001b[0m\u001b[0;34m)\u001b[0m\u001b[0;34m:\u001b[0m\u001b[0;34m\u001b[0m\u001b[0m\n",
      "\u001b[0;31mFailedPreconditionError\u001b[0m: Attempting to use uninitialized value Variable_7\n\t [[{{node _retval_Variable_7_0_0}}]]"
     ]
    }
   ],
   "source": [
    "sess.run(y)"
   ]
  },
  {
   "cell_type": "code",
   "execution_count": 47,
   "metadata": {},
   "outputs": [
    {
     "data": {
      "text/plain": [
       "<tf.Tensor 'Assign_4:0' shape=(1,) dtype=int32_ref>"
      ]
     },
     "execution_count": 47,
     "metadata": {},
     "output_type": "execute_result"
    }
   ],
   "source": [
    "y.assign([5])"
   ]
  },
  {
   "cell_type": "code",
   "execution_count": 48,
   "metadata": {},
   "outputs": [
    {
     "ename": "FailedPreconditionError",
     "evalue": "Attempting to use uninitialized value Variable_7\n\t [[{{node _retval_Variable_7_0_0}}]]",
     "output_type": "error",
     "traceback": [
      "\u001b[0;31m---------------------------------------------------------------------------\u001b[0m",
      "\u001b[0;31mFailedPreconditionError\u001b[0m                   Traceback (most recent call last)",
      "\u001b[0;32m~/.pyenv/versions/anaconda3-5.2.0/lib/python3.6/site-packages/tensorflow/python/client/session.py\u001b[0m in \u001b[0;36m_do_call\u001b[0;34m(self, fn, *args)\u001b[0m\n\u001b[1;32m   1333\u001b[0m     \u001b[0;32mtry\u001b[0m\u001b[0;34m:\u001b[0m\u001b[0;34m\u001b[0m\u001b[0m\n\u001b[0;32m-> 1334\u001b[0;31m       \u001b[0;32mreturn\u001b[0m \u001b[0mfn\u001b[0m\u001b[0;34m(\u001b[0m\u001b[0;34m*\u001b[0m\u001b[0margs\u001b[0m\u001b[0;34m)\u001b[0m\u001b[0;34m\u001b[0m\u001b[0m\n\u001b[0m\u001b[1;32m   1335\u001b[0m     \u001b[0;32mexcept\u001b[0m \u001b[0merrors\u001b[0m\u001b[0;34m.\u001b[0m\u001b[0mOpError\u001b[0m \u001b[0;32mas\u001b[0m \u001b[0me\u001b[0m\u001b[0;34m:\u001b[0m\u001b[0;34m\u001b[0m\u001b[0m\n",
      "\u001b[0;32m~/.pyenv/versions/anaconda3-5.2.0/lib/python3.6/site-packages/tensorflow/python/client/session.py\u001b[0m in \u001b[0;36m_run_fn\u001b[0;34m(feed_dict, fetch_list, target_list, options, run_metadata)\u001b[0m\n\u001b[1;32m   1318\u001b[0m       return self._call_tf_sessionrun(\n\u001b[0;32m-> 1319\u001b[0;31m           options, feed_dict, fetch_list, target_list, run_metadata)\n\u001b[0m\u001b[1;32m   1320\u001b[0m \u001b[0;34m\u001b[0m\u001b[0m\n",
      "\u001b[0;32m~/.pyenv/versions/anaconda3-5.2.0/lib/python3.6/site-packages/tensorflow/python/client/session.py\u001b[0m in \u001b[0;36m_call_tf_sessionrun\u001b[0;34m(self, options, feed_dict, fetch_list, target_list, run_metadata)\u001b[0m\n\u001b[1;32m   1406\u001b[0m         \u001b[0mself\u001b[0m\u001b[0;34m.\u001b[0m\u001b[0m_session\u001b[0m\u001b[0;34m,\u001b[0m \u001b[0moptions\u001b[0m\u001b[0;34m,\u001b[0m \u001b[0mfeed_dict\u001b[0m\u001b[0;34m,\u001b[0m \u001b[0mfetch_list\u001b[0m\u001b[0;34m,\u001b[0m \u001b[0mtarget_list\u001b[0m\u001b[0;34m,\u001b[0m\u001b[0;34m\u001b[0m\u001b[0m\n\u001b[0;32m-> 1407\u001b[0;31m         run_metadata)\n\u001b[0m\u001b[1;32m   1408\u001b[0m \u001b[0;34m\u001b[0m\u001b[0m\n",
      "\u001b[0;31mFailedPreconditionError\u001b[0m: Attempting to use uninitialized value Variable_7\n\t [[{{node _retval_Variable_7_0_0}}]]",
      "\nDuring handling of the above exception, another exception occurred:\n",
      "\u001b[0;31mFailedPreconditionError\u001b[0m                   Traceback (most recent call last)",
      "\u001b[0;32m<ipython-input-48-46f4ee7a2cc7>\u001b[0m in \u001b[0;36m<module>\u001b[0;34m()\u001b[0m\n\u001b[0;32m----> 1\u001b[0;31m \u001b[0msess\u001b[0m\u001b[0;34m.\u001b[0m\u001b[0mrun\u001b[0m\u001b[0;34m(\u001b[0m\u001b[0my\u001b[0m\u001b[0;34m)\u001b[0m\u001b[0;34m\u001b[0m\u001b[0m\n\u001b[0m",
      "\u001b[0;32m~/.pyenv/versions/anaconda3-5.2.0/lib/python3.6/site-packages/tensorflow/python/client/session.py\u001b[0m in \u001b[0;36mrun\u001b[0;34m(self, fetches, feed_dict, options, run_metadata)\u001b[0m\n\u001b[1;32m    927\u001b[0m     \u001b[0;32mtry\u001b[0m\u001b[0;34m:\u001b[0m\u001b[0;34m\u001b[0m\u001b[0m\n\u001b[1;32m    928\u001b[0m       result = self._run(None, fetches, feed_dict, options_ptr,\n\u001b[0;32m--> 929\u001b[0;31m                          run_metadata_ptr)\n\u001b[0m\u001b[1;32m    930\u001b[0m       \u001b[0;32mif\u001b[0m \u001b[0mrun_metadata\u001b[0m\u001b[0;34m:\u001b[0m\u001b[0;34m\u001b[0m\u001b[0m\n\u001b[1;32m    931\u001b[0m         \u001b[0mproto_data\u001b[0m \u001b[0;34m=\u001b[0m \u001b[0mtf_session\u001b[0m\u001b[0;34m.\u001b[0m\u001b[0mTF_GetBuffer\u001b[0m\u001b[0;34m(\u001b[0m\u001b[0mrun_metadata_ptr\u001b[0m\u001b[0;34m)\u001b[0m\u001b[0;34m\u001b[0m\u001b[0m\n",
      "\u001b[0;32m~/.pyenv/versions/anaconda3-5.2.0/lib/python3.6/site-packages/tensorflow/python/client/session.py\u001b[0m in \u001b[0;36m_run\u001b[0;34m(self, handle, fetches, feed_dict, options, run_metadata)\u001b[0m\n\u001b[1;32m   1150\u001b[0m     \u001b[0;32mif\u001b[0m \u001b[0mfinal_fetches\u001b[0m \u001b[0;32mor\u001b[0m \u001b[0mfinal_targets\u001b[0m \u001b[0;32mor\u001b[0m \u001b[0;34m(\u001b[0m\u001b[0mhandle\u001b[0m \u001b[0;32mand\u001b[0m \u001b[0mfeed_dict_tensor\u001b[0m\u001b[0;34m)\u001b[0m\u001b[0;34m:\u001b[0m\u001b[0;34m\u001b[0m\u001b[0m\n\u001b[1;32m   1151\u001b[0m       results = self._do_run(handle, final_targets, final_fetches,\n\u001b[0;32m-> 1152\u001b[0;31m                              feed_dict_tensor, options, run_metadata)\n\u001b[0m\u001b[1;32m   1153\u001b[0m     \u001b[0;32melse\u001b[0m\u001b[0;34m:\u001b[0m\u001b[0;34m\u001b[0m\u001b[0m\n\u001b[1;32m   1154\u001b[0m       \u001b[0mresults\u001b[0m \u001b[0;34m=\u001b[0m \u001b[0;34m[\u001b[0m\u001b[0;34m]\u001b[0m\u001b[0;34m\u001b[0m\u001b[0m\n",
      "\u001b[0;32m~/.pyenv/versions/anaconda3-5.2.0/lib/python3.6/site-packages/tensorflow/python/client/session.py\u001b[0m in \u001b[0;36m_do_run\u001b[0;34m(self, handle, target_list, fetch_list, feed_dict, options, run_metadata)\u001b[0m\n\u001b[1;32m   1326\u001b[0m     \u001b[0;32mif\u001b[0m \u001b[0mhandle\u001b[0m \u001b[0;32mis\u001b[0m \u001b[0;32mNone\u001b[0m\u001b[0;34m:\u001b[0m\u001b[0;34m\u001b[0m\u001b[0m\n\u001b[1;32m   1327\u001b[0m       return self._do_call(_run_fn, feeds, fetches, targets, options,\n\u001b[0;32m-> 1328\u001b[0;31m                            run_metadata)\n\u001b[0m\u001b[1;32m   1329\u001b[0m     \u001b[0;32melse\u001b[0m\u001b[0;34m:\u001b[0m\u001b[0;34m\u001b[0m\u001b[0m\n\u001b[1;32m   1330\u001b[0m       \u001b[0;32mreturn\u001b[0m \u001b[0mself\u001b[0m\u001b[0;34m.\u001b[0m\u001b[0m_do_call\u001b[0m\u001b[0;34m(\u001b[0m\u001b[0m_prun_fn\u001b[0m\u001b[0;34m,\u001b[0m \u001b[0mhandle\u001b[0m\u001b[0;34m,\u001b[0m \u001b[0mfeeds\u001b[0m\u001b[0;34m,\u001b[0m \u001b[0mfetches\u001b[0m\u001b[0;34m)\u001b[0m\u001b[0;34m\u001b[0m\u001b[0m\n",
      "\u001b[0;32m~/.pyenv/versions/anaconda3-5.2.0/lib/python3.6/site-packages/tensorflow/python/client/session.py\u001b[0m in \u001b[0;36m_do_call\u001b[0;34m(self, fn, *args)\u001b[0m\n\u001b[1;32m   1346\u001b[0m           \u001b[0;32mpass\u001b[0m\u001b[0;34m\u001b[0m\u001b[0m\n\u001b[1;32m   1347\u001b[0m       \u001b[0mmessage\u001b[0m \u001b[0;34m=\u001b[0m \u001b[0merror_interpolation\u001b[0m\u001b[0;34m.\u001b[0m\u001b[0minterpolate\u001b[0m\u001b[0;34m(\u001b[0m\u001b[0mmessage\u001b[0m\u001b[0;34m,\u001b[0m \u001b[0mself\u001b[0m\u001b[0;34m.\u001b[0m\u001b[0m_graph\u001b[0m\u001b[0;34m)\u001b[0m\u001b[0;34m\u001b[0m\u001b[0m\n\u001b[0;32m-> 1348\u001b[0;31m       \u001b[0;32mraise\u001b[0m \u001b[0mtype\u001b[0m\u001b[0;34m(\u001b[0m\u001b[0me\u001b[0m\u001b[0;34m)\u001b[0m\u001b[0;34m(\u001b[0m\u001b[0mnode_def\u001b[0m\u001b[0;34m,\u001b[0m \u001b[0mop\u001b[0m\u001b[0;34m,\u001b[0m \u001b[0mmessage\u001b[0m\u001b[0;34m)\u001b[0m\u001b[0;34m\u001b[0m\u001b[0m\n\u001b[0m\u001b[1;32m   1349\u001b[0m \u001b[0;34m\u001b[0m\u001b[0m\n\u001b[1;32m   1350\u001b[0m   \u001b[0;32mdef\u001b[0m \u001b[0m_extend_graph\u001b[0m\u001b[0;34m(\u001b[0m\u001b[0mself\u001b[0m\u001b[0;34m)\u001b[0m\u001b[0;34m:\u001b[0m\u001b[0;34m\u001b[0m\u001b[0m\n",
      "\u001b[0;31mFailedPreconditionError\u001b[0m: Attempting to use uninitialized value Variable_7\n\t [[{{node _retval_Variable_7_0_0}}]]"
     ]
    }
   ],
   "source": [
    "sess.run(y)"
   ]
  },
  {
   "cell_type": "code",
   "execution_count": 49,
   "metadata": {},
   "outputs": [],
   "source": [
    "y = y.assign([5])"
   ]
  },
  {
   "cell_type": "code",
   "execution_count": 50,
   "metadata": {},
   "outputs": [
    {
     "data": {
      "text/plain": [
       "array([5], dtype=int32)"
      ]
     },
     "execution_count": 50,
     "metadata": {},
     "output_type": "execute_result"
    }
   ],
   "source": [
    "sess.run(y)"
   ]
  },
  {
   "cell_type": "code",
   "execution_count": 51,
   "metadata": {},
   "outputs": [
    {
     "ename": "AttributeError",
     "evalue": "'Tensor' object has no attribute 'assign'",
     "output_type": "error",
     "traceback": [
      "\u001b[0;31m---------------------------------------------------------------------------\u001b[0m",
      "\u001b[0;31mAttributeError\u001b[0m                            Traceback (most recent call last)",
      "\u001b[0;32m<ipython-input-51-0358f5ce0537>\u001b[0m in \u001b[0;36m<module>\u001b[0;34m()\u001b[0m\n\u001b[0;32m----> 1\u001b[0;31m \u001b[0my\u001b[0m \u001b[0;34m=\u001b[0m \u001b[0my\u001b[0m\u001b[0;34m.\u001b[0m\u001b[0massign\u001b[0m\u001b[0;34m(\u001b[0m\u001b[0;34m[\u001b[0m\u001b[0;36m1.3333\u001b[0m\u001b[0;34m]\u001b[0m\u001b[0;34m)\u001b[0m\u001b[0;34m\u001b[0m\u001b[0m\n\u001b[0m",
      "\u001b[0;31mAttributeError\u001b[0m: 'Tensor' object has no attribute 'assign'"
     ]
    }
   ],
   "source": [
    "y = y.assign([1.3333])"
   ]
  },
  {
   "cell_type": "code",
   "execution_count": 52,
   "metadata": {},
   "outputs": [],
   "source": [
    "y = tf.Variable([1.3324])"
   ]
  },
  {
   "cell_type": "code",
   "execution_count": 53,
   "metadata": {},
   "outputs": [
    {
     "ename": "FailedPreconditionError",
     "evalue": "Attempting to use uninitialized value Variable_8\n\t [[{{node _retval_Variable_8_0_0}}]]",
     "output_type": "error",
     "traceback": [
      "\u001b[0;31m---------------------------------------------------------------------------\u001b[0m",
      "\u001b[0;31mFailedPreconditionError\u001b[0m                   Traceback (most recent call last)",
      "\u001b[0;32m~/.pyenv/versions/anaconda3-5.2.0/lib/python3.6/site-packages/tensorflow/python/client/session.py\u001b[0m in \u001b[0;36m_do_call\u001b[0;34m(self, fn, *args)\u001b[0m\n\u001b[1;32m   1333\u001b[0m     \u001b[0;32mtry\u001b[0m\u001b[0;34m:\u001b[0m\u001b[0;34m\u001b[0m\u001b[0m\n\u001b[0;32m-> 1334\u001b[0;31m       \u001b[0;32mreturn\u001b[0m \u001b[0mfn\u001b[0m\u001b[0;34m(\u001b[0m\u001b[0;34m*\u001b[0m\u001b[0margs\u001b[0m\u001b[0;34m)\u001b[0m\u001b[0;34m\u001b[0m\u001b[0m\n\u001b[0m\u001b[1;32m   1335\u001b[0m     \u001b[0;32mexcept\u001b[0m \u001b[0merrors\u001b[0m\u001b[0;34m.\u001b[0m\u001b[0mOpError\u001b[0m \u001b[0;32mas\u001b[0m \u001b[0me\u001b[0m\u001b[0;34m:\u001b[0m\u001b[0;34m\u001b[0m\u001b[0m\n",
      "\u001b[0;32m~/.pyenv/versions/anaconda3-5.2.0/lib/python3.6/site-packages/tensorflow/python/client/session.py\u001b[0m in \u001b[0;36m_run_fn\u001b[0;34m(feed_dict, fetch_list, target_list, options, run_metadata)\u001b[0m\n\u001b[1;32m   1318\u001b[0m       return self._call_tf_sessionrun(\n\u001b[0;32m-> 1319\u001b[0;31m           options, feed_dict, fetch_list, target_list, run_metadata)\n\u001b[0m\u001b[1;32m   1320\u001b[0m \u001b[0;34m\u001b[0m\u001b[0m\n",
      "\u001b[0;32m~/.pyenv/versions/anaconda3-5.2.0/lib/python3.6/site-packages/tensorflow/python/client/session.py\u001b[0m in \u001b[0;36m_call_tf_sessionrun\u001b[0;34m(self, options, feed_dict, fetch_list, target_list, run_metadata)\u001b[0m\n\u001b[1;32m   1406\u001b[0m         \u001b[0mself\u001b[0m\u001b[0;34m.\u001b[0m\u001b[0m_session\u001b[0m\u001b[0;34m,\u001b[0m \u001b[0moptions\u001b[0m\u001b[0;34m,\u001b[0m \u001b[0mfeed_dict\u001b[0m\u001b[0;34m,\u001b[0m \u001b[0mfetch_list\u001b[0m\u001b[0;34m,\u001b[0m \u001b[0mtarget_list\u001b[0m\u001b[0;34m,\u001b[0m\u001b[0;34m\u001b[0m\u001b[0m\n\u001b[0;32m-> 1407\u001b[0;31m         run_metadata)\n\u001b[0m\u001b[1;32m   1408\u001b[0m \u001b[0;34m\u001b[0m\u001b[0m\n",
      "\u001b[0;31mFailedPreconditionError\u001b[0m: Attempting to use uninitialized value Variable_8\n\t [[{{node _retval_Variable_8_0_0}}]]",
      "\nDuring handling of the above exception, another exception occurred:\n",
      "\u001b[0;31mFailedPreconditionError\u001b[0m                   Traceback (most recent call last)",
      "\u001b[0;32m<ipython-input-53-46f4ee7a2cc7>\u001b[0m in \u001b[0;36m<module>\u001b[0;34m()\u001b[0m\n\u001b[0;32m----> 1\u001b[0;31m \u001b[0msess\u001b[0m\u001b[0;34m.\u001b[0m\u001b[0mrun\u001b[0m\u001b[0;34m(\u001b[0m\u001b[0my\u001b[0m\u001b[0;34m)\u001b[0m\u001b[0;34m\u001b[0m\u001b[0m\n\u001b[0m",
      "\u001b[0;32m~/.pyenv/versions/anaconda3-5.2.0/lib/python3.6/site-packages/tensorflow/python/client/session.py\u001b[0m in \u001b[0;36mrun\u001b[0;34m(self, fetches, feed_dict, options, run_metadata)\u001b[0m\n\u001b[1;32m    927\u001b[0m     \u001b[0;32mtry\u001b[0m\u001b[0;34m:\u001b[0m\u001b[0;34m\u001b[0m\u001b[0m\n\u001b[1;32m    928\u001b[0m       result = self._run(None, fetches, feed_dict, options_ptr,\n\u001b[0;32m--> 929\u001b[0;31m                          run_metadata_ptr)\n\u001b[0m\u001b[1;32m    930\u001b[0m       \u001b[0;32mif\u001b[0m \u001b[0mrun_metadata\u001b[0m\u001b[0;34m:\u001b[0m\u001b[0;34m\u001b[0m\u001b[0m\n\u001b[1;32m    931\u001b[0m         \u001b[0mproto_data\u001b[0m \u001b[0;34m=\u001b[0m \u001b[0mtf_session\u001b[0m\u001b[0;34m.\u001b[0m\u001b[0mTF_GetBuffer\u001b[0m\u001b[0;34m(\u001b[0m\u001b[0mrun_metadata_ptr\u001b[0m\u001b[0;34m)\u001b[0m\u001b[0;34m\u001b[0m\u001b[0m\n",
      "\u001b[0;32m~/.pyenv/versions/anaconda3-5.2.0/lib/python3.6/site-packages/tensorflow/python/client/session.py\u001b[0m in \u001b[0;36m_run\u001b[0;34m(self, handle, fetches, feed_dict, options, run_metadata)\u001b[0m\n\u001b[1;32m   1150\u001b[0m     \u001b[0;32mif\u001b[0m \u001b[0mfinal_fetches\u001b[0m \u001b[0;32mor\u001b[0m \u001b[0mfinal_targets\u001b[0m \u001b[0;32mor\u001b[0m \u001b[0;34m(\u001b[0m\u001b[0mhandle\u001b[0m \u001b[0;32mand\u001b[0m \u001b[0mfeed_dict_tensor\u001b[0m\u001b[0;34m)\u001b[0m\u001b[0;34m:\u001b[0m\u001b[0;34m\u001b[0m\u001b[0m\n\u001b[1;32m   1151\u001b[0m       results = self._do_run(handle, final_targets, final_fetches,\n\u001b[0;32m-> 1152\u001b[0;31m                              feed_dict_tensor, options, run_metadata)\n\u001b[0m\u001b[1;32m   1153\u001b[0m     \u001b[0;32melse\u001b[0m\u001b[0;34m:\u001b[0m\u001b[0;34m\u001b[0m\u001b[0m\n\u001b[1;32m   1154\u001b[0m       \u001b[0mresults\u001b[0m \u001b[0;34m=\u001b[0m \u001b[0;34m[\u001b[0m\u001b[0;34m]\u001b[0m\u001b[0;34m\u001b[0m\u001b[0m\n",
      "\u001b[0;32m~/.pyenv/versions/anaconda3-5.2.0/lib/python3.6/site-packages/tensorflow/python/client/session.py\u001b[0m in \u001b[0;36m_do_run\u001b[0;34m(self, handle, target_list, fetch_list, feed_dict, options, run_metadata)\u001b[0m\n\u001b[1;32m   1326\u001b[0m     \u001b[0;32mif\u001b[0m \u001b[0mhandle\u001b[0m \u001b[0;32mis\u001b[0m \u001b[0;32mNone\u001b[0m\u001b[0;34m:\u001b[0m\u001b[0;34m\u001b[0m\u001b[0m\n\u001b[1;32m   1327\u001b[0m       return self._do_call(_run_fn, feeds, fetches, targets, options,\n\u001b[0;32m-> 1328\u001b[0;31m                            run_metadata)\n\u001b[0m\u001b[1;32m   1329\u001b[0m     \u001b[0;32melse\u001b[0m\u001b[0;34m:\u001b[0m\u001b[0;34m\u001b[0m\u001b[0m\n\u001b[1;32m   1330\u001b[0m       \u001b[0;32mreturn\u001b[0m \u001b[0mself\u001b[0m\u001b[0;34m.\u001b[0m\u001b[0m_do_call\u001b[0m\u001b[0;34m(\u001b[0m\u001b[0m_prun_fn\u001b[0m\u001b[0;34m,\u001b[0m \u001b[0mhandle\u001b[0m\u001b[0;34m,\u001b[0m \u001b[0mfeeds\u001b[0m\u001b[0;34m,\u001b[0m \u001b[0mfetches\u001b[0m\u001b[0;34m)\u001b[0m\u001b[0;34m\u001b[0m\u001b[0m\n",
      "\u001b[0;32m~/.pyenv/versions/anaconda3-5.2.0/lib/python3.6/site-packages/tensorflow/python/client/session.py\u001b[0m in \u001b[0;36m_do_call\u001b[0;34m(self, fn, *args)\u001b[0m\n\u001b[1;32m   1346\u001b[0m           \u001b[0;32mpass\u001b[0m\u001b[0;34m\u001b[0m\u001b[0m\n\u001b[1;32m   1347\u001b[0m       \u001b[0mmessage\u001b[0m \u001b[0;34m=\u001b[0m \u001b[0merror_interpolation\u001b[0m\u001b[0;34m.\u001b[0m\u001b[0minterpolate\u001b[0m\u001b[0;34m(\u001b[0m\u001b[0mmessage\u001b[0m\u001b[0;34m,\u001b[0m \u001b[0mself\u001b[0m\u001b[0;34m.\u001b[0m\u001b[0m_graph\u001b[0m\u001b[0;34m)\u001b[0m\u001b[0;34m\u001b[0m\u001b[0m\n\u001b[0;32m-> 1348\u001b[0;31m       \u001b[0;32mraise\u001b[0m \u001b[0mtype\u001b[0m\u001b[0;34m(\u001b[0m\u001b[0me\u001b[0m\u001b[0;34m)\u001b[0m\u001b[0;34m(\u001b[0m\u001b[0mnode_def\u001b[0m\u001b[0;34m,\u001b[0m \u001b[0mop\u001b[0m\u001b[0;34m,\u001b[0m \u001b[0mmessage\u001b[0m\u001b[0;34m)\u001b[0m\u001b[0;34m\u001b[0m\u001b[0m\n\u001b[0m\u001b[1;32m   1349\u001b[0m \u001b[0;34m\u001b[0m\u001b[0m\n\u001b[1;32m   1350\u001b[0m   \u001b[0;32mdef\u001b[0m \u001b[0m_extend_graph\u001b[0m\u001b[0;34m(\u001b[0m\u001b[0mself\u001b[0m\u001b[0;34m)\u001b[0m\u001b[0;34m:\u001b[0m\u001b[0;34m\u001b[0m\u001b[0m\n",
      "\u001b[0;31mFailedPreconditionError\u001b[0m: Attempting to use uninitialized value Variable_8\n\t [[{{node _retval_Variable_8_0_0}}]]"
     ]
    }
   ],
   "source": [
    "sess.run(y)"
   ]
  },
  {
   "cell_type": "code",
   "execution_count": 54,
   "metadata": {},
   "outputs": [],
   "source": [
    "y = y.assign([5])"
   ]
  },
  {
   "cell_type": "code",
   "execution_count": 55,
   "metadata": {},
   "outputs": [
    {
     "data": {
      "text/plain": [
       "array([5.], dtype=float32)"
      ]
     },
     "execution_count": 55,
     "metadata": {},
     "output_type": "execute_result"
    }
   ],
   "source": [
    "sess.run(y)"
   ]
  },
  {
   "cell_type": "code",
   "execution_count": 56,
   "metadata": {},
   "outputs": [
    {
     "ename": "TypeError",
     "evalue": "Failed to convert object of type <class 'list'> to Tensor. Contents: [<class 'int'>]. Consider casting elements to a supported type.",
     "output_type": "error",
     "traceback": [
      "\u001b[0;31m---------------------------------------------------------------------------\u001b[0m",
      "\u001b[0;31mTypeError\u001b[0m                                 Traceback (most recent call last)",
      "\u001b[0;32m~/.pyenv/versions/anaconda3-5.2.0/lib/python3.6/site-packages/tensorflow/python/framework/tensor_util.py\u001b[0m in \u001b[0;36mmake_tensor_proto\u001b[0;34m(values, dtype, shape, verify_shape, allow_broadcast)\u001b[0m\n\u001b[1;32m    557\u001b[0m     \u001b[0;32mtry\u001b[0m\u001b[0;34m:\u001b[0m\u001b[0;34m\u001b[0m\u001b[0m\n\u001b[0;32m--> 558\u001b[0;31m       \u001b[0mstr_values\u001b[0m \u001b[0;34m=\u001b[0m \u001b[0;34m[\u001b[0m\u001b[0mcompat\u001b[0m\u001b[0;34m.\u001b[0m\u001b[0mas_bytes\u001b[0m\u001b[0;34m(\u001b[0m\u001b[0mx\u001b[0m\u001b[0;34m)\u001b[0m \u001b[0;32mfor\u001b[0m \u001b[0mx\u001b[0m \u001b[0;32min\u001b[0m \u001b[0mproto_values\u001b[0m\u001b[0;34m]\u001b[0m\u001b[0;34m\u001b[0m\u001b[0m\n\u001b[0m\u001b[1;32m    559\u001b[0m     \u001b[0;32mexcept\u001b[0m \u001b[0mTypeError\u001b[0m\u001b[0;34m:\u001b[0m\u001b[0;34m\u001b[0m\u001b[0m\n",
      "\u001b[0;32m~/.pyenv/versions/anaconda3-5.2.0/lib/python3.6/site-packages/tensorflow/python/framework/tensor_util.py\u001b[0m in \u001b[0;36m<listcomp>\u001b[0;34m(.0)\u001b[0m\n\u001b[1;32m    557\u001b[0m     \u001b[0;32mtry\u001b[0m\u001b[0;34m:\u001b[0m\u001b[0;34m\u001b[0m\u001b[0m\n\u001b[0;32m--> 558\u001b[0;31m       \u001b[0mstr_values\u001b[0m \u001b[0;34m=\u001b[0m \u001b[0;34m[\u001b[0m\u001b[0mcompat\u001b[0m\u001b[0;34m.\u001b[0m\u001b[0mas_bytes\u001b[0m\u001b[0;34m(\u001b[0m\u001b[0mx\u001b[0m\u001b[0;34m)\u001b[0m \u001b[0;32mfor\u001b[0m \u001b[0mx\u001b[0m \u001b[0;32min\u001b[0m \u001b[0mproto_values\u001b[0m\u001b[0;34m]\u001b[0m\u001b[0;34m\u001b[0m\u001b[0m\n\u001b[0m\u001b[1;32m    559\u001b[0m     \u001b[0;32mexcept\u001b[0m \u001b[0mTypeError\u001b[0m\u001b[0;34m:\u001b[0m\u001b[0;34m\u001b[0m\u001b[0m\n",
      "\u001b[0;32m~/.pyenv/versions/anaconda3-5.2.0/lib/python3.6/site-packages/tensorflow/python/util/compat.py\u001b[0m in \u001b[0;36mas_bytes\u001b[0;34m(bytes_or_text, encoding)\u001b[0m\n\u001b[1;32m     60\u001b[0m     raise TypeError('Expected binary or unicode string, got %r' %\n\u001b[0;32m---> 61\u001b[0;31m                     (bytes_or_text,))\n\u001b[0m\u001b[1;32m     62\u001b[0m \u001b[0;34m\u001b[0m\u001b[0m\n",
      "\u001b[0;31mTypeError\u001b[0m: Expected binary or unicode string, got <class 'int'>",
      "\nDuring handling of the above exception, another exception occurred:\n",
      "\u001b[0;31mTypeError\u001b[0m                                 Traceback (most recent call last)",
      "\u001b[0;32m<ipython-input-56-7ef1fe31eebb>\u001b[0m in \u001b[0;36m<module>\u001b[0;34m()\u001b[0m\n\u001b[0;32m----> 1\u001b[0;31m \u001b[0my\u001b[0m \u001b[0;34m=\u001b[0m \u001b[0mtf\u001b[0m\u001b[0;34m.\u001b[0m\u001b[0mVariable\u001b[0m\u001b[0;34m(\u001b[0m\u001b[0;34m[\u001b[0m\u001b[0mint\u001b[0m\u001b[0;34m]\u001b[0m\u001b[0;34m)\u001b[0m\u001b[0;34m\u001b[0m\u001b[0m\n\u001b[0m",
      "\u001b[0;32m~/.pyenv/versions/anaconda3-5.2.0/lib/python3.6/site-packages/tensorflow/python/ops/variables.py\u001b[0m in \u001b[0;36m__call__\u001b[0;34m(cls, *args, **kwargs)\u001b[0m\n\u001b[1;32m    211\u001b[0m   \u001b[0;32mdef\u001b[0m \u001b[0m__call__\u001b[0m\u001b[0;34m(\u001b[0m\u001b[0mcls\u001b[0m\u001b[0;34m,\u001b[0m \u001b[0;34m*\u001b[0m\u001b[0margs\u001b[0m\u001b[0;34m,\u001b[0m \u001b[0;34m**\u001b[0m\u001b[0mkwargs\u001b[0m\u001b[0;34m)\u001b[0m\u001b[0;34m:\u001b[0m\u001b[0;34m\u001b[0m\u001b[0m\n\u001b[1;32m    212\u001b[0m     \u001b[0;32mif\u001b[0m \u001b[0mcls\u001b[0m \u001b[0;32mis\u001b[0m \u001b[0mVariableV1\u001b[0m\u001b[0;34m:\u001b[0m\u001b[0;34m\u001b[0m\u001b[0m\n\u001b[0;32m--> 213\u001b[0;31m       \u001b[0;32mreturn\u001b[0m \u001b[0mcls\u001b[0m\u001b[0;34m.\u001b[0m\u001b[0m_variable_v1_call\u001b[0m\u001b[0;34m(\u001b[0m\u001b[0;34m*\u001b[0m\u001b[0margs\u001b[0m\u001b[0;34m,\u001b[0m \u001b[0;34m**\u001b[0m\u001b[0mkwargs\u001b[0m\u001b[0;34m)\u001b[0m\u001b[0;34m\u001b[0m\u001b[0m\n\u001b[0m\u001b[1;32m    214\u001b[0m     \u001b[0;32melif\u001b[0m \u001b[0mcls\u001b[0m \u001b[0;32mis\u001b[0m \u001b[0mVariable\u001b[0m\u001b[0;34m:\u001b[0m\u001b[0;34m\u001b[0m\u001b[0m\n\u001b[1;32m    215\u001b[0m       \u001b[0;32mreturn\u001b[0m \u001b[0mcls\u001b[0m\u001b[0;34m.\u001b[0m\u001b[0m_variable_v2_call\u001b[0m\u001b[0;34m(\u001b[0m\u001b[0;34m*\u001b[0m\u001b[0margs\u001b[0m\u001b[0;34m,\u001b[0m \u001b[0;34m**\u001b[0m\u001b[0mkwargs\u001b[0m\u001b[0;34m)\u001b[0m\u001b[0;34m\u001b[0m\u001b[0m\n",
      "\u001b[0;32m~/.pyenv/versions/anaconda3-5.2.0/lib/python3.6/site-packages/tensorflow/python/ops/variables.py\u001b[0m in \u001b[0;36m_variable_v1_call\u001b[0;34m(cls, initial_value, trainable, collections, validate_shape, caching_device, name, variable_def, dtype, expected_shape, import_scope, constraint, use_resource, synchronization, aggregation)\u001b[0m\n\u001b[1;32m    174\u001b[0m         \u001b[0muse_resource\u001b[0m\u001b[0;34m=\u001b[0m\u001b[0muse_resource\u001b[0m\u001b[0;34m,\u001b[0m\u001b[0;34m\u001b[0m\u001b[0m\n\u001b[1;32m    175\u001b[0m         \u001b[0msynchronization\u001b[0m\u001b[0;34m=\u001b[0m\u001b[0msynchronization\u001b[0m\u001b[0;34m,\u001b[0m\u001b[0;34m\u001b[0m\u001b[0m\n\u001b[0;32m--> 176\u001b[0;31m         aggregation=aggregation)\n\u001b[0m\u001b[1;32m    177\u001b[0m \u001b[0;34m\u001b[0m\u001b[0m\n\u001b[1;32m    178\u001b[0m   def _variable_v2_call(cls,\n",
      "\u001b[0;32m~/.pyenv/versions/anaconda3-5.2.0/lib/python3.6/site-packages/tensorflow/python/ops/variables.py\u001b[0m in \u001b[0;36m<lambda>\u001b[0;34m(**kwargs)\u001b[0m\n\u001b[1;32m    153\u001b[0m                         aggregation=VariableAggregation.NONE):\n\u001b[1;32m    154\u001b[0m     \u001b[0;34m\"\"\"Call on Variable class. Useful to force the signature.\"\"\"\u001b[0m\u001b[0;34m\u001b[0m\u001b[0m\n\u001b[0;32m--> 155\u001b[0;31m     \u001b[0mprevious_getter\u001b[0m \u001b[0;34m=\u001b[0m \u001b[0;32mlambda\u001b[0m \u001b[0;34m**\u001b[0m\u001b[0mkwargs\u001b[0m\u001b[0;34m:\u001b[0m \u001b[0mdefault_variable_creator\u001b[0m\u001b[0;34m(\u001b[0m\u001b[0;32mNone\u001b[0m\u001b[0;34m,\u001b[0m \u001b[0;34m**\u001b[0m\u001b[0mkwargs\u001b[0m\u001b[0;34m)\u001b[0m\u001b[0;34m\u001b[0m\u001b[0m\n\u001b[0m\u001b[1;32m    156\u001b[0m     \u001b[0;32mfor\u001b[0m \u001b[0mgetter\u001b[0m \u001b[0;32min\u001b[0m \u001b[0mops\u001b[0m\u001b[0;34m.\u001b[0m\u001b[0mget_default_graph\u001b[0m\u001b[0;34m(\u001b[0m\u001b[0;34m)\u001b[0m\u001b[0;34m.\u001b[0m\u001b[0m_variable_creator_stack\u001b[0m\u001b[0;34m:\u001b[0m  \u001b[0;31m# pylint: disable=protected-access\u001b[0m\u001b[0;34m\u001b[0m\u001b[0m\n\u001b[1;32m    157\u001b[0m       \u001b[0mprevious_getter\u001b[0m \u001b[0;34m=\u001b[0m \u001b[0m_make_getter\u001b[0m\u001b[0;34m(\u001b[0m\u001b[0mgetter\u001b[0m\u001b[0;34m,\u001b[0m \u001b[0mprevious_getter\u001b[0m\u001b[0;34m)\u001b[0m\u001b[0;34m\u001b[0m\u001b[0m\n",
      "\u001b[0;32m~/.pyenv/versions/anaconda3-5.2.0/lib/python3.6/site-packages/tensorflow/python/ops/variable_scope.py\u001b[0m in \u001b[0;36mdefault_variable_creator\u001b[0;34m(next_creator, **kwargs)\u001b[0m\n\u001b[1;32m   2493\u001b[0m         \u001b[0mcaching_device\u001b[0m\u001b[0;34m=\u001b[0m\u001b[0mcaching_device\u001b[0m\u001b[0;34m,\u001b[0m \u001b[0mname\u001b[0m\u001b[0;34m=\u001b[0m\u001b[0mname\u001b[0m\u001b[0;34m,\u001b[0m \u001b[0mdtype\u001b[0m\u001b[0;34m=\u001b[0m\u001b[0mdtype\u001b[0m\u001b[0;34m,\u001b[0m\u001b[0;34m\u001b[0m\u001b[0m\n\u001b[1;32m   2494\u001b[0m         \u001b[0mconstraint\u001b[0m\u001b[0;34m=\u001b[0m\u001b[0mconstraint\u001b[0m\u001b[0;34m,\u001b[0m \u001b[0mvariable_def\u001b[0m\u001b[0;34m=\u001b[0m\u001b[0mvariable_def\u001b[0m\u001b[0;34m,\u001b[0m\u001b[0;34m\u001b[0m\u001b[0m\n\u001b[0;32m-> 2495\u001b[0;31m         expected_shape=expected_shape, import_scope=import_scope)\n\u001b[0m\u001b[1;32m   2496\u001b[0m \u001b[0;34m\u001b[0m\u001b[0m\n\u001b[1;32m   2497\u001b[0m \u001b[0;34m\u001b[0m\u001b[0m\n",
      "\u001b[0;32m~/.pyenv/versions/anaconda3-5.2.0/lib/python3.6/site-packages/tensorflow/python/ops/variables.py\u001b[0m in \u001b[0;36m__call__\u001b[0;34m(cls, *args, **kwargs)\u001b[0m\n\u001b[1;32m    215\u001b[0m       \u001b[0;32mreturn\u001b[0m \u001b[0mcls\u001b[0m\u001b[0;34m.\u001b[0m\u001b[0m_variable_v2_call\u001b[0m\u001b[0;34m(\u001b[0m\u001b[0;34m*\u001b[0m\u001b[0margs\u001b[0m\u001b[0;34m,\u001b[0m \u001b[0;34m**\u001b[0m\u001b[0mkwargs\u001b[0m\u001b[0;34m)\u001b[0m\u001b[0;34m\u001b[0m\u001b[0m\n\u001b[1;32m    216\u001b[0m     \u001b[0;32melse\u001b[0m\u001b[0;34m:\u001b[0m\u001b[0;34m\u001b[0m\u001b[0m\n\u001b[0;32m--> 217\u001b[0;31m       \u001b[0;32mreturn\u001b[0m \u001b[0msuper\u001b[0m\u001b[0;34m(\u001b[0m\u001b[0mVariableMetaclass\u001b[0m\u001b[0;34m,\u001b[0m \u001b[0mcls\u001b[0m\u001b[0;34m)\u001b[0m\u001b[0;34m.\u001b[0m\u001b[0m__call__\u001b[0m\u001b[0;34m(\u001b[0m\u001b[0;34m*\u001b[0m\u001b[0margs\u001b[0m\u001b[0;34m,\u001b[0m \u001b[0;34m**\u001b[0m\u001b[0mkwargs\u001b[0m\u001b[0;34m)\u001b[0m\u001b[0;34m\u001b[0m\u001b[0m\n\u001b[0m\u001b[1;32m    218\u001b[0m \u001b[0;34m\u001b[0m\u001b[0m\n\u001b[1;32m    219\u001b[0m \u001b[0;34m\u001b[0m\u001b[0m\n",
      "\u001b[0;32m~/.pyenv/versions/anaconda3-5.2.0/lib/python3.6/site-packages/tensorflow/python/ops/variables.py\u001b[0m in \u001b[0;36m__init__\u001b[0;34m(self, initial_value, trainable, collections, validate_shape, caching_device, name, variable_def, dtype, expected_shape, import_scope, constraint)\u001b[0m\n\u001b[1;32m   1393\u001b[0m           \u001b[0mdtype\u001b[0m\u001b[0;34m=\u001b[0m\u001b[0mdtype\u001b[0m\u001b[0;34m,\u001b[0m\u001b[0;34m\u001b[0m\u001b[0m\n\u001b[1;32m   1394\u001b[0m           \u001b[0mexpected_shape\u001b[0m\u001b[0;34m=\u001b[0m\u001b[0mexpected_shape\u001b[0m\u001b[0;34m,\u001b[0m\u001b[0;34m\u001b[0m\u001b[0m\n\u001b[0;32m-> 1395\u001b[0;31m           constraint=constraint)\n\u001b[0m\u001b[1;32m   1396\u001b[0m \u001b[0;34m\u001b[0m\u001b[0m\n\u001b[1;32m   1397\u001b[0m   \u001b[0;32mdef\u001b[0m \u001b[0m__repr__\u001b[0m\u001b[0;34m(\u001b[0m\u001b[0mself\u001b[0m\u001b[0;34m)\u001b[0m\u001b[0;34m:\u001b[0m\u001b[0;34m\u001b[0m\u001b[0m\n",
      "\u001b[0;32m~/.pyenv/versions/anaconda3-5.2.0/lib/python3.6/site-packages/tensorflow/python/ops/variables.py\u001b[0m in \u001b[0;36m_init_from_args\u001b[0;34m(self, initial_value, trainable, collections, validate_shape, caching_device, name, dtype, expected_shape, constraint)\u001b[0m\n\u001b[1;32m   1513\u001b[0m         \u001b[0;32melse\u001b[0m\u001b[0;34m:\u001b[0m\u001b[0;34m\u001b[0m\u001b[0m\n\u001b[1;32m   1514\u001b[0m           self._initial_value = ops.convert_to_tensor(\n\u001b[0;32m-> 1515\u001b[0;31m               initial_value, name=\"initial_value\", dtype=dtype)\n\u001b[0m\u001b[1;32m   1516\u001b[0m           \u001b[0;31m# pylint: disable=protected-access\u001b[0m\u001b[0;34m\u001b[0m\u001b[0;34m\u001b[0m\u001b[0m\n\u001b[1;32m   1517\u001b[0m           \u001b[0;32mif\u001b[0m \u001b[0mself\u001b[0m\u001b[0;34m.\u001b[0m\u001b[0m_initial_value\u001b[0m\u001b[0;34m.\u001b[0m\u001b[0mop\u001b[0m\u001b[0;34m.\u001b[0m\u001b[0m_get_control_flow_context\u001b[0m\u001b[0;34m(\u001b[0m\u001b[0;34m)\u001b[0m \u001b[0;32mis\u001b[0m \u001b[0;32mnot\u001b[0m \u001b[0;32mNone\u001b[0m\u001b[0;34m:\u001b[0m\u001b[0;34m\u001b[0m\u001b[0m\n",
      "\u001b[0;32m~/.pyenv/versions/anaconda3-5.2.0/lib/python3.6/site-packages/tensorflow/python/framework/ops.py\u001b[0m in \u001b[0;36mconvert_to_tensor\u001b[0;34m(value, dtype, name, preferred_dtype)\u001b[0m\n\u001b[1;32m   1037\u001b[0m     \u001b[0mValueError\u001b[0m\u001b[0;34m:\u001b[0m \u001b[0mIf\u001b[0m \u001b[0mthe\u001b[0m\u001b[0;31m \u001b[0m\u001b[0;31m`\u001b[0m\u001b[0mvalue\u001b[0m\u001b[0;31m`\u001b[0m \u001b[0;32mis\u001b[0m \u001b[0ma\u001b[0m \u001b[0mtensor\u001b[0m \u001b[0;32mnot\u001b[0m \u001b[0mof\u001b[0m \u001b[0mgiven\u001b[0m\u001b[0;31m \u001b[0m\u001b[0;31m`\u001b[0m\u001b[0mdtype\u001b[0m\u001b[0;31m`\u001b[0m \u001b[0;32min\u001b[0m \u001b[0mgraph\u001b[0m \u001b[0mmode\u001b[0m\u001b[0;34m.\u001b[0m\u001b[0;34m\u001b[0m\u001b[0m\n\u001b[1;32m   1038\u001b[0m   \"\"\"\n\u001b[0;32m-> 1039\u001b[0;31m   \u001b[0;32mreturn\u001b[0m \u001b[0mconvert_to_tensor_v2\u001b[0m\u001b[0;34m(\u001b[0m\u001b[0mvalue\u001b[0m\u001b[0;34m,\u001b[0m \u001b[0mdtype\u001b[0m\u001b[0;34m,\u001b[0m \u001b[0mpreferred_dtype\u001b[0m\u001b[0;34m,\u001b[0m \u001b[0mname\u001b[0m\u001b[0;34m)\u001b[0m\u001b[0;34m\u001b[0m\u001b[0m\n\u001b[0m\u001b[1;32m   1040\u001b[0m \u001b[0;34m\u001b[0m\u001b[0m\n\u001b[1;32m   1041\u001b[0m \u001b[0;34m\u001b[0m\u001b[0m\n",
      "\u001b[0;32m~/.pyenv/versions/anaconda3-5.2.0/lib/python3.6/site-packages/tensorflow/python/framework/ops.py\u001b[0m in \u001b[0;36mconvert_to_tensor_v2\u001b[0;34m(value, dtype, dtype_hint, name)\u001b[0m\n\u001b[1;32m   1095\u001b[0m       \u001b[0mname\u001b[0m\u001b[0;34m=\u001b[0m\u001b[0mname\u001b[0m\u001b[0;34m,\u001b[0m\u001b[0;34m\u001b[0m\u001b[0m\n\u001b[1;32m   1096\u001b[0m       \u001b[0mpreferred_dtype\u001b[0m\u001b[0;34m=\u001b[0m\u001b[0mdtype_hint\u001b[0m\u001b[0;34m,\u001b[0m\u001b[0;34m\u001b[0m\u001b[0m\n\u001b[0;32m-> 1097\u001b[0;31m       as_ref=False)\n\u001b[0m\u001b[1;32m   1098\u001b[0m \u001b[0;34m\u001b[0m\u001b[0m\n\u001b[1;32m   1099\u001b[0m \u001b[0;34m\u001b[0m\u001b[0m\n",
      "\u001b[0;32m~/.pyenv/versions/anaconda3-5.2.0/lib/python3.6/site-packages/tensorflow/python/framework/ops.py\u001b[0m in \u001b[0;36minternal_convert_to_tensor\u001b[0;34m(value, dtype, name, as_ref, preferred_dtype, ctx, accept_symbolic_tensors)\u001b[0m\n\u001b[1;32m   1173\u001b[0m \u001b[0;34m\u001b[0m\u001b[0m\n\u001b[1;32m   1174\u001b[0m     \u001b[0;32mif\u001b[0m \u001b[0mret\u001b[0m \u001b[0;32mis\u001b[0m \u001b[0;32mNone\u001b[0m\u001b[0;34m:\u001b[0m\u001b[0;34m\u001b[0m\u001b[0m\n\u001b[0;32m-> 1175\u001b[0;31m       \u001b[0mret\u001b[0m \u001b[0;34m=\u001b[0m \u001b[0mconversion_func\u001b[0m\u001b[0;34m(\u001b[0m\u001b[0mvalue\u001b[0m\u001b[0;34m,\u001b[0m \u001b[0mdtype\u001b[0m\u001b[0;34m=\u001b[0m\u001b[0mdtype\u001b[0m\u001b[0;34m,\u001b[0m \u001b[0mname\u001b[0m\u001b[0;34m=\u001b[0m\u001b[0mname\u001b[0m\u001b[0;34m,\u001b[0m \u001b[0mas_ref\u001b[0m\u001b[0;34m=\u001b[0m\u001b[0mas_ref\u001b[0m\u001b[0;34m)\u001b[0m\u001b[0;34m\u001b[0m\u001b[0m\n\u001b[0m\u001b[1;32m   1176\u001b[0m \u001b[0;34m\u001b[0m\u001b[0m\n\u001b[1;32m   1177\u001b[0m     \u001b[0;32mif\u001b[0m \u001b[0mret\u001b[0m \u001b[0;32mis\u001b[0m \u001b[0mNotImplemented\u001b[0m\u001b[0;34m:\u001b[0m\u001b[0;34m\u001b[0m\u001b[0m\n",
      "\u001b[0;32m~/.pyenv/versions/anaconda3-5.2.0/lib/python3.6/site-packages/tensorflow/python/framework/constant_op.py\u001b[0m in \u001b[0;36m_constant_tensor_conversion_function\u001b[0;34m(v, dtype, name, as_ref)\u001b[0m\n\u001b[1;32m    302\u001b[0m                                          as_ref=False):\n\u001b[1;32m    303\u001b[0m   \u001b[0m_\u001b[0m \u001b[0;34m=\u001b[0m \u001b[0mas_ref\u001b[0m\u001b[0;34m\u001b[0m\u001b[0m\n\u001b[0;32m--> 304\u001b[0;31m   \u001b[0;32mreturn\u001b[0m \u001b[0mconstant\u001b[0m\u001b[0;34m(\u001b[0m\u001b[0mv\u001b[0m\u001b[0;34m,\u001b[0m \u001b[0mdtype\u001b[0m\u001b[0;34m=\u001b[0m\u001b[0mdtype\u001b[0m\u001b[0;34m,\u001b[0m \u001b[0mname\u001b[0m\u001b[0;34m=\u001b[0m\u001b[0mname\u001b[0m\u001b[0;34m)\u001b[0m\u001b[0;34m\u001b[0m\u001b[0m\n\u001b[0m\u001b[1;32m    305\u001b[0m \u001b[0;34m\u001b[0m\u001b[0m\n\u001b[1;32m    306\u001b[0m \u001b[0;34m\u001b[0m\u001b[0m\n",
      "\u001b[0;32m~/.pyenv/versions/anaconda3-5.2.0/lib/python3.6/site-packages/tensorflow/python/framework/constant_op.py\u001b[0m in \u001b[0;36mconstant\u001b[0;34m(value, dtype, shape, name)\u001b[0m\n\u001b[1;32m    243\u001b[0m   \"\"\"\n\u001b[1;32m    244\u001b[0m   return _constant_impl(value, dtype, shape, name, verify_shape=False,\n\u001b[0;32m--> 245\u001b[0;31m                         allow_broadcast=True)\n\u001b[0m\u001b[1;32m    246\u001b[0m \u001b[0;34m\u001b[0m\u001b[0m\n\u001b[1;32m    247\u001b[0m \u001b[0;34m\u001b[0m\u001b[0m\n",
      "\u001b[0;32m~/.pyenv/versions/anaconda3-5.2.0/lib/python3.6/site-packages/tensorflow/python/framework/constant_op.py\u001b[0m in \u001b[0;36m_constant_impl\u001b[0;34m(value, dtype, shape, name, verify_shape, allow_broadcast)\u001b[0m\n\u001b[1;32m    281\u001b[0m       tensor_util.make_tensor_proto(\n\u001b[1;32m    282\u001b[0m           \u001b[0mvalue\u001b[0m\u001b[0;34m,\u001b[0m \u001b[0mdtype\u001b[0m\u001b[0;34m=\u001b[0m\u001b[0mdtype\u001b[0m\u001b[0;34m,\u001b[0m \u001b[0mshape\u001b[0m\u001b[0;34m=\u001b[0m\u001b[0mshape\u001b[0m\u001b[0;34m,\u001b[0m \u001b[0mverify_shape\u001b[0m\u001b[0;34m=\u001b[0m\u001b[0mverify_shape\u001b[0m\u001b[0;34m,\u001b[0m\u001b[0;34m\u001b[0m\u001b[0m\n\u001b[0;32m--> 283\u001b[0;31m           allow_broadcast=allow_broadcast))\n\u001b[0m\u001b[1;32m    284\u001b[0m   \u001b[0mdtype_value\u001b[0m \u001b[0;34m=\u001b[0m \u001b[0mattr_value_pb2\u001b[0m\u001b[0;34m.\u001b[0m\u001b[0mAttrValue\u001b[0m\u001b[0;34m(\u001b[0m\u001b[0mtype\u001b[0m\u001b[0;34m=\u001b[0m\u001b[0mtensor_value\u001b[0m\u001b[0;34m.\u001b[0m\u001b[0mtensor\u001b[0m\u001b[0;34m.\u001b[0m\u001b[0mdtype\u001b[0m\u001b[0;34m)\u001b[0m\u001b[0;34m\u001b[0m\u001b[0m\n\u001b[1;32m    285\u001b[0m   const_tensor = g.create_op(\n",
      "\u001b[0;32m~/.pyenv/versions/anaconda3-5.2.0/lib/python3.6/site-packages/tensorflow/python/framework/tensor_util.py\u001b[0m in \u001b[0;36mmake_tensor_proto\u001b[0;34m(values, dtype, shape, verify_shape, allow_broadcast)\u001b[0m\n\u001b[1;32m    560\u001b[0m       raise TypeError(\"Failed to convert object of type %s to Tensor. \"\n\u001b[1;32m    561\u001b[0m                       \u001b[0;34m\"Contents: %s. Consider casting elements to a \"\u001b[0m\u001b[0;34m\u001b[0m\u001b[0m\n\u001b[0;32m--> 562\u001b[0;31m                       \"supported type.\" % (type(values), values))\n\u001b[0m\u001b[1;32m    563\u001b[0m     \u001b[0mtensor_proto\u001b[0m\u001b[0;34m.\u001b[0m\u001b[0mstring_val\u001b[0m\u001b[0;34m.\u001b[0m\u001b[0mextend\u001b[0m\u001b[0;34m(\u001b[0m\u001b[0mstr_values\u001b[0m\u001b[0;34m)\u001b[0m\u001b[0;34m\u001b[0m\u001b[0m\n\u001b[1;32m    564\u001b[0m     \u001b[0;32mreturn\u001b[0m \u001b[0mtensor_proto\u001b[0m\u001b[0;34m\u001b[0m\u001b[0m\n",
      "\u001b[0;31mTypeError\u001b[0m: Failed to convert object of type <class 'list'> to Tensor. Contents: [<class 'int'>]. Consider casting elements to a supported type."
     ]
    }
   ],
   "source": [
    "y = tf.Variable([int])\n"
   ]
  },
  {
   "cell_type": "code",
   "execution_count": 57,
   "metadata": {},
   "outputs": [
    {
     "ename": "SyntaxError",
     "evalue": "invalid syntax (<ipython-input-57-b536291d7c14>, line 1)",
     "output_type": "error",
     "traceback": [
      "\u001b[0;36m  File \u001b[0;32m\"<ipython-input-57-b536291d7c14>\"\u001b[0;36m, line \u001b[0;32m1\u001b[0m\n\u001b[0;31m    y = tf.Variable([%d])\u001b[0m\n\u001b[0m                     ^\u001b[0m\n\u001b[0;31mSyntaxError\u001b[0m\u001b[0;31m:\u001b[0m invalid syntax\n"
     ]
    }
   ],
   "source": [
    "y = tf.Variable([%d])"
   ]
  },
  {
   "cell_type": "code",
   "execution_count": 58,
   "metadata": {},
   "outputs": [],
   "source": [
    "y = tf.Variable([1, 3, 4])"
   ]
  },
  {
   "cell_type": "code",
   "execution_count": 59,
   "metadata": {},
   "outputs": [
    {
     "ename": "ValueError",
     "evalue": "Dimension 0 in both shapes must be equal, but are 3 and 2. Shapes are [3] and [2]. for 'Assign_7' (op: 'Assign') with input shapes: [3], [2].",
     "output_type": "error",
     "traceback": [
      "\u001b[0;31m---------------------------------------------------------------------------\u001b[0m",
      "\u001b[0;31mInvalidArgumentError\u001b[0m                      Traceback (most recent call last)",
      "\u001b[0;32m~/.pyenv/versions/anaconda3-5.2.0/lib/python3.6/site-packages/tensorflow/python/framework/ops.py\u001b[0m in \u001b[0;36m_create_c_op\u001b[0;34m(graph, node_def, inputs, control_inputs)\u001b[0m\n\u001b[1;32m   1658\u001b[0m   \u001b[0;32mtry\u001b[0m\u001b[0;34m:\u001b[0m\u001b[0;34m\u001b[0m\u001b[0m\n\u001b[0;32m-> 1659\u001b[0;31m     \u001b[0mc_op\u001b[0m \u001b[0;34m=\u001b[0m \u001b[0mc_api\u001b[0m\u001b[0;34m.\u001b[0m\u001b[0mTF_FinishOperation\u001b[0m\u001b[0;34m(\u001b[0m\u001b[0mop_desc\u001b[0m\u001b[0;34m)\u001b[0m\u001b[0;34m\u001b[0m\u001b[0m\n\u001b[0m\u001b[1;32m   1660\u001b[0m   \u001b[0;32mexcept\u001b[0m \u001b[0merrors\u001b[0m\u001b[0;34m.\u001b[0m\u001b[0mInvalidArgumentError\u001b[0m \u001b[0;32mas\u001b[0m \u001b[0me\u001b[0m\u001b[0;34m:\u001b[0m\u001b[0;34m\u001b[0m\u001b[0m\n",
      "\u001b[0;31mInvalidArgumentError\u001b[0m: Dimension 0 in both shapes must be equal, but are 3 and 2. Shapes are [3] and [2]. for 'Assign_7' (op: 'Assign') with input shapes: [3], [2].",
      "\nDuring handling of the above exception, another exception occurred:\n",
      "\u001b[0;31mValueError\u001b[0m                                Traceback (most recent call last)",
      "\u001b[0;32m<ipython-input-59-58d41081e8b9>\u001b[0m in \u001b[0;36m<module>\u001b[0;34m()\u001b[0m\n\u001b[0;32m----> 1\u001b[0;31m \u001b[0my\u001b[0m \u001b[0;34m=\u001b[0m \u001b[0my\u001b[0m\u001b[0;34m.\u001b[0m\u001b[0massign\u001b[0m\u001b[0;34m(\u001b[0m\u001b[0;34m[\u001b[0m\u001b[0;36m1\u001b[0m\u001b[0;34m,\u001b[0m \u001b[0;36m2\u001b[0m\u001b[0;34m]\u001b[0m\u001b[0;34m)\u001b[0m\u001b[0;34m\u001b[0m\u001b[0m\n\u001b[0m",
      "\u001b[0;32m~/.pyenv/versions/anaconda3-5.2.0/lib/python3.6/site-packages/tensorflow/python/ops/variables.py\u001b[0m in \u001b[0;36massign\u001b[0;34m(self, value, use_locking, name, read_value)\u001b[0m\n\u001b[1;32m   1760\u001b[0m     \"\"\"\n\u001b[1;32m   1761\u001b[0m     assign = state_ops.assign(self._variable, value, use_locking=use_locking,\n\u001b[0;32m-> 1762\u001b[0;31m                               name=name)\n\u001b[0m\u001b[1;32m   1763\u001b[0m     \u001b[0;32mif\u001b[0m \u001b[0mread_value\u001b[0m\u001b[0;34m:\u001b[0m\u001b[0;34m\u001b[0m\u001b[0m\n\u001b[1;32m   1764\u001b[0m       \u001b[0;32mreturn\u001b[0m \u001b[0massign\u001b[0m\u001b[0;34m\u001b[0m\u001b[0m\n",
      "\u001b[0;32m~/.pyenv/versions/anaconda3-5.2.0/lib/python3.6/site-packages/tensorflow/python/ops/state_ops.py\u001b[0m in \u001b[0;36massign\u001b[0;34m(ref, value, validate_shape, use_locking, name)\u001b[0m\n\u001b[1;32m    221\u001b[0m     return gen_state_ops.assign(\n\u001b[1;32m    222\u001b[0m         \u001b[0mref\u001b[0m\u001b[0;34m,\u001b[0m \u001b[0mvalue\u001b[0m\u001b[0;34m,\u001b[0m \u001b[0muse_locking\u001b[0m\u001b[0;34m=\u001b[0m\u001b[0muse_locking\u001b[0m\u001b[0;34m,\u001b[0m \u001b[0mname\u001b[0m\u001b[0;34m=\u001b[0m\u001b[0mname\u001b[0m\u001b[0;34m,\u001b[0m\u001b[0;34m\u001b[0m\u001b[0m\n\u001b[0;32m--> 223\u001b[0;31m         validate_shape=validate_shape)\n\u001b[0m\u001b[1;32m    224\u001b[0m   \u001b[0;32mreturn\u001b[0m \u001b[0mref\u001b[0m\u001b[0;34m.\u001b[0m\u001b[0massign\u001b[0m\u001b[0;34m(\u001b[0m\u001b[0mvalue\u001b[0m\u001b[0;34m,\u001b[0m \u001b[0mname\u001b[0m\u001b[0;34m=\u001b[0m\u001b[0mname\u001b[0m\u001b[0;34m)\u001b[0m\u001b[0;34m\u001b[0m\u001b[0m\n\u001b[1;32m    225\u001b[0m \u001b[0;34m\u001b[0m\u001b[0m\n",
      "\u001b[0;32m~/.pyenv/versions/anaconda3-5.2.0/lib/python3.6/site-packages/tensorflow/python/ops/gen_state_ops.py\u001b[0m in \u001b[0;36massign\u001b[0;34m(ref, value, validate_shape, use_locking, name)\u001b[0m\n\u001b[1;32m     62\u001b[0m   _, _, _op = _op_def_lib._apply_op_helper(\n\u001b[1;32m     63\u001b[0m         \u001b[0;34m\"Assign\"\u001b[0m\u001b[0;34m,\u001b[0m \u001b[0mref\u001b[0m\u001b[0;34m=\u001b[0m\u001b[0mref\u001b[0m\u001b[0;34m,\u001b[0m \u001b[0mvalue\u001b[0m\u001b[0;34m=\u001b[0m\u001b[0mvalue\u001b[0m\u001b[0;34m,\u001b[0m \u001b[0mvalidate_shape\u001b[0m\u001b[0;34m=\u001b[0m\u001b[0mvalidate_shape\u001b[0m\u001b[0;34m,\u001b[0m\u001b[0;34m\u001b[0m\u001b[0m\n\u001b[0;32m---> 64\u001b[0;31m                   use_locking=use_locking, name=name)\n\u001b[0m\u001b[1;32m     65\u001b[0m   \u001b[0m_result\u001b[0m \u001b[0;34m=\u001b[0m \u001b[0m_op\u001b[0m\u001b[0;34m.\u001b[0m\u001b[0moutputs\u001b[0m\u001b[0;34m[\u001b[0m\u001b[0;34m:\u001b[0m\u001b[0;34m]\u001b[0m\u001b[0;34m\u001b[0m\u001b[0m\n\u001b[1;32m     66\u001b[0m   \u001b[0m_inputs_flat\u001b[0m \u001b[0;34m=\u001b[0m \u001b[0m_op\u001b[0m\u001b[0;34m.\u001b[0m\u001b[0minputs\u001b[0m\u001b[0;34m\u001b[0m\u001b[0m\n",
      "\u001b[0;32m~/.pyenv/versions/anaconda3-5.2.0/lib/python3.6/site-packages/tensorflow/python/framework/op_def_library.py\u001b[0m in \u001b[0;36m_apply_op_helper\u001b[0;34m(self, op_type_name, name, **keywords)\u001b[0m\n\u001b[1;32m    786\u001b[0m         op = g.create_op(op_type_name, inputs, output_types, name=scope,\n\u001b[1;32m    787\u001b[0m                          \u001b[0minput_types\u001b[0m\u001b[0;34m=\u001b[0m\u001b[0minput_types\u001b[0m\u001b[0;34m,\u001b[0m \u001b[0mattrs\u001b[0m\u001b[0;34m=\u001b[0m\u001b[0mattr_protos\u001b[0m\u001b[0;34m,\u001b[0m\u001b[0;34m\u001b[0m\u001b[0m\n\u001b[0;32m--> 788\u001b[0;31m                          op_def=op_def)\n\u001b[0m\u001b[1;32m    789\u001b[0m       \u001b[0;32mreturn\u001b[0m \u001b[0moutput_structure\u001b[0m\u001b[0;34m,\u001b[0m \u001b[0mop_def\u001b[0m\u001b[0;34m.\u001b[0m\u001b[0mis_stateful\u001b[0m\u001b[0;34m,\u001b[0m \u001b[0mop\u001b[0m\u001b[0;34m\u001b[0m\u001b[0m\n\u001b[1;32m    790\u001b[0m \u001b[0;34m\u001b[0m\u001b[0m\n",
      "\u001b[0;32m~/.pyenv/versions/anaconda3-5.2.0/lib/python3.6/site-packages/tensorflow/python/util/deprecation.py\u001b[0m in \u001b[0;36mnew_func\u001b[0;34m(*args, **kwargs)\u001b[0m\n\u001b[1;32m    505\u001b[0m                 \u001b[0;34m'in a future version'\u001b[0m \u001b[0;32mif\u001b[0m \u001b[0mdate\u001b[0m \u001b[0;32mis\u001b[0m \u001b[0;32mNone\u001b[0m \u001b[0;32melse\u001b[0m \u001b[0;34m(\u001b[0m\u001b[0;34m'after %s'\u001b[0m \u001b[0;34m%\u001b[0m \u001b[0mdate\u001b[0m\u001b[0;34m)\u001b[0m\u001b[0;34m,\u001b[0m\u001b[0;34m\u001b[0m\u001b[0m\n\u001b[1;32m    506\u001b[0m                 instructions)\n\u001b[0;32m--> 507\u001b[0;31m       \u001b[0;32mreturn\u001b[0m \u001b[0mfunc\u001b[0m\u001b[0;34m(\u001b[0m\u001b[0;34m*\u001b[0m\u001b[0margs\u001b[0m\u001b[0;34m,\u001b[0m \u001b[0;34m**\u001b[0m\u001b[0mkwargs\u001b[0m\u001b[0;34m)\u001b[0m\u001b[0;34m\u001b[0m\u001b[0m\n\u001b[0m\u001b[1;32m    508\u001b[0m \u001b[0;34m\u001b[0m\u001b[0m\n\u001b[1;32m    509\u001b[0m     doc = _add_deprecated_arg_notice_to_docstring(\n",
      "\u001b[0;32m~/.pyenv/versions/anaconda3-5.2.0/lib/python3.6/site-packages/tensorflow/python/framework/ops.py\u001b[0m in \u001b[0;36mcreate_op\u001b[0;34m(***failed resolving arguments***)\u001b[0m\n\u001b[1;32m   3298\u001b[0m           \u001b[0minput_types\u001b[0m\u001b[0;34m=\u001b[0m\u001b[0minput_types\u001b[0m\u001b[0;34m,\u001b[0m\u001b[0;34m\u001b[0m\u001b[0m\n\u001b[1;32m   3299\u001b[0m           \u001b[0moriginal_op\u001b[0m\u001b[0;34m=\u001b[0m\u001b[0mself\u001b[0m\u001b[0;34m.\u001b[0m\u001b[0m_default_original_op\u001b[0m\u001b[0;34m,\u001b[0m\u001b[0;34m\u001b[0m\u001b[0m\n\u001b[0;32m-> 3300\u001b[0;31m           op_def=op_def)\n\u001b[0m\u001b[1;32m   3301\u001b[0m       \u001b[0mself\u001b[0m\u001b[0;34m.\u001b[0m\u001b[0m_create_op_helper\u001b[0m\u001b[0;34m(\u001b[0m\u001b[0mret\u001b[0m\u001b[0;34m,\u001b[0m \u001b[0mcompute_device\u001b[0m\u001b[0;34m=\u001b[0m\u001b[0mcompute_device\u001b[0m\u001b[0;34m)\u001b[0m\u001b[0;34m\u001b[0m\u001b[0m\n\u001b[1;32m   3302\u001b[0m     \u001b[0;32mreturn\u001b[0m \u001b[0mret\u001b[0m\u001b[0;34m\u001b[0m\u001b[0m\n",
      "\u001b[0;32m~/.pyenv/versions/anaconda3-5.2.0/lib/python3.6/site-packages/tensorflow/python/framework/ops.py\u001b[0m in \u001b[0;36m__init__\u001b[0;34m(self, node_def, g, inputs, output_types, control_inputs, input_types, original_op, op_def)\u001b[0m\n\u001b[1;32m   1821\u001b[0m           op_def, inputs, node_def.attr)\n\u001b[1;32m   1822\u001b[0m       self._c_op = _create_c_op(self._graph, node_def, grouped_inputs,\n\u001b[0;32m-> 1823\u001b[0;31m                                 control_input_ops)\n\u001b[0m\u001b[1;32m   1824\u001b[0m \u001b[0;34m\u001b[0m\u001b[0m\n\u001b[1;32m   1825\u001b[0m     \u001b[0;31m# Initialize self._outputs.\u001b[0m\u001b[0;34m\u001b[0m\u001b[0;34m\u001b[0m\u001b[0m\n",
      "\u001b[0;32m~/.pyenv/versions/anaconda3-5.2.0/lib/python3.6/site-packages/tensorflow/python/framework/ops.py\u001b[0m in \u001b[0;36m_create_c_op\u001b[0;34m(graph, node_def, inputs, control_inputs)\u001b[0m\n\u001b[1;32m   1660\u001b[0m   \u001b[0;32mexcept\u001b[0m \u001b[0merrors\u001b[0m\u001b[0;34m.\u001b[0m\u001b[0mInvalidArgumentError\u001b[0m \u001b[0;32mas\u001b[0m \u001b[0me\u001b[0m\u001b[0;34m:\u001b[0m\u001b[0;34m\u001b[0m\u001b[0m\n\u001b[1;32m   1661\u001b[0m     \u001b[0;31m# Convert to ValueError for backwards compatibility.\u001b[0m\u001b[0;34m\u001b[0m\u001b[0;34m\u001b[0m\u001b[0m\n\u001b[0;32m-> 1662\u001b[0;31m     \u001b[0;32mraise\u001b[0m \u001b[0mValueError\u001b[0m\u001b[0;34m(\u001b[0m\u001b[0mstr\u001b[0m\u001b[0;34m(\u001b[0m\u001b[0me\u001b[0m\u001b[0;34m)\u001b[0m\u001b[0;34m)\u001b[0m\u001b[0;34m\u001b[0m\u001b[0m\n\u001b[0m\u001b[1;32m   1663\u001b[0m \u001b[0;34m\u001b[0m\u001b[0m\n\u001b[1;32m   1664\u001b[0m   \u001b[0;32mreturn\u001b[0m \u001b[0mc_op\u001b[0m\u001b[0;34m\u001b[0m\u001b[0m\n",
      "\u001b[0;31mValueError\u001b[0m: Dimension 0 in both shapes must be equal, but are 3 and 2. Shapes are [3] and [2]. for 'Assign_7' (op: 'Assign') with input shapes: [3], [2]."
     ]
    }
   ],
   "source": [
    "y = y.assign([1, 2])"
   ]
  },
  {
   "cell_type": "code",
   "execution_count": null,
   "metadata": {},
   "outputs": [],
   "source": []
  }
 ],
 "metadata": {
  "kernelspec": {
   "display_name": "Python 3",
   "language": "python",
   "name": "python3"
  },
  "language_info": {
   "codemirror_mode": {
    "name": "ipython",
    "version": 3
   },
   "file_extension": ".py",
   "mimetype": "text/x-python",
   "name": "python",
   "nbconvert_exporter": "python",
   "pygments_lexer": "ipython3",
   "version": "3.6.0"
  }
 },
 "nbformat": 4,
 "nbformat_minor": 2
}
